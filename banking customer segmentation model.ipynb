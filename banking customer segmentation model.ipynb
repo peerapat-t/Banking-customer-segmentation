{
 "cells": [
  {
   "cell_type": "code",
   "execution_count": 16,
   "metadata": {},
   "outputs": [],
   "source": [
    "import pandas as pd\n",
    "import numpy as np\n",
    "import matplotlib.pyplot as plt\n",
    "from datetime import datetime, date\n",
    "import seaborn as sns"
   ]
  },
  {
   "cell_type": "code",
   "execution_count": 17,
   "metadata": {},
   "outputs": [],
   "source": [
    "from sklearn.preprocessing import MinMaxScaler"
   ]
  },
  {
   "cell_type": "markdown",
   "metadata": {},
   "source": [
    "# 1. Load data"
   ]
  },
  {
   "cell_type": "code",
   "execution_count": 18,
   "metadata": {},
   "outputs": [],
   "source": [
    "# data set from https://www.kaggle.com/datasets/shivamb/bank-customer-segmentation"
   ]
  },
  {
   "cell_type": "code",
   "execution_count": 19,
   "metadata": {},
   "outputs": [],
   "source": [
    "df = pd.read_csv(\"bank_transactions.csv\")"
   ]
  },
  {
   "cell_type": "code",
   "execution_count": 20,
   "metadata": {},
   "outputs": [
    {
     "data": {
      "text/html": [
       "<div>\n",
       "<style scoped>\n",
       "    .dataframe tbody tr th:only-of-type {\n",
       "        vertical-align: middle;\n",
       "    }\n",
       "\n",
       "    .dataframe tbody tr th {\n",
       "        vertical-align: top;\n",
       "    }\n",
       "\n",
       "    .dataframe thead th {\n",
       "        text-align: right;\n",
       "    }\n",
       "</style>\n",
       "<table border=\"1\" class=\"dataframe\">\n",
       "  <thead>\n",
       "    <tr style=\"text-align: right;\">\n",
       "      <th></th>\n",
       "      <th>TransactionID</th>\n",
       "      <th>CustomerID</th>\n",
       "      <th>CustomerDOB</th>\n",
       "      <th>CustGender</th>\n",
       "      <th>CustLocation</th>\n",
       "      <th>CustAccountBalance</th>\n",
       "      <th>TransactionDate</th>\n",
       "      <th>TransactionTime</th>\n",
       "      <th>TransactionAmount (INR)</th>\n",
       "    </tr>\n",
       "  </thead>\n",
       "  <tbody>\n",
       "    <tr>\n",
       "      <th>0</th>\n",
       "      <td>T1</td>\n",
       "      <td>C5841053</td>\n",
       "      <td>10/1/94</td>\n",
       "      <td>F</td>\n",
       "      <td>JAMSHEDPUR</td>\n",
       "      <td>17819.05</td>\n",
       "      <td>2/8/16</td>\n",
       "      <td>143207</td>\n",
       "      <td>25.00</td>\n",
       "    </tr>\n",
       "    <tr>\n",
       "      <th>1</th>\n",
       "      <td>T2</td>\n",
       "      <td>C2142763</td>\n",
       "      <td>4/4/57</td>\n",
       "      <td>M</td>\n",
       "      <td>JHAJJAR</td>\n",
       "      <td>2270.69</td>\n",
       "      <td>2/8/16</td>\n",
       "      <td>141858</td>\n",
       "      <td>27999.00</td>\n",
       "    </tr>\n",
       "    <tr>\n",
       "      <th>2</th>\n",
       "      <td>T3</td>\n",
       "      <td>C4417068</td>\n",
       "      <td>26/11/96</td>\n",
       "      <td>F</td>\n",
       "      <td>MUMBAI</td>\n",
       "      <td>17874.44</td>\n",
       "      <td>2/8/16</td>\n",
       "      <td>142712</td>\n",
       "      <td>459.00</td>\n",
       "    </tr>\n",
       "    <tr>\n",
       "      <th>3</th>\n",
       "      <td>T4</td>\n",
       "      <td>C5342380</td>\n",
       "      <td>14/9/73</td>\n",
       "      <td>F</td>\n",
       "      <td>MUMBAI</td>\n",
       "      <td>866503.21</td>\n",
       "      <td>2/8/16</td>\n",
       "      <td>142714</td>\n",
       "      <td>2060.00</td>\n",
       "    </tr>\n",
       "    <tr>\n",
       "      <th>4</th>\n",
       "      <td>T5</td>\n",
       "      <td>C9031234</td>\n",
       "      <td>24/3/88</td>\n",
       "      <td>F</td>\n",
       "      <td>NAVI MUMBAI</td>\n",
       "      <td>6714.43</td>\n",
       "      <td>2/8/16</td>\n",
       "      <td>181156</td>\n",
       "      <td>1762.50</td>\n",
       "    </tr>\n",
       "    <tr>\n",
       "      <th>5</th>\n",
       "      <td>T6</td>\n",
       "      <td>C1536588</td>\n",
       "      <td>8/10/72</td>\n",
       "      <td>F</td>\n",
       "      <td>ITANAGAR</td>\n",
       "      <td>53609.20</td>\n",
       "      <td>2/8/16</td>\n",
       "      <td>173940</td>\n",
       "      <td>676.00</td>\n",
       "    </tr>\n",
       "    <tr>\n",
       "      <th>6</th>\n",
       "      <td>T7</td>\n",
       "      <td>C7126560</td>\n",
       "      <td>26/1/92</td>\n",
       "      <td>F</td>\n",
       "      <td>MUMBAI</td>\n",
       "      <td>973.46</td>\n",
       "      <td>2/8/16</td>\n",
       "      <td>173806</td>\n",
       "      <td>566.00</td>\n",
       "    </tr>\n",
       "    <tr>\n",
       "      <th>7</th>\n",
       "      <td>T8</td>\n",
       "      <td>C1220223</td>\n",
       "      <td>27/1/82</td>\n",
       "      <td>M</td>\n",
       "      <td>MUMBAI</td>\n",
       "      <td>95075.54</td>\n",
       "      <td>2/8/16</td>\n",
       "      <td>170537</td>\n",
       "      <td>148.00</td>\n",
       "    </tr>\n",
       "    <tr>\n",
       "      <th>8</th>\n",
       "      <td>T9</td>\n",
       "      <td>C8536061</td>\n",
       "      <td>19/4/88</td>\n",
       "      <td>F</td>\n",
       "      <td>GURGAON</td>\n",
       "      <td>14906.96</td>\n",
       "      <td>2/8/16</td>\n",
       "      <td>192825</td>\n",
       "      <td>833.00</td>\n",
       "    </tr>\n",
       "    <tr>\n",
       "      <th>9</th>\n",
       "      <td>T10</td>\n",
       "      <td>C6638934</td>\n",
       "      <td>22/6/84</td>\n",
       "      <td>M</td>\n",
       "      <td>MUMBAI</td>\n",
       "      <td>4279.22</td>\n",
       "      <td>2/8/16</td>\n",
       "      <td>192446</td>\n",
       "      <td>289.11</td>\n",
       "    </tr>\n",
       "  </tbody>\n",
       "</table>\n",
       "</div>"
      ],
      "text/plain": [
       "  TransactionID CustomerID CustomerDOB CustGender CustLocation  \\\n",
       "0            T1   C5841053     10/1/94          F   JAMSHEDPUR   \n",
       "1            T2   C2142763      4/4/57          M      JHAJJAR   \n",
       "2            T3   C4417068    26/11/96          F       MUMBAI   \n",
       "3            T4   C5342380     14/9/73          F       MUMBAI   \n",
       "4            T5   C9031234     24/3/88          F  NAVI MUMBAI   \n",
       "5            T6   C1536588     8/10/72          F     ITANAGAR   \n",
       "6            T7   C7126560     26/1/92          F       MUMBAI   \n",
       "7            T8   C1220223     27/1/82          M       MUMBAI   \n",
       "8            T9   C8536061     19/4/88          F      GURGAON   \n",
       "9           T10   C6638934     22/6/84          M       MUMBAI   \n",
       "\n",
       "   CustAccountBalance TransactionDate  TransactionTime  \\\n",
       "0            17819.05          2/8/16           143207   \n",
       "1             2270.69          2/8/16           141858   \n",
       "2            17874.44          2/8/16           142712   \n",
       "3           866503.21          2/8/16           142714   \n",
       "4             6714.43          2/8/16           181156   \n",
       "5            53609.20          2/8/16           173940   \n",
       "6              973.46          2/8/16           173806   \n",
       "7            95075.54          2/8/16           170537   \n",
       "8            14906.96          2/8/16           192825   \n",
       "9             4279.22          2/8/16           192446   \n",
       "\n",
       "   TransactionAmount (INR)  \n",
       "0                    25.00  \n",
       "1                 27999.00  \n",
       "2                   459.00  \n",
       "3                  2060.00  \n",
       "4                  1762.50  \n",
       "5                   676.00  \n",
       "6                   566.00  \n",
       "7                   148.00  \n",
       "8                   833.00  \n",
       "9                   289.11  "
      ]
     },
     "execution_count": 20,
     "metadata": {},
     "output_type": "execute_result"
    }
   ],
   "source": [
    "df.head(10)"
   ]
  },
  {
   "cell_type": "markdown",
   "metadata": {},
   "source": [
    "# 2. Check data quarity"
   ]
  },
  {
   "cell_type": "code",
   "execution_count": 21,
   "metadata": {},
   "outputs": [],
   "source": [
    "# check data type"
   ]
  },
  {
   "cell_type": "code",
   "execution_count": 22,
   "metadata": {},
   "outputs": [
    {
     "name": "stdout",
     "output_type": "stream",
     "text": [
      "<class 'pandas.core.frame.DataFrame'>\n",
      "RangeIndex: 1048567 entries, 0 to 1048566\n",
      "Data columns (total 9 columns):\n",
      " #   Column                   Non-Null Count    Dtype  \n",
      "---  ------                   --------------    -----  \n",
      " 0   TransactionID            1048567 non-null  object \n",
      " 1   CustomerID               1048567 non-null  object \n",
      " 2   CustomerDOB              1045170 non-null  object \n",
      " 3   CustGender               1047467 non-null  object \n",
      " 4   CustLocation             1048416 non-null  object \n",
      " 5   CustAccountBalance       1046198 non-null  float64\n",
      " 6   TransactionDate          1048567 non-null  object \n",
      " 7   TransactionTime          1048567 non-null  int64  \n",
      " 8   TransactionAmount (INR)  1048567 non-null  float64\n",
      "dtypes: float64(2), int64(1), object(6)\n",
      "memory usage: 72.0+ MB\n"
     ]
    }
   ],
   "source": [
    "df.info() # date format much be adjust"
   ]
  },
  {
   "cell_type": "code",
   "execution_count": 23,
   "metadata": {},
   "outputs": [],
   "source": [
    "# check na"
   ]
  },
  {
   "cell_type": "code",
   "execution_count": 24,
   "metadata": {},
   "outputs": [
    {
     "data": {
      "text/plain": [
       "(1048567, 9)"
      ]
     },
     "execution_count": 24,
     "metadata": {},
     "output_type": "execute_result"
    }
   ],
   "source": [
    "df.shape"
   ]
  },
  {
   "cell_type": "code",
   "execution_count": 25,
   "metadata": {},
   "outputs": [
    {
     "data": {
      "text/plain": [
       "TransactionID                 0\n",
       "CustomerID                    0\n",
       "CustomerDOB                3397\n",
       "CustGender                 1100\n",
       "CustLocation                151\n",
       "CustAccountBalance         2369\n",
       "TransactionDate               0\n",
       "TransactionTime               0\n",
       "TransactionAmount (INR)       0\n",
       "dtype: int64"
      ]
     },
     "execution_count": 25,
     "metadata": {},
     "output_type": "execute_result"
    }
   ],
   "source": [
    "df.isnull().sum()"
   ]
  },
  {
   "cell_type": "code",
   "execution_count": 26,
   "metadata": {},
   "outputs": [],
   "source": [
    "# check distinct value each columns (number of transactionno much equal to df.shape[0], if not, some duplicate problem occur)"
   ]
  },
  {
   "cell_type": "code",
   "execution_count": 27,
   "metadata": {},
   "outputs": [
    {
     "data": {
      "text/plain": [
       "array(['T1', 'T2', 'T3', ..., 'T1048565', 'T1048566', 'T1048567'],\n",
       "      dtype=object)"
      ]
     },
     "execution_count": 27,
     "metadata": {},
     "output_type": "execute_result"
    }
   ],
   "source": [
    "df['TransactionID'].unique()"
   ]
  },
  {
   "cell_type": "code",
   "execution_count": 28,
   "metadata": {},
   "outputs": [
    {
     "data": {
      "text/plain": [
       "1048567"
      ]
     },
     "execution_count": 28,
     "metadata": {},
     "output_type": "execute_result"
    }
   ],
   "source": [
    "df['TransactionID'].nunique()"
   ]
  },
  {
   "cell_type": "code",
   "execution_count": 29,
   "metadata": {},
   "outputs": [
    {
     "name": "stdout",
     "output_type": "stream",
     "text": [
      "Columns name:  TransactionID\n",
      "Unique value:  ['T1' 'T2' 'T3' ... 'T1048565' 'T1048566' 'T1048567']\n",
      "Count unique value:  1048567\n",
      "----------\n",
      "Columns name:  CustomerID\n",
      "Unique value:  ['C5841053' 'C2142763' 'C4417068' ... 'C8020229' 'C6459278' 'C6420483']\n",
      "Count unique value:  884265\n",
      "----------\n",
      "Columns name:  CustomerDOB\n",
      "Unique value:  ['10/1/94' '4/4/57' '26/11/96' ... '18/7/65' '15/5/42' '24/10/44']\n",
      "Count unique value:  17254\n",
      "----------\n",
      "Columns name:  CustGender\n",
      "Unique value:  ['F' 'M' nan 'T']\n",
      "Count unique value:  3\n",
      "----------\n",
      "Columns name:  CustLocation\n",
      "Unique value:  ['JAMSHEDPUR' 'JHAJJAR' 'MUMBAI' ... 'KARANJIA'\n",
      " 'NR HERITAGE FRESH HYDERABAD' 'IMPERIA THANE WEST']\n",
      "Count unique value:  9355\n",
      "----------\n",
      "Columns name:  CustAccountBalance\n",
      "Unique value:  [ 17819.05   2270.69  17874.44 ... 182889.37  15037.89   1002.96]\n",
      "Count unique value:  161328\n",
      "----------\n",
      "Columns name:  TransactionDate\n",
      "Unique value:  ['2/8/16' '1/8/16' '3/8/16' '5/8/16' '4/8/16' '6/8/16' '9/8/16' '8/8/16'\n",
      " '12/8/16' '7/8/16' '21/10/16' '16/10/16' '10/8/16' '14/8/16' '17/8/16'\n",
      " '21/8/16' '19/8/16' '24/8/16' '22/8/16' '29/8/16' '31/8/16' '22/9/16'\n",
      " '23/9/16' '13/8/16' '25/8/16' '28/8/16' '15/8/16' '27/8/16' '20/8/16'\n",
      " '23/8/16' '30/8/16' '11/8/16' '16/8/16' '26/8/16' '27/9/16' '18/8/16'\n",
      " '25/9/16' '26/9/16' '30/9/16' '3/9/16' '2/9/16' '1/9/16' '6/9/16'\n",
      " '5/9/16' '4/9/16' '9/9/16' '8/9/16' '7/9/16' '12/9/16' '11/9/16'\n",
      " '10/9/16' '15/9/16' '14/9/16' '13/9/16' '18/9/16']\n",
      "Count unique value:  55\n",
      "----------\n",
      "Columns name:  TransactionTime\n",
      "Unique value:  [143207 141858 142712 ...  65244  81817  71955]\n",
      "Count unique value:  81918\n",
      "----------\n",
      "Columns name:  TransactionAmount (INR)\n",
      "Unique value:  [2.5000e+01 2.7999e+04 4.5900e+02 ... 5.9886e+02 6.0907e+02 5.2590e+03]\n",
      "Count unique value:  93024\n",
      "----------\n"
     ]
    }
   ],
   "source": [
    "for i in df.columns:\n",
    "    print('Columns name: ', i)\n",
    "    print('Unique value: ', df[i].unique())\n",
    "    print('Count unique value: ', df[i].nunique())\n",
    "    print('-'*10)"
   ]
  },
  {
   "cell_type": "code",
   "execution_count": 30,
   "metadata": {},
   "outputs": [],
   "source": [
    "# date format will be a problem in our analysis"
   ]
  },
  {
   "cell_type": "markdown",
   "metadata": {},
   "source": [
    "# 3. Data transformation"
   ]
  },
  {
   "cell_type": "code",
   "execution_count": 31,
   "metadata": {},
   "outputs": [],
   "source": [
    "# *** idea ***\n",
    "\n",
    "# age\n",
    "# sex\n",
    "# part\n",
    "# avg txn time\n",
    "# avg ticket size\n",
    "# current aum (CustAccountBalance)\n",
    "# no txn/acc age month as no txn per motnh"
   ]
  },
  {
   "cell_type": "code",
   "execution_count": 32,
   "metadata": {},
   "outputs": [],
   "source": [
    "#  #   Column                 Non-Null Count   Dtype  \n",
    "# ---  ------                 --------------   -----  \n",
    "#  0   CustomerID             879358 non-null  object \n",
    "#  1   Age                    839081 non-null  float64\n",
    "#  2   Sex                    839081 non-null  float64\n",
    "#  3   BigCity                839081 non-null  float64\n",
    "#  4   TransactionTimeMinute  839081 non-null  float64\n",
    "#  5   TicketSize             839081 non-null  float64\n",
    "#  6   BalanceSize            839081 non-null  float64\n",
    "#  7   NoTransaction          839081 non-null  float64"
   ]
  },
  {
   "cell_type": "markdown",
   "metadata": {},
   "source": [
    "missing value"
   ]
  },
  {
   "cell_type": "code",
   "execution_count": 33,
   "metadata": {},
   "outputs": [],
   "source": [
    "df.dropna(inplace=True)"
   ]
  },
  {
   "cell_type": "code",
   "execution_count": 34,
   "metadata": {},
   "outputs": [
    {
     "name": "stdout",
     "output_type": "stream",
     "text": [
      "<class 'pandas.core.frame.DataFrame'>\n",
      "Int64Index: 1041614 entries, 0 to 1048566\n",
      "Data columns (total 9 columns):\n",
      " #   Column                   Non-Null Count    Dtype  \n",
      "---  ------                   --------------    -----  \n",
      " 0   TransactionID            1041614 non-null  object \n",
      " 1   CustomerID               1041614 non-null  object \n",
      " 2   CustomerDOB              1041614 non-null  object \n",
      " 3   CustGender               1041614 non-null  object \n",
      " 4   CustLocation             1041614 non-null  object \n",
      " 5   CustAccountBalance       1041614 non-null  float64\n",
      " 6   TransactionDate          1041614 non-null  object \n",
      " 7   TransactionTime          1041614 non-null  int64  \n",
      " 8   TransactionAmount (INR)  1041614 non-null  float64\n",
      "dtypes: float64(2), int64(1), object(6)\n",
      "memory usage: 79.5+ MB\n"
     ]
    }
   ],
   "source": [
    "df.info()"
   ]
  },
  {
   "cell_type": "markdown",
   "metadata": {},
   "source": [
    "customer ID"
   ]
  },
  {
   "cell_type": "code",
   "execution_count": 35,
   "metadata": {},
   "outputs": [],
   "source": [
    "distinct_customers = df['CustomerID'].unique()\n",
    "distinct_customers_df = pd.DataFrame({'CustomerID': distinct_customers})"
   ]
  },
  {
   "cell_type": "code",
   "execution_count": 36,
   "metadata": {},
   "outputs": [
    {
     "data": {
      "text/html": [
       "<div>\n",
       "<style scoped>\n",
       "    .dataframe tbody tr th:only-of-type {\n",
       "        vertical-align: middle;\n",
       "    }\n",
       "\n",
       "    .dataframe tbody tr th {\n",
       "        vertical-align: top;\n",
       "    }\n",
       "\n",
       "    .dataframe thead th {\n",
       "        text-align: right;\n",
       "    }\n",
       "</style>\n",
       "<table border=\"1\" class=\"dataframe\">\n",
       "  <thead>\n",
       "    <tr style=\"text-align: right;\">\n",
       "      <th></th>\n",
       "      <th>CustomerID</th>\n",
       "    </tr>\n",
       "  </thead>\n",
       "  <tbody>\n",
       "    <tr>\n",
       "      <th>0</th>\n",
       "      <td>C5841053</td>\n",
       "    </tr>\n",
       "    <tr>\n",
       "      <th>1</th>\n",
       "      <td>C2142763</td>\n",
       "    </tr>\n",
       "    <tr>\n",
       "      <th>2</th>\n",
       "      <td>C4417068</td>\n",
       "    </tr>\n",
       "    <tr>\n",
       "      <th>3</th>\n",
       "      <td>C5342380</td>\n",
       "    </tr>\n",
       "    <tr>\n",
       "      <th>4</th>\n",
       "      <td>C9031234</td>\n",
       "    </tr>\n",
       "    <tr>\n",
       "      <th>...</th>\n",
       "      <td>...</td>\n",
       "    </tr>\n",
       "    <tr>\n",
       "      <th>879353</th>\n",
       "      <td>C5028150</td>\n",
       "    </tr>\n",
       "    <tr>\n",
       "      <th>879354</th>\n",
       "      <td>C1034220</td>\n",
       "    </tr>\n",
       "    <tr>\n",
       "      <th>879355</th>\n",
       "      <td>C8020229</td>\n",
       "    </tr>\n",
       "    <tr>\n",
       "      <th>879356</th>\n",
       "      <td>C6459278</td>\n",
       "    </tr>\n",
       "    <tr>\n",
       "      <th>879357</th>\n",
       "      <td>C6420483</td>\n",
       "    </tr>\n",
       "  </tbody>\n",
       "</table>\n",
       "<p>879358 rows × 1 columns</p>\n",
       "</div>"
      ],
      "text/plain": [
       "       CustomerID\n",
       "0        C5841053\n",
       "1        C2142763\n",
       "2        C4417068\n",
       "3        C5342380\n",
       "4        C9031234\n",
       "...           ...\n",
       "879353   C5028150\n",
       "879354   C1034220\n",
       "879355   C8020229\n",
       "879356   C6459278\n",
       "879357   C6420483\n",
       "\n",
       "[879358 rows x 1 columns]"
      ]
     },
     "execution_count": 36,
     "metadata": {},
     "output_type": "execute_result"
    }
   ],
   "source": [
    "distinct_customers_df"
   ]
  },
  {
   "cell_type": "markdown",
   "metadata": {},
   "source": [
    "age"
   ]
  },
  {
   "cell_type": "code",
   "execution_count": 37,
   "metadata": {},
   "outputs": [
    {
     "data": {
      "text/plain": [
       "(1041614, 9)"
      ]
     },
     "execution_count": 37,
     "metadata": {},
     "output_type": "execute_result"
    }
   ],
   "source": [
    "df.shape"
   ]
  },
  {
   "cell_type": "code",
   "execution_count": 38,
   "metadata": {},
   "outputs": [],
   "source": [
    "df[['day', 'month', 'year']] = df['CustomerDOB'].str.split('/', expand=True)"
   ]
  },
  {
   "cell_type": "code",
   "execution_count": 39,
   "metadata": {},
   "outputs": [],
   "source": [
    "df['year'] = df['year'].astype(int)"
   ]
  },
  {
   "cell_type": "code",
   "execution_count": 40,
   "metadata": {},
   "outputs": [
    {
     "name": "stdout",
     "output_type": "stream",
     "text": [
      "0 1800\n"
     ]
    }
   ],
   "source": [
    "print(df['year'].min(), df['year'].max())"
   ]
  },
  {
   "cell_type": "code",
   "execution_count": 41,
   "metadata": {},
   "outputs": [],
   "source": [
    "df_for_age = df[df['year'] <= 99]"
   ]
  },
  {
   "cell_type": "code",
   "execution_count": 42,
   "metadata": {},
   "outputs": [
    {
     "data": {
      "text/plain": [
       "(985322, 12)"
      ]
     },
     "execution_count": 42,
     "metadata": {},
     "output_type": "execute_result"
    }
   ],
   "source": [
    "df_for_age.shape"
   ]
  },
  {
   "cell_type": "code",
   "execution_count": 43,
   "metadata": {},
   "outputs": [
    {
     "name": "stderr",
     "output_type": "stream",
     "text": [
      "C:\\Users\\peerapat\\AppData\\Local\\Temp/ipykernel_18688/39089936.py:1: SettingWithCopyWarning: \n",
      "A value is trying to be set on a copy of a slice from a DataFrame.\n",
      "Try using .loc[row_indexer,col_indexer] = value instead\n",
      "\n",
      "See the caveats in the documentation: https://pandas.pydata.org/pandas-docs/stable/user_guide/indexing.html#returning-a-view-versus-a-copy\n",
      "  df_for_age['Age'] = 2016 - (1900+df_for_age['year'])\n"
     ]
    }
   ],
   "source": [
    "df_for_age['Age'] = 2016 - (1900+df_for_age['year'])"
   ]
  },
  {
   "cell_type": "code",
   "execution_count": 44,
   "metadata": {},
   "outputs": [
    {
     "data": {
      "text/html": [
       "<div>\n",
       "<style scoped>\n",
       "    .dataframe tbody tr th:only-of-type {\n",
       "        vertical-align: middle;\n",
       "    }\n",
       "\n",
       "    .dataframe tbody tr th {\n",
       "        vertical-align: top;\n",
       "    }\n",
       "\n",
       "    .dataframe thead th {\n",
       "        text-align: right;\n",
       "    }\n",
       "</style>\n",
       "<table border=\"1\" class=\"dataframe\">\n",
       "  <thead>\n",
       "    <tr style=\"text-align: right;\">\n",
       "      <th></th>\n",
       "      <th>TransactionID</th>\n",
       "      <th>CustomerID</th>\n",
       "      <th>CustomerDOB</th>\n",
       "      <th>CustGender</th>\n",
       "      <th>CustLocation</th>\n",
       "      <th>CustAccountBalance</th>\n",
       "      <th>TransactionDate</th>\n",
       "      <th>TransactionTime</th>\n",
       "      <th>TransactionAmount (INR)</th>\n",
       "      <th>day</th>\n",
       "      <th>month</th>\n",
       "      <th>year</th>\n",
       "      <th>Age</th>\n",
       "    </tr>\n",
       "  </thead>\n",
       "  <tbody>\n",
       "    <tr>\n",
       "      <th>0</th>\n",
       "      <td>T1</td>\n",
       "      <td>C5841053</td>\n",
       "      <td>10/1/94</td>\n",
       "      <td>F</td>\n",
       "      <td>JAMSHEDPUR</td>\n",
       "      <td>17819.05</td>\n",
       "      <td>2/8/16</td>\n",
       "      <td>143207</td>\n",
       "      <td>25.0</td>\n",
       "      <td>10</td>\n",
       "      <td>1</td>\n",
       "      <td>94</td>\n",
       "      <td>22</td>\n",
       "    </tr>\n",
       "    <tr>\n",
       "      <th>1</th>\n",
       "      <td>T2</td>\n",
       "      <td>C2142763</td>\n",
       "      <td>4/4/57</td>\n",
       "      <td>M</td>\n",
       "      <td>JHAJJAR</td>\n",
       "      <td>2270.69</td>\n",
       "      <td>2/8/16</td>\n",
       "      <td>141858</td>\n",
       "      <td>27999.0</td>\n",
       "      <td>4</td>\n",
       "      <td>4</td>\n",
       "      <td>57</td>\n",
       "      <td>59</td>\n",
       "    </tr>\n",
       "    <tr>\n",
       "      <th>2</th>\n",
       "      <td>T3</td>\n",
       "      <td>C4417068</td>\n",
       "      <td>26/11/96</td>\n",
       "      <td>F</td>\n",
       "      <td>MUMBAI</td>\n",
       "      <td>17874.44</td>\n",
       "      <td>2/8/16</td>\n",
       "      <td>142712</td>\n",
       "      <td>459.0</td>\n",
       "      <td>26</td>\n",
       "      <td>11</td>\n",
       "      <td>96</td>\n",
       "      <td>20</td>\n",
       "    </tr>\n",
       "    <tr>\n",
       "      <th>3</th>\n",
       "      <td>T4</td>\n",
       "      <td>C5342380</td>\n",
       "      <td>14/9/73</td>\n",
       "      <td>F</td>\n",
       "      <td>MUMBAI</td>\n",
       "      <td>866503.21</td>\n",
       "      <td>2/8/16</td>\n",
       "      <td>142714</td>\n",
       "      <td>2060.0</td>\n",
       "      <td>14</td>\n",
       "      <td>9</td>\n",
       "      <td>73</td>\n",
       "      <td>43</td>\n",
       "    </tr>\n",
       "    <tr>\n",
       "      <th>4</th>\n",
       "      <td>T5</td>\n",
       "      <td>C9031234</td>\n",
       "      <td>24/3/88</td>\n",
       "      <td>F</td>\n",
       "      <td>NAVI MUMBAI</td>\n",
       "      <td>6714.43</td>\n",
       "      <td>2/8/16</td>\n",
       "      <td>181156</td>\n",
       "      <td>1762.5</td>\n",
       "      <td>24</td>\n",
       "      <td>3</td>\n",
       "      <td>88</td>\n",
       "      <td>28</td>\n",
       "    </tr>\n",
       "    <tr>\n",
       "      <th>...</th>\n",
       "      <td>...</td>\n",
       "      <td>...</td>\n",
       "      <td>...</td>\n",
       "      <td>...</td>\n",
       "      <td>...</td>\n",
       "      <td>...</td>\n",
       "      <td>...</td>\n",
       "      <td>...</td>\n",
       "      <td>...</td>\n",
       "      <td>...</td>\n",
       "      <td>...</td>\n",
       "      <td>...</td>\n",
       "      <td>...</td>\n",
       "    </tr>\n",
       "    <tr>\n",
       "      <th>1048562</th>\n",
       "      <td>T1048563</td>\n",
       "      <td>C8020229</td>\n",
       "      <td>8/4/90</td>\n",
       "      <td>M</td>\n",
       "      <td>NEW DELHI</td>\n",
       "      <td>7635.19</td>\n",
       "      <td>18/9/16</td>\n",
       "      <td>184824</td>\n",
       "      <td>799.0</td>\n",
       "      <td>8</td>\n",
       "      <td>4</td>\n",
       "      <td>90</td>\n",
       "      <td>26</td>\n",
       "    </tr>\n",
       "    <tr>\n",
       "      <th>1048563</th>\n",
       "      <td>T1048564</td>\n",
       "      <td>C6459278</td>\n",
       "      <td>20/2/92</td>\n",
       "      <td>M</td>\n",
       "      <td>NASHIK</td>\n",
       "      <td>27311.42</td>\n",
       "      <td>18/9/16</td>\n",
       "      <td>183734</td>\n",
       "      <td>460.0</td>\n",
       "      <td>20</td>\n",
       "      <td>2</td>\n",
       "      <td>92</td>\n",
       "      <td>24</td>\n",
       "    </tr>\n",
       "    <tr>\n",
       "      <th>1048564</th>\n",
       "      <td>T1048565</td>\n",
       "      <td>C6412354</td>\n",
       "      <td>18/5/89</td>\n",
       "      <td>M</td>\n",
       "      <td>HYDERABAD</td>\n",
       "      <td>221757.06</td>\n",
       "      <td>18/9/16</td>\n",
       "      <td>183313</td>\n",
       "      <td>770.0</td>\n",
       "      <td>18</td>\n",
       "      <td>5</td>\n",
       "      <td>89</td>\n",
       "      <td>27</td>\n",
       "    </tr>\n",
       "    <tr>\n",
       "      <th>1048565</th>\n",
       "      <td>T1048566</td>\n",
       "      <td>C6420483</td>\n",
       "      <td>30/8/78</td>\n",
       "      <td>M</td>\n",
       "      <td>VISAKHAPATNAM</td>\n",
       "      <td>10117.87</td>\n",
       "      <td>18/9/16</td>\n",
       "      <td>184706</td>\n",
       "      <td>1000.0</td>\n",
       "      <td>30</td>\n",
       "      <td>8</td>\n",
       "      <td>78</td>\n",
       "      <td>38</td>\n",
       "    </tr>\n",
       "    <tr>\n",
       "      <th>1048566</th>\n",
       "      <td>T1048567</td>\n",
       "      <td>C8337524</td>\n",
       "      <td>5/3/84</td>\n",
       "      <td>M</td>\n",
       "      <td>PUNE</td>\n",
       "      <td>75734.42</td>\n",
       "      <td>18/9/16</td>\n",
       "      <td>181222</td>\n",
       "      <td>1166.0</td>\n",
       "      <td>5</td>\n",
       "      <td>3</td>\n",
       "      <td>84</td>\n",
       "      <td>32</td>\n",
       "    </tr>\n",
       "  </tbody>\n",
       "</table>\n",
       "<p>985322 rows × 13 columns</p>\n",
       "</div>"
      ],
      "text/plain": [
       "        TransactionID CustomerID CustomerDOB CustGender   CustLocation  \\\n",
       "0                  T1   C5841053     10/1/94          F     JAMSHEDPUR   \n",
       "1                  T2   C2142763      4/4/57          M        JHAJJAR   \n",
       "2                  T3   C4417068    26/11/96          F         MUMBAI   \n",
       "3                  T4   C5342380     14/9/73          F         MUMBAI   \n",
       "4                  T5   C9031234     24/3/88          F    NAVI MUMBAI   \n",
       "...               ...        ...         ...        ...            ...   \n",
       "1048562      T1048563   C8020229      8/4/90          M      NEW DELHI   \n",
       "1048563      T1048564   C6459278     20/2/92          M         NASHIK   \n",
       "1048564      T1048565   C6412354     18/5/89          M      HYDERABAD   \n",
       "1048565      T1048566   C6420483     30/8/78          M  VISAKHAPATNAM   \n",
       "1048566      T1048567   C8337524      5/3/84          M           PUNE   \n",
       "\n",
       "         CustAccountBalance TransactionDate  TransactionTime  \\\n",
       "0                  17819.05          2/8/16           143207   \n",
       "1                   2270.69          2/8/16           141858   \n",
       "2                  17874.44          2/8/16           142712   \n",
       "3                 866503.21          2/8/16           142714   \n",
       "4                   6714.43          2/8/16           181156   \n",
       "...                     ...             ...              ...   \n",
       "1048562             7635.19         18/9/16           184824   \n",
       "1048563            27311.42         18/9/16           183734   \n",
       "1048564           221757.06         18/9/16           183313   \n",
       "1048565            10117.87         18/9/16           184706   \n",
       "1048566            75734.42         18/9/16           181222   \n",
       "\n",
       "         TransactionAmount (INR) day month  year  Age  \n",
       "0                           25.0  10     1    94   22  \n",
       "1                        27999.0   4     4    57   59  \n",
       "2                          459.0  26    11    96   20  \n",
       "3                         2060.0  14     9    73   43  \n",
       "4                         1762.5  24     3    88   28  \n",
       "...                          ...  ..   ...   ...  ...  \n",
       "1048562                    799.0   8     4    90   26  \n",
       "1048563                    460.0  20     2    92   24  \n",
       "1048564                    770.0  18     5    89   27  \n",
       "1048565                   1000.0  30     8    78   38  \n",
       "1048566                   1166.0   5     3    84   32  \n",
       "\n",
       "[985322 rows x 13 columns]"
      ]
     },
     "execution_count": 44,
     "metadata": {},
     "output_type": "execute_result"
    }
   ],
   "source": [
    "df_for_age"
   ]
  },
  {
   "cell_type": "code",
   "execution_count": 45,
   "metadata": {},
   "outputs": [],
   "source": [
    "customers_age_df = df_for_age.groupby('CustomerID')['Age'].max().reset_index()\n",
    "customers_age_df.columns = ['CustomerID', 'Age']"
   ]
  },
  {
   "cell_type": "code",
   "execution_count": 46,
   "metadata": {},
   "outputs": [
    {
     "data": {
      "text/html": [
       "<div>\n",
       "<style scoped>\n",
       "    .dataframe tbody tr th:only-of-type {\n",
       "        vertical-align: middle;\n",
       "    }\n",
       "\n",
       "    .dataframe tbody tr th {\n",
       "        vertical-align: top;\n",
       "    }\n",
       "\n",
       "    .dataframe thead th {\n",
       "        text-align: right;\n",
       "    }\n",
       "</style>\n",
       "<table border=\"1\" class=\"dataframe\">\n",
       "  <thead>\n",
       "    <tr style=\"text-align: right;\">\n",
       "      <th></th>\n",
       "      <th>CustomerID</th>\n",
       "      <th>Age</th>\n",
       "    </tr>\n",
       "  </thead>\n",
       "  <tbody>\n",
       "    <tr>\n",
       "      <th>0</th>\n",
       "      <td>C1010011</td>\n",
       "      <td>33</td>\n",
       "    </tr>\n",
       "    <tr>\n",
       "      <th>1</th>\n",
       "      <td>C1010012</td>\n",
       "      <td>22</td>\n",
       "    </tr>\n",
       "    <tr>\n",
       "      <th>2</th>\n",
       "      <td>C1010014</td>\n",
       "      <td>32</td>\n",
       "    </tr>\n",
       "    <tr>\n",
       "      <th>3</th>\n",
       "      <td>C1010018</td>\n",
       "      <td>26</td>\n",
       "    </tr>\n",
       "    <tr>\n",
       "      <th>4</th>\n",
       "      <td>C1010024</td>\n",
       "      <td>51</td>\n",
       "    </tr>\n",
       "    <tr>\n",
       "      <th>...</th>\n",
       "      <td>...</td>\n",
       "      <td>...</td>\n",
       "    </tr>\n",
       "    <tr>\n",
       "      <th>839076</th>\n",
       "      <td>C9099836</td>\n",
       "      <td>26</td>\n",
       "    </tr>\n",
       "    <tr>\n",
       "      <th>839077</th>\n",
       "      <td>C9099877</td>\n",
       "      <td>20</td>\n",
       "    </tr>\n",
       "    <tr>\n",
       "      <th>839078</th>\n",
       "      <td>C9099919</td>\n",
       "      <td>23</td>\n",
       "    </tr>\n",
       "    <tr>\n",
       "      <th>839079</th>\n",
       "      <td>C9099941</td>\n",
       "      <td>21</td>\n",
       "    </tr>\n",
       "    <tr>\n",
       "      <th>839080</th>\n",
       "      <td>C9099956</td>\n",
       "      <td>34</td>\n",
       "    </tr>\n",
       "  </tbody>\n",
       "</table>\n",
       "<p>839081 rows × 2 columns</p>\n",
       "</div>"
      ],
      "text/plain": [
       "       CustomerID  Age\n",
       "0        C1010011   33\n",
       "1        C1010012   22\n",
       "2        C1010014   32\n",
       "3        C1010018   26\n",
       "4        C1010024   51\n",
       "...           ...  ...\n",
       "839076   C9099836   26\n",
       "839077   C9099877   20\n",
       "839078   C9099919   23\n",
       "839079   C9099941   21\n",
       "839080   C9099956   34\n",
       "\n",
       "[839081 rows x 2 columns]"
      ]
     },
     "execution_count": 46,
     "metadata": {},
     "output_type": "execute_result"
    }
   ],
   "source": [
    "customers_age_df"
   ]
  },
  {
   "cell_type": "markdown",
   "metadata": {},
   "source": [
    "sex"
   ]
  },
  {
   "cell_type": "code",
   "execution_count": 47,
   "metadata": {},
   "outputs": [],
   "source": [
    "df['CustGender'] = df['CustGender'].apply(lambda x: 1 if x == 'M' else 0)"
   ]
  },
  {
   "cell_type": "code",
   "execution_count": 48,
   "metadata": {},
   "outputs": [],
   "source": [
    "customers_sex_df = df.groupby('CustomerID')['CustGender'].max().reset_index()\n",
    "customers_sex_df.columns = ['CustomerID', 'Sex']"
   ]
  },
  {
   "cell_type": "code",
   "execution_count": 49,
   "metadata": {},
   "outputs": [
    {
     "data": {
      "text/html": [
       "<div>\n",
       "<style scoped>\n",
       "    .dataframe tbody tr th:only-of-type {\n",
       "        vertical-align: middle;\n",
       "    }\n",
       "\n",
       "    .dataframe tbody tr th {\n",
       "        vertical-align: top;\n",
       "    }\n",
       "\n",
       "    .dataframe thead th {\n",
       "        text-align: right;\n",
       "    }\n",
       "</style>\n",
       "<table border=\"1\" class=\"dataframe\">\n",
       "  <thead>\n",
       "    <tr style=\"text-align: right;\">\n",
       "      <th></th>\n",
       "      <th>CustomerID</th>\n",
       "      <th>Sex</th>\n",
       "    </tr>\n",
       "  </thead>\n",
       "  <tbody>\n",
       "    <tr>\n",
       "      <th>0</th>\n",
       "      <td>C1010011</td>\n",
       "      <td>1</td>\n",
       "    </tr>\n",
       "    <tr>\n",
       "      <th>1</th>\n",
       "      <td>C1010012</td>\n",
       "      <td>1</td>\n",
       "    </tr>\n",
       "    <tr>\n",
       "      <th>2</th>\n",
       "      <td>C1010014</td>\n",
       "      <td>1</td>\n",
       "    </tr>\n",
       "    <tr>\n",
       "      <th>3</th>\n",
       "      <td>C1010018</td>\n",
       "      <td>0</td>\n",
       "    </tr>\n",
       "    <tr>\n",
       "      <th>4</th>\n",
       "      <td>C1010024</td>\n",
       "      <td>1</td>\n",
       "    </tr>\n",
       "    <tr>\n",
       "      <th>...</th>\n",
       "      <td>...</td>\n",
       "      <td>...</td>\n",
       "    </tr>\n",
       "    <tr>\n",
       "      <th>879353</th>\n",
       "      <td>C9099836</td>\n",
       "      <td>1</td>\n",
       "    </tr>\n",
       "    <tr>\n",
       "      <th>879354</th>\n",
       "      <td>C9099877</td>\n",
       "      <td>1</td>\n",
       "    </tr>\n",
       "    <tr>\n",
       "      <th>879355</th>\n",
       "      <td>C9099919</td>\n",
       "      <td>1</td>\n",
       "    </tr>\n",
       "    <tr>\n",
       "      <th>879356</th>\n",
       "      <td>C9099941</td>\n",
       "      <td>1</td>\n",
       "    </tr>\n",
       "    <tr>\n",
       "      <th>879357</th>\n",
       "      <td>C9099956</td>\n",
       "      <td>1</td>\n",
       "    </tr>\n",
       "  </tbody>\n",
       "</table>\n",
       "<p>879358 rows × 2 columns</p>\n",
       "</div>"
      ],
      "text/plain": [
       "       CustomerID  Sex\n",
       "0        C1010011    1\n",
       "1        C1010012    1\n",
       "2        C1010014    1\n",
       "3        C1010018    0\n",
       "4        C1010024    1\n",
       "...           ...  ...\n",
       "879353   C9099836    1\n",
       "879354   C9099877    1\n",
       "879355   C9099919    1\n",
       "879356   C9099941    1\n",
       "879357   C9099956    1\n",
       "\n",
       "[879358 rows x 2 columns]"
      ]
     },
     "execution_count": 49,
     "metadata": {},
     "output_type": "execute_result"
    }
   ],
   "source": [
    "customers_sex_df"
   ]
  },
  {
   "cell_type": "markdown",
   "metadata": {},
   "source": [
    "city name"
   ]
  },
  {
   "cell_type": "code",
   "execution_count": 50,
   "metadata": {},
   "outputs": [],
   "source": [
    "# top 10 most populous cities in India:\n",
    "\n",
    "# Mumbai, Maharashtra\n",
    "# Delhi, Delhi (NCT)\n",
    "# Bangalore, Karnataka\n",
    "# Hyderabad, Telangana\n",
    "# Ahmedabad, Gujarat\n",
    "# Chennai, Tamil Nadu\n",
    "# Kolkata, West Bengal\n",
    "# Surat, Gujarat\n",
    "# Pune, Maharashtra\n",
    "# Jaipur, Rajasthan"
   ]
  },
  {
   "cell_type": "code",
   "execution_count": 51,
   "metadata": {},
   "outputs": [
    {
     "data": {
      "text/plain": [
       "0             JAMSHEDPUR\n",
       "1                JHAJJAR\n",
       "2                 MUMBAI\n",
       "3                 MUMBAI\n",
       "4            NAVI MUMBAI\n",
       "               ...      \n",
       "1048562        NEW DELHI\n",
       "1048563           NASHIK\n",
       "1048564        HYDERABAD\n",
       "1048565    VISAKHAPATNAM\n",
       "1048566             PUNE\n",
       "Name: CustLocation, Length: 1041614, dtype: object"
      ]
     },
     "execution_count": 51,
     "metadata": {},
     "output_type": "execute_result"
    }
   ],
   "source": [
    "df['CustLocation']"
   ]
  },
  {
   "cell_type": "code",
   "execution_count": 52,
   "metadata": {},
   "outputs": [],
   "source": [
    "big_cities_india = ['MUMBAI', 'DELHI', 'BANGALORE', 'HYDERABAD', 'AHMEDABAD', 'CHENNAI', 'KOLKATA', 'SURAT', 'PUNE', 'JAIPUR']"
   ]
  },
  {
   "cell_type": "code",
   "execution_count": 53,
   "metadata": {},
   "outputs": [],
   "source": [
    "def flag_big_city(city):\n",
    "    if city.upper() in big_cities_india:\n",
    "        return 1\n",
    "    else:\n",
    "        return 0"
   ]
  },
  {
   "cell_type": "code",
   "execution_count": 54,
   "metadata": {},
   "outputs": [],
   "source": [
    "# Apply the function to create the 'flag_big_city' column\n",
    "df['flag_big_city'] = df['CustLocation'].apply(flag_big_city)"
   ]
  },
  {
   "cell_type": "code",
   "execution_count": 55,
   "metadata": {},
   "outputs": [],
   "source": [
    "customers_big_city_df = df.groupby('CustomerID')['flag_big_city'].max().reset_index()\n",
    "customers_big_city_df.columns = ['CustomerID', 'BigCity']"
   ]
  },
  {
   "cell_type": "code",
   "execution_count": 56,
   "metadata": {},
   "outputs": [
    {
     "data": {
      "text/html": [
       "<div>\n",
       "<style scoped>\n",
       "    .dataframe tbody tr th:only-of-type {\n",
       "        vertical-align: middle;\n",
       "    }\n",
       "\n",
       "    .dataframe tbody tr th {\n",
       "        vertical-align: top;\n",
       "    }\n",
       "\n",
       "    .dataframe thead th {\n",
       "        text-align: right;\n",
       "    }\n",
       "</style>\n",
       "<table border=\"1\" class=\"dataframe\">\n",
       "  <thead>\n",
       "    <tr style=\"text-align: right;\">\n",
       "      <th></th>\n",
       "      <th>CustomerID</th>\n",
       "      <th>BigCity</th>\n",
       "    </tr>\n",
       "  </thead>\n",
       "  <tbody>\n",
       "    <tr>\n",
       "      <th>0</th>\n",
       "      <td>C1010011</td>\n",
       "      <td>0</td>\n",
       "    </tr>\n",
       "    <tr>\n",
       "      <th>1</th>\n",
       "      <td>C1010012</td>\n",
       "      <td>1</td>\n",
       "    </tr>\n",
       "    <tr>\n",
       "      <th>2</th>\n",
       "      <td>C1010014</td>\n",
       "      <td>1</td>\n",
       "    </tr>\n",
       "    <tr>\n",
       "      <th>3</th>\n",
       "      <td>C1010018</td>\n",
       "      <td>0</td>\n",
       "    </tr>\n",
       "    <tr>\n",
       "      <th>4</th>\n",
       "      <td>C1010024</td>\n",
       "      <td>1</td>\n",
       "    </tr>\n",
       "    <tr>\n",
       "      <th>...</th>\n",
       "      <td>...</td>\n",
       "      <td>...</td>\n",
       "    </tr>\n",
       "    <tr>\n",
       "      <th>879353</th>\n",
       "      <td>C9099836</td>\n",
       "      <td>0</td>\n",
       "    </tr>\n",
       "    <tr>\n",
       "      <th>879354</th>\n",
       "      <td>C9099877</td>\n",
       "      <td>1</td>\n",
       "    </tr>\n",
       "    <tr>\n",
       "      <th>879355</th>\n",
       "      <td>C9099919</td>\n",
       "      <td>0</td>\n",
       "    </tr>\n",
       "    <tr>\n",
       "      <th>879356</th>\n",
       "      <td>C9099941</td>\n",
       "      <td>1</td>\n",
       "    </tr>\n",
       "    <tr>\n",
       "      <th>879357</th>\n",
       "      <td>C9099956</td>\n",
       "      <td>0</td>\n",
       "    </tr>\n",
       "  </tbody>\n",
       "</table>\n",
       "<p>879358 rows × 2 columns</p>\n",
       "</div>"
      ],
      "text/plain": [
       "       CustomerID  BigCity\n",
       "0        C1010011        0\n",
       "1        C1010012        1\n",
       "2        C1010014        1\n",
       "3        C1010018        0\n",
       "4        C1010024        1\n",
       "...           ...      ...\n",
       "879353   C9099836        0\n",
       "879354   C9099877        1\n",
       "879355   C9099919        0\n",
       "879356   C9099941        1\n",
       "879357   C9099956        0\n",
       "\n",
       "[879358 rows x 2 columns]"
      ]
     },
     "execution_count": 56,
     "metadata": {},
     "output_type": "execute_result"
    }
   ],
   "source": [
    "customers_big_city_df"
   ]
  },
  {
   "cell_type": "markdown",
   "metadata": {},
   "source": [
    "avg txn time"
   ]
  },
  {
   "cell_type": "code",
   "execution_count": 57,
   "metadata": {},
   "outputs": [
    {
     "data": {
      "text/html": [
       "<div>\n",
       "<style scoped>\n",
       "    .dataframe tbody tr th:only-of-type {\n",
       "        vertical-align: middle;\n",
       "    }\n",
       "\n",
       "    .dataframe tbody tr th {\n",
       "        vertical-align: top;\n",
       "    }\n",
       "\n",
       "    .dataframe thead th {\n",
       "        text-align: right;\n",
       "    }\n",
       "</style>\n",
       "<table border=\"1\" class=\"dataframe\">\n",
       "  <thead>\n",
       "    <tr style=\"text-align: right;\">\n",
       "      <th></th>\n",
       "      <th>TransactionID</th>\n",
       "      <th>CustomerID</th>\n",
       "      <th>CustomerDOB</th>\n",
       "      <th>CustGender</th>\n",
       "      <th>CustLocation</th>\n",
       "      <th>CustAccountBalance</th>\n",
       "      <th>TransactionDate</th>\n",
       "      <th>TransactionTime</th>\n",
       "      <th>TransactionAmount (INR)</th>\n",
       "      <th>day</th>\n",
       "      <th>month</th>\n",
       "      <th>year</th>\n",
       "      <th>flag_big_city</th>\n",
       "    </tr>\n",
       "  </thead>\n",
       "  <tbody>\n",
       "    <tr>\n",
       "      <th>0</th>\n",
       "      <td>T1</td>\n",
       "      <td>C5841053</td>\n",
       "      <td>10/1/94</td>\n",
       "      <td>0</td>\n",
       "      <td>JAMSHEDPUR</td>\n",
       "      <td>17819.05</td>\n",
       "      <td>2/8/16</td>\n",
       "      <td>143207</td>\n",
       "      <td>25.0</td>\n",
       "      <td>10</td>\n",
       "      <td>1</td>\n",
       "      <td>94</td>\n",
       "      <td>0</td>\n",
       "    </tr>\n",
       "    <tr>\n",
       "      <th>1</th>\n",
       "      <td>T2</td>\n",
       "      <td>C2142763</td>\n",
       "      <td>4/4/57</td>\n",
       "      <td>1</td>\n",
       "      <td>JHAJJAR</td>\n",
       "      <td>2270.69</td>\n",
       "      <td>2/8/16</td>\n",
       "      <td>141858</td>\n",
       "      <td>27999.0</td>\n",
       "      <td>4</td>\n",
       "      <td>4</td>\n",
       "      <td>57</td>\n",
       "      <td>0</td>\n",
       "    </tr>\n",
       "    <tr>\n",
       "      <th>2</th>\n",
       "      <td>T3</td>\n",
       "      <td>C4417068</td>\n",
       "      <td>26/11/96</td>\n",
       "      <td>0</td>\n",
       "      <td>MUMBAI</td>\n",
       "      <td>17874.44</td>\n",
       "      <td>2/8/16</td>\n",
       "      <td>142712</td>\n",
       "      <td>459.0</td>\n",
       "      <td>26</td>\n",
       "      <td>11</td>\n",
       "      <td>96</td>\n",
       "      <td>1</td>\n",
       "    </tr>\n",
       "    <tr>\n",
       "      <th>3</th>\n",
       "      <td>T4</td>\n",
       "      <td>C5342380</td>\n",
       "      <td>14/9/73</td>\n",
       "      <td>0</td>\n",
       "      <td>MUMBAI</td>\n",
       "      <td>866503.21</td>\n",
       "      <td>2/8/16</td>\n",
       "      <td>142714</td>\n",
       "      <td>2060.0</td>\n",
       "      <td>14</td>\n",
       "      <td>9</td>\n",
       "      <td>73</td>\n",
       "      <td>1</td>\n",
       "    </tr>\n",
       "    <tr>\n",
       "      <th>4</th>\n",
       "      <td>T5</td>\n",
       "      <td>C9031234</td>\n",
       "      <td>24/3/88</td>\n",
       "      <td>0</td>\n",
       "      <td>NAVI MUMBAI</td>\n",
       "      <td>6714.43</td>\n",
       "      <td>2/8/16</td>\n",
       "      <td>181156</td>\n",
       "      <td>1762.5</td>\n",
       "      <td>24</td>\n",
       "      <td>3</td>\n",
       "      <td>88</td>\n",
       "      <td>0</td>\n",
       "    </tr>\n",
       "    <tr>\n",
       "      <th>...</th>\n",
       "      <td>...</td>\n",
       "      <td>...</td>\n",
       "      <td>...</td>\n",
       "      <td>...</td>\n",
       "      <td>...</td>\n",
       "      <td>...</td>\n",
       "      <td>...</td>\n",
       "      <td>...</td>\n",
       "      <td>...</td>\n",
       "      <td>...</td>\n",
       "      <td>...</td>\n",
       "      <td>...</td>\n",
       "      <td>...</td>\n",
       "    </tr>\n",
       "    <tr>\n",
       "      <th>1048562</th>\n",
       "      <td>T1048563</td>\n",
       "      <td>C8020229</td>\n",
       "      <td>8/4/90</td>\n",
       "      <td>1</td>\n",
       "      <td>NEW DELHI</td>\n",
       "      <td>7635.19</td>\n",
       "      <td>18/9/16</td>\n",
       "      <td>184824</td>\n",
       "      <td>799.0</td>\n",
       "      <td>8</td>\n",
       "      <td>4</td>\n",
       "      <td>90</td>\n",
       "      <td>0</td>\n",
       "    </tr>\n",
       "    <tr>\n",
       "      <th>1048563</th>\n",
       "      <td>T1048564</td>\n",
       "      <td>C6459278</td>\n",
       "      <td>20/2/92</td>\n",
       "      <td>1</td>\n",
       "      <td>NASHIK</td>\n",
       "      <td>27311.42</td>\n",
       "      <td>18/9/16</td>\n",
       "      <td>183734</td>\n",
       "      <td>460.0</td>\n",
       "      <td>20</td>\n",
       "      <td>2</td>\n",
       "      <td>92</td>\n",
       "      <td>0</td>\n",
       "    </tr>\n",
       "    <tr>\n",
       "      <th>1048564</th>\n",
       "      <td>T1048565</td>\n",
       "      <td>C6412354</td>\n",
       "      <td>18/5/89</td>\n",
       "      <td>1</td>\n",
       "      <td>HYDERABAD</td>\n",
       "      <td>221757.06</td>\n",
       "      <td>18/9/16</td>\n",
       "      <td>183313</td>\n",
       "      <td>770.0</td>\n",
       "      <td>18</td>\n",
       "      <td>5</td>\n",
       "      <td>89</td>\n",
       "      <td>1</td>\n",
       "    </tr>\n",
       "    <tr>\n",
       "      <th>1048565</th>\n",
       "      <td>T1048566</td>\n",
       "      <td>C6420483</td>\n",
       "      <td>30/8/78</td>\n",
       "      <td>1</td>\n",
       "      <td>VISAKHAPATNAM</td>\n",
       "      <td>10117.87</td>\n",
       "      <td>18/9/16</td>\n",
       "      <td>184706</td>\n",
       "      <td>1000.0</td>\n",
       "      <td>30</td>\n",
       "      <td>8</td>\n",
       "      <td>78</td>\n",
       "      <td>0</td>\n",
       "    </tr>\n",
       "    <tr>\n",
       "      <th>1048566</th>\n",
       "      <td>T1048567</td>\n",
       "      <td>C8337524</td>\n",
       "      <td>5/3/84</td>\n",
       "      <td>1</td>\n",
       "      <td>PUNE</td>\n",
       "      <td>75734.42</td>\n",
       "      <td>18/9/16</td>\n",
       "      <td>181222</td>\n",
       "      <td>1166.0</td>\n",
       "      <td>5</td>\n",
       "      <td>3</td>\n",
       "      <td>84</td>\n",
       "      <td>1</td>\n",
       "    </tr>\n",
       "  </tbody>\n",
       "</table>\n",
       "<p>1041614 rows × 13 columns</p>\n",
       "</div>"
      ],
      "text/plain": [
       "        TransactionID CustomerID CustomerDOB  CustGender   CustLocation  \\\n",
       "0                  T1   C5841053     10/1/94           0     JAMSHEDPUR   \n",
       "1                  T2   C2142763      4/4/57           1        JHAJJAR   \n",
       "2                  T3   C4417068    26/11/96           0         MUMBAI   \n",
       "3                  T4   C5342380     14/9/73           0         MUMBAI   \n",
       "4                  T5   C9031234     24/3/88           0    NAVI MUMBAI   \n",
       "...               ...        ...         ...         ...            ...   \n",
       "1048562      T1048563   C8020229      8/4/90           1      NEW DELHI   \n",
       "1048563      T1048564   C6459278     20/2/92           1         NASHIK   \n",
       "1048564      T1048565   C6412354     18/5/89           1      HYDERABAD   \n",
       "1048565      T1048566   C6420483     30/8/78           1  VISAKHAPATNAM   \n",
       "1048566      T1048567   C8337524      5/3/84           1           PUNE   \n",
       "\n",
       "         CustAccountBalance TransactionDate  TransactionTime  \\\n",
       "0                  17819.05          2/8/16           143207   \n",
       "1                   2270.69          2/8/16           141858   \n",
       "2                  17874.44          2/8/16           142712   \n",
       "3                 866503.21          2/8/16           142714   \n",
       "4                   6714.43          2/8/16           181156   \n",
       "...                     ...             ...              ...   \n",
       "1048562             7635.19         18/9/16           184824   \n",
       "1048563            27311.42         18/9/16           183734   \n",
       "1048564           221757.06         18/9/16           183313   \n",
       "1048565            10117.87         18/9/16           184706   \n",
       "1048566            75734.42         18/9/16           181222   \n",
       "\n",
       "         TransactionAmount (INR) day month  year  flag_big_city  \n",
       "0                           25.0  10     1    94              0  \n",
       "1                        27999.0   4     4    57              0  \n",
       "2                          459.0  26    11    96              1  \n",
       "3                         2060.0  14     9    73              1  \n",
       "4                         1762.5  24     3    88              0  \n",
       "...                          ...  ..   ...   ...            ...  \n",
       "1048562                    799.0   8     4    90              0  \n",
       "1048563                    460.0  20     2    92              0  \n",
       "1048564                    770.0  18     5    89              1  \n",
       "1048565                   1000.0  30     8    78              0  \n",
       "1048566                   1166.0   5     3    84              1  \n",
       "\n",
       "[1041614 rows x 13 columns]"
      ]
     },
     "execution_count": 57,
     "metadata": {},
     "output_type": "execute_result"
    }
   ],
   "source": [
    "df"
   ]
  },
  {
   "cell_type": "code",
   "execution_count": 58,
   "metadata": {},
   "outputs": [
    {
     "name": "stdout",
     "output_type": "stream",
     "text": [
      "0 235959 157122.11637804407\n"
     ]
    }
   ],
   "source": [
    "print(df['TransactionTime'].min(), df['TransactionTime'].max(), df['TransactionTime'].mean())"
   ]
  },
  {
   "cell_type": "code",
   "execution_count": 59,
   "metadata": {},
   "outputs": [],
   "source": [
    "customers_txn_time_df = df.groupby('CustomerID')['TransactionTime'].mean().reset_index()\n",
    "customers_txn_time_df.columns = ['CustomerID', 'TransactionTimeMinute']"
   ]
  },
  {
   "cell_type": "code",
   "execution_count": 60,
   "metadata": {},
   "outputs": [],
   "source": [
    "customers_txn_time_df['TransactionTimeMinute'] = customers_txn_time_df['TransactionTimeMinute']/(60*60)"
   ]
  },
  {
   "cell_type": "code",
   "execution_count": 61,
   "metadata": {},
   "outputs": [
    {
     "data": {
      "text/html": [
       "<div>\n",
       "<style scoped>\n",
       "    .dataframe tbody tr th:only-of-type {\n",
       "        vertical-align: middle;\n",
       "    }\n",
       "\n",
       "    .dataframe tbody tr th {\n",
       "        vertical-align: top;\n",
       "    }\n",
       "\n",
       "    .dataframe thead th {\n",
       "        text-align: right;\n",
       "    }\n",
       "</style>\n",
       "<table border=\"1\" class=\"dataframe\">\n",
       "  <thead>\n",
       "    <tr style=\"text-align: right;\">\n",
       "      <th></th>\n",
       "      <th>CustomerID</th>\n",
       "      <th>TransactionTimeMinute</th>\n",
       "    </tr>\n",
       "  </thead>\n",
       "  <tbody>\n",
       "    <tr>\n",
       "      <th>0</th>\n",
       "      <td>C1010011</td>\n",
       "      <td>18.755833</td>\n",
       "    </tr>\n",
       "    <tr>\n",
       "      <th>1</th>\n",
       "      <td>C1010012</td>\n",
       "      <td>56.780278</td>\n",
       "    </tr>\n",
       "    <tr>\n",
       "      <th>2</th>\n",
       "      <td>C1010014</td>\n",
       "      <td>52.049444</td>\n",
       "    </tr>\n",
       "    <tr>\n",
       "      <th>3</th>\n",
       "      <td>C1010018</td>\n",
       "      <td>47.292778</td>\n",
       "    </tr>\n",
       "    <tr>\n",
       "      <th>4</th>\n",
       "      <td>C1010024</td>\n",
       "      <td>39.195278</td>\n",
       "    </tr>\n",
       "    <tr>\n",
       "      <th>...</th>\n",
       "      <td>...</td>\n",
       "      <td>...</td>\n",
       "    </tr>\n",
       "    <tr>\n",
       "      <th>879353</th>\n",
       "      <td>C9099836</td>\n",
       "      <td>1.422778</td>\n",
       "    </tr>\n",
       "    <tr>\n",
       "      <th>879354</th>\n",
       "      <td>C9099877</td>\n",
       "      <td>33.404167</td>\n",
       "    </tr>\n",
       "    <tr>\n",
       "      <th>879355</th>\n",
       "      <td>C9099919</td>\n",
       "      <td>34.036944</td>\n",
       "    </tr>\n",
       "    <tr>\n",
       "      <th>879356</th>\n",
       "      <td>C9099941</td>\n",
       "      <td>59.367222</td>\n",
       "    </tr>\n",
       "    <tr>\n",
       "      <th>879357</th>\n",
       "      <td>C9099956</td>\n",
       "      <td>62.703333</td>\n",
       "    </tr>\n",
       "  </tbody>\n",
       "</table>\n",
       "<p>879358 rows × 2 columns</p>\n",
       "</div>"
      ],
      "text/plain": [
       "       CustomerID  TransactionTimeMinute\n",
       "0        C1010011              18.755833\n",
       "1        C1010012              56.780278\n",
       "2        C1010014              52.049444\n",
       "3        C1010018              47.292778\n",
       "4        C1010024              39.195278\n",
       "...           ...                    ...\n",
       "879353   C9099836               1.422778\n",
       "879354   C9099877              33.404167\n",
       "879355   C9099919              34.036944\n",
       "879356   C9099941              59.367222\n",
       "879357   C9099956              62.703333\n",
       "\n",
       "[879358 rows x 2 columns]"
      ]
     },
     "execution_count": 61,
     "metadata": {},
     "output_type": "execute_result"
    }
   ],
   "source": [
    "customers_txn_time_df"
   ]
  },
  {
   "cell_type": "markdown",
   "metadata": {},
   "source": [
    "ticket size"
   ]
  },
  {
   "cell_type": "code",
   "execution_count": 62,
   "metadata": {},
   "outputs": [],
   "source": [
    "customers_ticket_size = df.groupby('CustomerID')['TransactionAmount (INR)'].mean().reset_index()\n",
    "customers_ticket_size.columns = ['CustomerID', 'TicketSize']"
   ]
  },
  {
   "cell_type": "code",
   "execution_count": 63,
   "metadata": {},
   "outputs": [
    {
     "data": {
      "text/html": [
       "<div>\n",
       "<style scoped>\n",
       "    .dataframe tbody tr th:only-of-type {\n",
       "        vertical-align: middle;\n",
       "    }\n",
       "\n",
       "    .dataframe tbody tr th {\n",
       "        vertical-align: top;\n",
       "    }\n",
       "\n",
       "    .dataframe thead th {\n",
       "        text-align: right;\n",
       "    }\n",
       "</style>\n",
       "<table border=\"1\" class=\"dataframe\">\n",
       "  <thead>\n",
       "    <tr style=\"text-align: right;\">\n",
       "      <th></th>\n",
       "      <th>CustomerID</th>\n",
       "      <th>TicketSize</th>\n",
       "    </tr>\n",
       "  </thead>\n",
       "  <tbody>\n",
       "    <tr>\n",
       "      <th>0</th>\n",
       "      <td>C1010011</td>\n",
       "      <td>2553.0</td>\n",
       "    </tr>\n",
       "    <tr>\n",
       "      <th>1</th>\n",
       "      <td>C1010012</td>\n",
       "      <td>1499.0</td>\n",
       "    </tr>\n",
       "    <tr>\n",
       "      <th>2</th>\n",
       "      <td>C1010014</td>\n",
       "      <td>727.5</td>\n",
       "    </tr>\n",
       "    <tr>\n",
       "      <th>3</th>\n",
       "      <td>C1010018</td>\n",
       "      <td>30.0</td>\n",
       "    </tr>\n",
       "    <tr>\n",
       "      <th>4</th>\n",
       "      <td>C1010024</td>\n",
       "      <td>5000.0</td>\n",
       "    </tr>\n",
       "    <tr>\n",
       "      <th>...</th>\n",
       "      <td>...</td>\n",
       "      <td>...</td>\n",
       "    </tr>\n",
       "    <tr>\n",
       "      <th>879353</th>\n",
       "      <td>C9099836</td>\n",
       "      <td>691.0</td>\n",
       "    </tr>\n",
       "    <tr>\n",
       "      <th>879354</th>\n",
       "      <td>C9099877</td>\n",
       "      <td>222.0</td>\n",
       "    </tr>\n",
       "    <tr>\n",
       "      <th>879355</th>\n",
       "      <td>C9099919</td>\n",
       "      <td>126.0</td>\n",
       "    </tr>\n",
       "    <tr>\n",
       "      <th>879356</th>\n",
       "      <td>C9099941</td>\n",
       "      <td>50.0</td>\n",
       "    </tr>\n",
       "    <tr>\n",
       "      <th>879357</th>\n",
       "      <td>C9099956</td>\n",
       "      <td>855.0</td>\n",
       "    </tr>\n",
       "  </tbody>\n",
       "</table>\n",
       "<p>879358 rows × 2 columns</p>\n",
       "</div>"
      ],
      "text/plain": [
       "       CustomerID  TicketSize\n",
       "0        C1010011      2553.0\n",
       "1        C1010012      1499.0\n",
       "2        C1010014       727.5\n",
       "3        C1010018        30.0\n",
       "4        C1010024      5000.0\n",
       "...           ...         ...\n",
       "879353   C9099836       691.0\n",
       "879354   C9099877       222.0\n",
       "879355   C9099919       126.0\n",
       "879356   C9099941        50.0\n",
       "879357   C9099956       855.0\n",
       "\n",
       "[879358 rows x 2 columns]"
      ]
     },
     "execution_count": 63,
     "metadata": {},
     "output_type": "execute_result"
    }
   ],
   "source": [
    "customers_ticket_size"
   ]
  },
  {
   "cell_type": "markdown",
   "metadata": {},
   "source": [
    "balance"
   ]
  },
  {
   "cell_type": "code",
   "execution_count": 64,
   "metadata": {},
   "outputs": [],
   "source": [
    "customers_balance_df = df.groupby('CustomerID')['CustAccountBalance'].mean().reset_index()\n",
    "customers_balance_df.columns = ['CustomerID', 'BalanceSize']"
   ]
  },
  {
   "cell_type": "code",
   "execution_count": 65,
   "metadata": {},
   "outputs": [
    {
     "data": {
      "text/html": [
       "<div>\n",
       "<style scoped>\n",
       "    .dataframe tbody tr th:only-of-type {\n",
       "        vertical-align: middle;\n",
       "    }\n",
       "\n",
       "    .dataframe tbody tr th {\n",
       "        vertical-align: top;\n",
       "    }\n",
       "\n",
       "    .dataframe thead th {\n",
       "        text-align: right;\n",
       "    }\n",
       "</style>\n",
       "<table border=\"1\" class=\"dataframe\">\n",
       "  <thead>\n",
       "    <tr style=\"text-align: right;\">\n",
       "      <th></th>\n",
       "      <th>CustomerID</th>\n",
       "      <th>BalanceSize</th>\n",
       "    </tr>\n",
       "  </thead>\n",
       "  <tbody>\n",
       "    <tr>\n",
       "      <th>0</th>\n",
       "      <td>C1010011</td>\n",
       "      <td>76340.635</td>\n",
       "    </tr>\n",
       "    <tr>\n",
       "      <th>1</th>\n",
       "      <td>C1010012</td>\n",
       "      <td>24204.490</td>\n",
       "    </tr>\n",
       "    <tr>\n",
       "      <th>2</th>\n",
       "      <td>C1010014</td>\n",
       "      <td>100112.950</td>\n",
       "    </tr>\n",
       "    <tr>\n",
       "      <th>3</th>\n",
       "      <td>C1010018</td>\n",
       "      <td>496.180</td>\n",
       "    </tr>\n",
       "    <tr>\n",
       "      <th>4</th>\n",
       "      <td>C1010024</td>\n",
       "      <td>87058.650</td>\n",
       "    </tr>\n",
       "    <tr>\n",
       "      <th>...</th>\n",
       "      <td>...</td>\n",
       "      <td>...</td>\n",
       "    </tr>\n",
       "    <tr>\n",
       "      <th>879353</th>\n",
       "      <td>C9099836</td>\n",
       "      <td>133067.230</td>\n",
       "    </tr>\n",
       "    <tr>\n",
       "      <th>879354</th>\n",
       "      <td>C9099877</td>\n",
       "      <td>96063.460</td>\n",
       "    </tr>\n",
       "    <tr>\n",
       "      <th>879355</th>\n",
       "      <td>C9099919</td>\n",
       "      <td>5559.750</td>\n",
       "    </tr>\n",
       "    <tr>\n",
       "      <th>879356</th>\n",
       "      <td>C9099941</td>\n",
       "      <td>35295.920</td>\n",
       "    </tr>\n",
       "    <tr>\n",
       "      <th>879357</th>\n",
       "      <td>C9099956</td>\n",
       "      <td>6968.930</td>\n",
       "    </tr>\n",
       "  </tbody>\n",
       "</table>\n",
       "<p>879358 rows × 2 columns</p>\n",
       "</div>"
      ],
      "text/plain": [
       "       CustomerID  BalanceSize\n",
       "0        C1010011    76340.635\n",
       "1        C1010012    24204.490\n",
       "2        C1010014   100112.950\n",
       "3        C1010018      496.180\n",
       "4        C1010024    87058.650\n",
       "...           ...          ...\n",
       "879353   C9099836   133067.230\n",
       "879354   C9099877    96063.460\n",
       "879355   C9099919     5559.750\n",
       "879356   C9099941    35295.920\n",
       "879357   C9099956     6968.930\n",
       "\n",
       "[879358 rows x 2 columns]"
      ]
     },
     "execution_count": 65,
     "metadata": {},
     "output_type": "execute_result"
    }
   ],
   "source": [
    "customers_balance_df"
   ]
  },
  {
   "cell_type": "markdown",
   "metadata": {},
   "source": [
    "no txn"
   ]
  },
  {
   "cell_type": "code",
   "execution_count": 66,
   "metadata": {},
   "outputs": [],
   "source": [
    "customers_no_txn_df = df.groupby('CustomerID')['TransactionID'].count().reset_index()\n",
    "customers_no_txn_df.columns = ['CustomerID', 'NoTransaction']"
   ]
  },
  {
   "cell_type": "code",
   "execution_count": 67,
   "metadata": {},
   "outputs": [
    {
     "data": {
      "text/html": [
       "<div>\n",
       "<style scoped>\n",
       "    .dataframe tbody tr th:only-of-type {\n",
       "        vertical-align: middle;\n",
       "    }\n",
       "\n",
       "    .dataframe tbody tr th {\n",
       "        vertical-align: top;\n",
       "    }\n",
       "\n",
       "    .dataframe thead th {\n",
       "        text-align: right;\n",
       "    }\n",
       "</style>\n",
       "<table border=\"1\" class=\"dataframe\">\n",
       "  <thead>\n",
       "    <tr style=\"text-align: right;\">\n",
       "      <th></th>\n",
       "      <th>CustomerID</th>\n",
       "      <th>NoTransaction</th>\n",
       "    </tr>\n",
       "  </thead>\n",
       "  <tbody>\n",
       "    <tr>\n",
       "      <th>0</th>\n",
       "      <td>C1010011</td>\n",
       "      <td>2</td>\n",
       "    </tr>\n",
       "    <tr>\n",
       "      <th>1</th>\n",
       "      <td>C1010012</td>\n",
       "      <td>1</td>\n",
       "    </tr>\n",
       "    <tr>\n",
       "      <th>2</th>\n",
       "      <td>C1010014</td>\n",
       "      <td>2</td>\n",
       "    </tr>\n",
       "    <tr>\n",
       "      <th>3</th>\n",
       "      <td>C1010018</td>\n",
       "      <td>1</td>\n",
       "    </tr>\n",
       "    <tr>\n",
       "      <th>4</th>\n",
       "      <td>C1010024</td>\n",
       "      <td>1</td>\n",
       "    </tr>\n",
       "    <tr>\n",
       "      <th>...</th>\n",
       "      <td>...</td>\n",
       "      <td>...</td>\n",
       "    </tr>\n",
       "    <tr>\n",
       "      <th>879353</th>\n",
       "      <td>C9099836</td>\n",
       "      <td>1</td>\n",
       "    </tr>\n",
       "    <tr>\n",
       "      <th>879354</th>\n",
       "      <td>C9099877</td>\n",
       "      <td>1</td>\n",
       "    </tr>\n",
       "    <tr>\n",
       "      <th>879355</th>\n",
       "      <td>C9099919</td>\n",
       "      <td>1</td>\n",
       "    </tr>\n",
       "    <tr>\n",
       "      <th>879356</th>\n",
       "      <td>C9099941</td>\n",
       "      <td>1</td>\n",
       "    </tr>\n",
       "    <tr>\n",
       "      <th>879357</th>\n",
       "      <td>C9099956</td>\n",
       "      <td>1</td>\n",
       "    </tr>\n",
       "  </tbody>\n",
       "</table>\n",
       "<p>879358 rows × 2 columns</p>\n",
       "</div>"
      ],
      "text/plain": [
       "       CustomerID  NoTransaction\n",
       "0        C1010011              2\n",
       "1        C1010012              1\n",
       "2        C1010014              2\n",
       "3        C1010018              1\n",
       "4        C1010024              1\n",
       "...           ...            ...\n",
       "879353   C9099836              1\n",
       "879354   C9099877              1\n",
       "879355   C9099919              1\n",
       "879356   C9099941              1\n",
       "879357   C9099956              1\n",
       "\n",
       "[879358 rows x 2 columns]"
      ]
     },
     "execution_count": 67,
     "metadata": {},
     "output_type": "execute_result"
    }
   ],
   "source": [
    "customers_no_txn_df"
   ]
  },
  {
   "cell_type": "code",
   "execution_count": 68,
   "metadata": {},
   "outputs": [],
   "source": [
    "# distinct_customers_df\n",
    "# customers_age_df\n",
    "# customers_sex_df\n",
    "# customers_big_city_df\n",
    "# customers_txn_time_df\n",
    "# customers_ticket_size\n",
    "# customers_balance_df\n",
    "# customers_no_txn_df"
   ]
  },
  {
   "cell_type": "code",
   "execution_count": 69,
   "metadata": {},
   "outputs": [],
   "source": [
    "df_transformed = distinct_customers_df\n",
    "df_transformed = pd.merge(df_transformed, customers_age_df, on='CustomerID', how='left')\n",
    "df_transformed = pd.merge(df_transformed, customers_sex_df, on='CustomerID', how='left')\n",
    "df_transformed = pd.merge(df_transformed, customers_big_city_df, on='CustomerID', how='left')\n",
    "df_transformed = pd.merge(df_transformed, customers_txn_time_df, on='CustomerID', how='left')\n",
    "df_transformed = pd.merge(df_transformed, customers_ticket_size, on='CustomerID', how='left')\n",
    "df_transformed = pd.merge(df_transformed, customers_balance_df, on='CustomerID', how='left')\n",
    "df_transformed = pd.merge(df_transformed, customers_no_txn_df, on='CustomerID', how='left')"
   ]
  },
  {
   "cell_type": "code",
   "execution_count": 70,
   "metadata": {},
   "outputs": [
    {
     "data": {
      "text/html": [
       "<div>\n",
       "<style scoped>\n",
       "    .dataframe tbody tr th:only-of-type {\n",
       "        vertical-align: middle;\n",
       "    }\n",
       "\n",
       "    .dataframe tbody tr th {\n",
       "        vertical-align: top;\n",
       "    }\n",
       "\n",
       "    .dataframe thead th {\n",
       "        text-align: right;\n",
       "    }\n",
       "</style>\n",
       "<table border=\"1\" class=\"dataframe\">\n",
       "  <thead>\n",
       "    <tr style=\"text-align: right;\">\n",
       "      <th></th>\n",
       "      <th>CustomerID</th>\n",
       "      <th>Age</th>\n",
       "      <th>Sex</th>\n",
       "      <th>BigCity</th>\n",
       "      <th>TransactionTimeMinute</th>\n",
       "      <th>TicketSize</th>\n",
       "      <th>BalanceSize</th>\n",
       "      <th>NoTransaction</th>\n",
       "    </tr>\n",
       "  </thead>\n",
       "  <tbody>\n",
       "    <tr>\n",
       "      <th>0</th>\n",
       "      <td>C5841053</td>\n",
       "      <td>22.0</td>\n",
       "      <td>0</td>\n",
       "      <td>0</td>\n",
       "      <td>39.779722</td>\n",
       "      <td>25.0</td>\n",
       "      <td>17819.050</td>\n",
       "      <td>1</td>\n",
       "    </tr>\n",
       "    <tr>\n",
       "      <th>1</th>\n",
       "      <td>C2142763</td>\n",
       "      <td>59.0</td>\n",
       "      <td>1</td>\n",
       "      <td>0</td>\n",
       "      <td>39.405000</td>\n",
       "      <td>27999.0</td>\n",
       "      <td>2270.690</td>\n",
       "      <td>1</td>\n",
       "    </tr>\n",
       "    <tr>\n",
       "      <th>2</th>\n",
       "      <td>C4417068</td>\n",
       "      <td>20.0</td>\n",
       "      <td>0</td>\n",
       "      <td>1</td>\n",
       "      <td>39.642222</td>\n",
       "      <td>459.0</td>\n",
       "      <td>17874.440</td>\n",
       "      <td>1</td>\n",
       "    </tr>\n",
       "    <tr>\n",
       "      <th>3</th>\n",
       "      <td>C5342380</td>\n",
       "      <td>43.0</td>\n",
       "      <td>1</td>\n",
       "      <td>1</td>\n",
       "      <td>46.786389</td>\n",
       "      <td>1469.2</td>\n",
       "      <td>434849.495</td>\n",
       "      <td>2</td>\n",
       "    </tr>\n",
       "    <tr>\n",
       "      <th>4</th>\n",
       "      <td>C9031234</td>\n",
       "      <td>28.0</td>\n",
       "      <td>0</td>\n",
       "      <td>0</td>\n",
       "      <td>50.321111</td>\n",
       "      <td>1762.5</td>\n",
       "      <td>6714.430</td>\n",
       "      <td>1</td>\n",
       "    </tr>\n",
       "    <tr>\n",
       "      <th>...</th>\n",
       "      <td>...</td>\n",
       "      <td>...</td>\n",
       "      <td>...</td>\n",
       "      <td>...</td>\n",
       "      <td>...</td>\n",
       "      <td>...</td>\n",
       "      <td>...</td>\n",
       "      <td>...</td>\n",
       "    </tr>\n",
       "    <tr>\n",
       "      <th>879353</th>\n",
       "      <td>C5028150</td>\n",
       "      <td>36.0</td>\n",
       "      <td>1</td>\n",
       "      <td>1</td>\n",
       "      <td>51.286667</td>\n",
       "      <td>3000.0</td>\n",
       "      <td>464.870</td>\n",
       "      <td>1</td>\n",
       "    </tr>\n",
       "    <tr>\n",
       "      <th>879354</th>\n",
       "      <td>C1034220</td>\n",
       "      <td>24.0</td>\n",
       "      <td>1</td>\n",
       "      <td>1</td>\n",
       "      <td>51.315000</td>\n",
       "      <td>1500.0</td>\n",
       "      <td>1212.700</td>\n",
       "      <td>1</td>\n",
       "    </tr>\n",
       "    <tr>\n",
       "      <th>879355</th>\n",
       "      <td>C8020229</td>\n",
       "      <td>26.0</td>\n",
       "      <td>1</td>\n",
       "      <td>0</td>\n",
       "      <td>51.340000</td>\n",
       "      <td>799.0</td>\n",
       "      <td>7635.190</td>\n",
       "      <td>1</td>\n",
       "    </tr>\n",
       "    <tr>\n",
       "      <th>879356</th>\n",
       "      <td>C6459278</td>\n",
       "      <td>24.0</td>\n",
       "      <td>1</td>\n",
       "      <td>0</td>\n",
       "      <td>51.037222</td>\n",
       "      <td>460.0</td>\n",
       "      <td>27311.420</td>\n",
       "      <td>1</td>\n",
       "    </tr>\n",
       "    <tr>\n",
       "      <th>879357</th>\n",
       "      <td>C6420483</td>\n",
       "      <td>38.0</td>\n",
       "      <td>1</td>\n",
       "      <td>0</td>\n",
       "      <td>51.307222</td>\n",
       "      <td>1000.0</td>\n",
       "      <td>10117.870</td>\n",
       "      <td>1</td>\n",
       "    </tr>\n",
       "  </tbody>\n",
       "</table>\n",
       "<p>879358 rows × 8 columns</p>\n",
       "</div>"
      ],
      "text/plain": [
       "       CustomerID   Age  Sex  BigCity  TransactionTimeMinute  TicketSize  \\\n",
       "0        C5841053  22.0    0        0              39.779722        25.0   \n",
       "1        C2142763  59.0    1        0              39.405000     27999.0   \n",
       "2        C4417068  20.0    0        1              39.642222       459.0   \n",
       "3        C5342380  43.0    1        1              46.786389      1469.2   \n",
       "4        C9031234  28.0    0        0              50.321111      1762.5   \n",
       "...           ...   ...  ...      ...                    ...         ...   \n",
       "879353   C5028150  36.0    1        1              51.286667      3000.0   \n",
       "879354   C1034220  24.0    1        1              51.315000      1500.0   \n",
       "879355   C8020229  26.0    1        0              51.340000       799.0   \n",
       "879356   C6459278  24.0    1        0              51.037222       460.0   \n",
       "879357   C6420483  38.0    1        0              51.307222      1000.0   \n",
       "\n",
       "        BalanceSize  NoTransaction  \n",
       "0         17819.050              1  \n",
       "1          2270.690              1  \n",
       "2         17874.440              1  \n",
       "3        434849.495              2  \n",
       "4          6714.430              1  \n",
       "...             ...            ...  \n",
       "879353      464.870              1  \n",
       "879354     1212.700              1  \n",
       "879355     7635.190              1  \n",
       "879356    27311.420              1  \n",
       "879357    10117.870              1  \n",
       "\n",
       "[879358 rows x 8 columns]"
      ]
     },
     "execution_count": 70,
     "metadata": {},
     "output_type": "execute_result"
    }
   ],
   "source": [
    "df_transformed"
   ]
  },
  {
   "cell_type": "code",
   "execution_count": 71,
   "metadata": {},
   "outputs": [
    {
     "name": "stdout",
     "output_type": "stream",
     "text": [
      "<class 'pandas.core.frame.DataFrame'>\n",
      "Int64Index: 879358 entries, 0 to 879357\n",
      "Data columns (total 8 columns):\n",
      " #   Column                 Non-Null Count   Dtype  \n",
      "---  ------                 --------------   -----  \n",
      " 0   CustomerID             879358 non-null  object \n",
      " 1   Age                    839081 non-null  float64\n",
      " 2   Sex                    879358 non-null  int64  \n",
      " 3   BigCity                879358 non-null  int64  \n",
      " 4   TransactionTimeMinute  879358 non-null  float64\n",
      " 5   TicketSize             879358 non-null  float64\n",
      " 6   BalanceSize            879358 non-null  float64\n",
      " 7   NoTransaction          879358 non-null  int64  \n",
      "dtypes: float64(4), int64(3), object(1)\n",
      "memory usage: 60.4+ MB\n"
     ]
    }
   ],
   "source": [
    "df_transformed.info()"
   ]
  },
  {
   "cell_type": "markdown",
   "metadata": {},
   "source": [
    "fill age na"
   ]
  },
  {
   "cell_type": "code",
   "execution_count": 72,
   "metadata": {},
   "outputs": [],
   "source": [
    "mean_age = df_transformed['Age'].mean()"
   ]
  },
  {
   "cell_type": "code",
   "execution_count": 73,
   "metadata": {},
   "outputs": [],
   "source": [
    "df_transformed['Age'].fillna(mean_age, inplace=True)"
   ]
  },
  {
   "cell_type": "code",
   "execution_count": 74,
   "metadata": {},
   "outputs": [
    {
     "name": "stdout",
     "output_type": "stream",
     "text": [
      "<class 'pandas.core.frame.DataFrame'>\n",
      "Int64Index: 879358 entries, 0 to 879357\n",
      "Data columns (total 8 columns):\n",
      " #   Column                 Non-Null Count   Dtype  \n",
      "---  ------                 --------------   -----  \n",
      " 0   CustomerID             879358 non-null  object \n",
      " 1   Age                    879358 non-null  float64\n",
      " 2   Sex                    879358 non-null  int64  \n",
      " 3   BigCity                879358 non-null  int64  \n",
      " 4   TransactionTimeMinute  879358 non-null  float64\n",
      " 5   TicketSize             879358 non-null  float64\n",
      " 6   BalanceSize            879358 non-null  float64\n",
      " 7   NoTransaction          879358 non-null  int64  \n",
      "dtypes: float64(4), int64(3), object(1)\n",
      "memory usage: 60.4+ MB\n"
     ]
    }
   ],
   "source": [
    "df_transformed.info()"
   ]
  },
  {
   "cell_type": "code",
   "execution_count": 75,
   "metadata": {},
   "outputs": [],
   "source": [
    "df = df_transformed"
   ]
  },
  {
   "cell_type": "code",
   "execution_count": 82,
   "metadata": {},
   "outputs": [],
   "source": [
    "df.drop('CustomerID', axis=1, inplace=True)"
   ]
  },
  {
   "cell_type": "markdown",
   "metadata": {},
   "source": [
    "# 4. EDA"
   ]
  },
  {
   "cell_type": "code",
   "execution_count": 76,
   "metadata": {},
   "outputs": [],
   "source": [
    "# calculate correlation matrix\n",
    "corr = df.corr()"
   ]
  },
  {
   "cell_type": "code",
   "execution_count": 77,
   "metadata": {},
   "outputs": [
    {
     "data": {
      "text/html": [
       "<div>\n",
       "<style scoped>\n",
       "    .dataframe tbody tr th:only-of-type {\n",
       "        vertical-align: middle;\n",
       "    }\n",
       "\n",
       "    .dataframe tbody tr th {\n",
       "        vertical-align: top;\n",
       "    }\n",
       "\n",
       "    .dataframe thead th {\n",
       "        text-align: right;\n",
       "    }\n",
       "</style>\n",
       "<table border=\"1\" class=\"dataframe\">\n",
       "  <thead>\n",
       "    <tr style=\"text-align: right;\">\n",
       "      <th></th>\n",
       "      <th>Age</th>\n",
       "      <th>Sex</th>\n",
       "      <th>BigCity</th>\n",
       "      <th>TransactionTimeMinute</th>\n",
       "      <th>TicketSize</th>\n",
       "      <th>BalanceSize</th>\n",
       "      <th>NoTransaction</th>\n",
       "    </tr>\n",
       "  </thead>\n",
       "  <tbody>\n",
       "    <tr>\n",
       "      <th>count</th>\n",
       "      <td>879358.000000</td>\n",
       "      <td>879358.000000</td>\n",
       "      <td>879358.000000</td>\n",
       "      <td>879358.000000</td>\n",
       "      <td>8.793580e+05</td>\n",
       "      <td>8.793580e+05</td>\n",
       "      <td>879358.000000</td>\n",
       "    </tr>\n",
       "    <tr>\n",
       "      <th>mean</th>\n",
       "      <td>31.866631</td>\n",
       "      <td>0.763298</td>\n",
       "      <td>0.405099</td>\n",
       "      <td>43.649628</td>\n",
       "      <td>1.566794e+03</td>\n",
       "      <td>1.147150e+05</td>\n",
       "      <td>1.184516</td>\n",
       "    </tr>\n",
       "    <tr>\n",
       "      <th>std</th>\n",
       "      <td>9.207944</td>\n",
       "      <td>0.425058</td>\n",
       "      <td>0.490911</td>\n",
       "      <td>13.630718</td>\n",
       "      <td>6.433248e+03</td>\n",
       "      <td>8.010838e+05</td>\n",
       "      <td>0.448954</td>\n",
       "    </tr>\n",
       "    <tr>\n",
       "      <th>min</th>\n",
       "      <td>17.000000</td>\n",
       "      <td>0.000000</td>\n",
       "      <td>0.000000</td>\n",
       "      <td>0.000000</td>\n",
       "      <td>0.000000e+00</td>\n",
       "      <td>0.000000e+00</td>\n",
       "      <td>1.000000</td>\n",
       "    </tr>\n",
       "    <tr>\n",
       "      <th>25%</th>\n",
       "      <td>26.000000</td>\n",
       "      <td>1.000000</td>\n",
       "      <td>0.000000</td>\n",
       "      <td>34.842778</td>\n",
       "      <td>1.908725e+02</td>\n",
       "      <td>5.591270e+03</td>\n",
       "      <td>1.000000</td>\n",
       "    </tr>\n",
       "    <tr>\n",
       "      <th>50%</th>\n",
       "      <td>30.000000</td>\n",
       "      <td>1.000000</td>\n",
       "      <td>0.000000</td>\n",
       "      <td>45.430000</td>\n",
       "      <td>5.000000e+02</td>\n",
       "      <td>1.866578e+04</td>\n",
       "      <td>1.000000</td>\n",
       "    </tr>\n",
       "    <tr>\n",
       "      <th>75%</th>\n",
       "      <td>35.000000</td>\n",
       "      <td>1.000000</td>\n",
       "      <td>1.000000</td>\n",
       "      <td>54.088611</td>\n",
       "      <td>1.241000e+03</td>\n",
       "      <td>6.154196e+04</td>\n",
       "      <td>1.000000</td>\n",
       "    </tr>\n",
       "    <tr>\n",
       "      <th>max</th>\n",
       "      <td>116.000000</td>\n",
       "      <td>1.000000</td>\n",
       "      <td>1.000000</td>\n",
       "      <td>65.544167</td>\n",
       "      <td>1.560035e+06</td>\n",
       "      <td>1.150355e+08</td>\n",
       "      <td>6.000000</td>\n",
       "    </tr>\n",
       "  </tbody>\n",
       "</table>\n",
       "</div>"
      ],
      "text/plain": [
       "                 Age            Sex        BigCity  TransactionTimeMinute  \\\n",
       "count  879358.000000  879358.000000  879358.000000          879358.000000   \n",
       "mean       31.866631       0.763298       0.405099              43.649628   \n",
       "std         9.207944       0.425058       0.490911              13.630718   \n",
       "min        17.000000       0.000000       0.000000               0.000000   \n",
       "25%        26.000000       1.000000       0.000000              34.842778   \n",
       "50%        30.000000       1.000000       0.000000              45.430000   \n",
       "75%        35.000000       1.000000       1.000000              54.088611   \n",
       "max       116.000000       1.000000       1.000000              65.544167   \n",
       "\n",
       "         TicketSize   BalanceSize  NoTransaction  \n",
       "count  8.793580e+05  8.793580e+05  879358.000000  \n",
       "mean   1.566794e+03  1.147150e+05       1.184516  \n",
       "std    6.433248e+03  8.010838e+05       0.448954  \n",
       "min    0.000000e+00  0.000000e+00       1.000000  \n",
       "25%    1.908725e+02  5.591270e+03       1.000000  \n",
       "50%    5.000000e+02  1.866578e+04       1.000000  \n",
       "75%    1.241000e+03  6.154196e+04       1.000000  \n",
       "max    1.560035e+06  1.150355e+08       6.000000  "
      ]
     },
     "execution_count": 77,
     "metadata": {},
     "output_type": "execute_result"
    }
   ],
   "source": [
    "df.describe()"
   ]
  },
  {
   "cell_type": "code",
   "execution_count": 78,
   "metadata": {},
   "outputs": [
    {
     "data": {
      "text/plain": [
       "<AxesSubplot:>"
      ]
     },
     "execution_count": 78,
     "metadata": {},
     "output_type": "execute_result"
    },
    {
     "data": {
      "image/png": "[encoded data removed]",
      "text/plain": [
       "<Figure size 1440x360 with 2 Axes>"
      ]
     },
     "metadata": {
      "needs_background": "light"
     },
     "output_type": "display_data"
    }
   ],
   "source": [
    "# create figure and axes\n",
    "fig, ax = plt.subplots(figsize=(20, 5))\n",
    "# plot correlation matrix\n",
    "sns.heatmap(corr, annot=True, ax=ax)"
   ]
  },
  {
   "cell_type": "markdown",
   "metadata": {},
   "source": [
    "# 5. Model"
   ]
  },
  {
   "cell_type": "code",
   "execution_count": 83,
   "metadata": {},
   "outputs": [],
   "source": [
    "# Import libary for K-means model\n",
    "from sklearn.cluster import KMeans"
   ]
  },
  {
   "cell_type": "code",
   "execution_count": 84,
   "metadata": {},
   "outputs": [],
   "source": [
    "scaler = MinMaxScaler()"
   ]
  },
  {
   "cell_type": "code",
   "execution_count": 85,
   "metadata": {},
   "outputs": [],
   "source": [
    "df_scaled = scaler.fit_transform(df)"
   ]
  },
  {
   "cell_type": "code",
   "execution_count": 86,
   "metadata": {},
   "outputs": [
    {
     "data": {
      "text/plain": [
       "array([[5.05050505e-02, 0.00000000e+00, 0.00000000e+00, ...,\n",
       "        1.60252816e-05, 1.54900450e-04, 0.00000000e+00],\n",
       "       [4.24242424e-01, 1.00000000e+00, 0.00000000e+00, ...,\n",
       "        1.79476744e-02, 1.97390379e-05, 0.00000000e+00],\n",
       "       [3.03030303e-02, 0.00000000e+00, 1.00000000e+00, ...,\n",
       "        2.94224170e-04, 1.55381954e-04, 0.00000000e+00],\n",
       "       ...,\n",
       "       [9.09090909e-02, 1.00000000e+00, 0.00000000e+00, ...,\n",
       "        5.12168000e-04, 6.63724705e-05, 0.00000000e+00],\n",
       "       [7.07070707e-02, 1.00000000e+00, 0.00000000e+00, ...,\n",
       "        2.94865181e-04, 2.37417329e-04, 0.00000000e+00],\n",
       "       [2.12121212e-01, 1.00000000e+00, 0.00000000e+00, ...,\n",
       "        6.41011263e-04, 8.79543309e-05, 0.00000000e+00]])"
      ]
     },
     "execution_count": 86,
     "metadata": {},
     "output_type": "execute_result"
    }
   ],
   "source": [
    "df_scaled"
   ]
  },
  {
   "cell_type": "code",
   "execution_count": 87,
   "metadata": {},
   "outputs": [],
   "source": [
    "sse = [] # sum of squared errors\n",
    "list_k = list(range(1, 11))\n",
    "\n",
    "for k in list_k:\n",
    "    km = KMeans(n_clusters=k)\n",
    "    km.fit(df_scaled)\n",
    "    # Calculate the sum of squared errors for each model\n",
    "    sse.append(km.inertia_)"
   ]
  },
  {
   "cell_type": "code",
   "execution_count": 88,
   "metadata": {},
   "outputs": [
    {
     "data": {
      "text/plain": [
       "[423582.35744904174,\n",
       " 211366.279330373,\n",
       " 102297.22459744525,\n",
       " 52176.43241733244,\n",
       " 40030.797930991495,\n",
       " 32576.55722313867,\n",
       " 29293.703528834863,\n",
       " 26263.067991006264,\n",
       " 23438.877978649245,\n",
       " 21324.354485889548]"
      ]
     },
     "execution_count": 88,
     "metadata": {},
     "output_type": "execute_result"
    }
   ],
   "source": [
    "sse"
   ]
  },
  {
   "cell_type": "code",
   "execution_count": 89,
   "metadata": {},
   "outputs": [
    {
     "data": {
      "text/plain": [
       "[1, 2, 3, 4, 5, 6, 7, 8, 9, 10]"
      ]
     },
     "execution_count": 89,
     "metadata": {},
     "output_type": "execute_result"
    }
   ],
   "source": [
    "list_k"
   ]
  },
  {
   "cell_type": "code",
   "execution_count": 90,
   "metadata": {},
   "outputs": [
    {
     "data": {
      "image/png": "[encoded data removed]",
      "text/plain": [
       "<Figure size 432x432 with 1 Axes>"
      ]
     },
     "metadata": {
      "needs_background": "light"
     },
     "output_type": "display_data"
    }
   ],
   "source": [
    "# 4. Plot an elbow graph to help decide the optimal number of clusters\n",
    "plt.figure(figsize=(6, 6))\n",
    "plt.plot(list_k, sse, '-o')\n",
    "plt.xlabel('Number of clusters k')\n",
    "plt.ylabel('Sum of squared distance')\n",
    "plt.show()"
   ]
  },
  {
   "cell_type": "code",
   "execution_count": 120,
   "metadata": {},
   "outputs": [],
   "source": [
    "# In the elbow method, K = 5 appears to be a promising choice,\n",
    "# yet we will evaluate values of 4, 5, and 6 to determine the most contextually relevant option from a business perspective."
   ]
  },
  {
   "cell_type": "code",
   "execution_count": 121,
   "metadata": {},
   "outputs": [],
   "source": [
    "# K = 4"
   ]
  },
  {
   "cell_type": "code",
   "execution_count": 122,
   "metadata": {},
   "outputs": [],
   "source": [
    "km_4 = KMeans(n_clusters=4)"
   ]
  },
  {
   "cell_type": "code",
   "execution_count": 123,
   "metadata": {},
   "outputs": [
    {
     "data": {
      "text/plain": [
       "KMeans(n_clusters=4)"
      ]
     },
     "execution_count": 123,
     "metadata": {},
     "output_type": "execute_result"
    }
   ],
   "source": [
    "km_4.fit(df_scaled)"
   ]
  },
  {
   "cell_type": "code",
   "execution_count": 124,
   "metadata": {},
   "outputs": [],
   "source": [
    "df['km_4'] = km_4.predict(df_scaled)"
   ]
  },
  {
   "cell_type": "code",
   "execution_count": 125,
   "metadata": {},
   "outputs": [
    {
     "data": {
      "text/html": [
       "<div>\n",
       "<style scoped>\n",
       "    .dataframe tbody tr th:only-of-type {\n",
       "        vertical-align: middle;\n",
       "    }\n",
       "\n",
       "    .dataframe tbody tr th {\n",
       "        vertical-align: top;\n",
       "    }\n",
       "\n",
       "    .dataframe thead th {\n",
       "        text-align: right;\n",
       "    }\n",
       "</style>\n",
       "<table border=\"1\" class=\"dataframe\">\n",
       "  <thead>\n",
       "    <tr style=\"text-align: right;\">\n",
       "      <th></th>\n",
       "      <th>Age</th>\n",
       "      <th>Sex</th>\n",
       "      <th>BigCity</th>\n",
       "      <th>TransactionTimeMinute</th>\n",
       "      <th>TicketSize</th>\n",
       "      <th>BalanceSize</th>\n",
       "      <th>NoTransaction</th>\n",
       "      <th>km_4</th>\n",
       "    </tr>\n",
       "  </thead>\n",
       "  <tbody>\n",
       "    <tr>\n",
       "      <th>0</th>\n",
       "      <td>22.0</td>\n",
       "      <td>0</td>\n",
       "      <td>0</td>\n",
       "      <td>39.779722</td>\n",
       "      <td>25.0</td>\n",
       "      <td>17819.050</td>\n",
       "      <td>1</td>\n",
       "      <td>2</td>\n",
       "    </tr>\n",
       "    <tr>\n",
       "      <th>1</th>\n",
       "      <td>59.0</td>\n",
       "      <td>1</td>\n",
       "      <td>0</td>\n",
       "      <td>39.405000</td>\n",
       "      <td>27999.0</td>\n",
       "      <td>2270.690</td>\n",
       "      <td>1</td>\n",
       "      <td>1</td>\n",
       "    </tr>\n",
       "    <tr>\n",
       "      <th>2</th>\n",
       "      <td>20.0</td>\n",
       "      <td>0</td>\n",
       "      <td>1</td>\n",
       "      <td>39.642222</td>\n",
       "      <td>459.0</td>\n",
       "      <td>17874.440</td>\n",
       "      <td>1</td>\n",
       "      <td>3</td>\n",
       "    </tr>\n",
       "    <tr>\n",
       "      <th>3</th>\n",
       "      <td>43.0</td>\n",
       "      <td>1</td>\n",
       "      <td>1</td>\n",
       "      <td>46.786389</td>\n",
       "      <td>1469.2</td>\n",
       "      <td>434849.495</td>\n",
       "      <td>2</td>\n",
       "      <td>0</td>\n",
       "    </tr>\n",
       "    <tr>\n",
       "      <th>4</th>\n",
       "      <td>28.0</td>\n",
       "      <td>0</td>\n",
       "      <td>0</td>\n",
       "      <td>50.321111</td>\n",
       "      <td>1762.5</td>\n",
       "      <td>6714.430</td>\n",
       "      <td>1</td>\n",
       "      <td>2</td>\n",
       "    </tr>\n",
       "    <tr>\n",
       "      <th>...</th>\n",
       "      <td>...</td>\n",
       "      <td>...</td>\n",
       "      <td>...</td>\n",
       "      <td>...</td>\n",
       "      <td>...</td>\n",
       "      <td>...</td>\n",
       "      <td>...</td>\n",
       "      <td>...</td>\n",
       "    </tr>\n",
       "    <tr>\n",
       "      <th>879353</th>\n",
       "      <td>36.0</td>\n",
       "      <td>1</td>\n",
       "      <td>1</td>\n",
       "      <td>51.286667</td>\n",
       "      <td>3000.0</td>\n",
       "      <td>464.870</td>\n",
       "      <td>1</td>\n",
       "      <td>0</td>\n",
       "    </tr>\n",
       "    <tr>\n",
       "      <th>879354</th>\n",
       "      <td>24.0</td>\n",
       "      <td>1</td>\n",
       "      <td>1</td>\n",
       "      <td>51.315000</td>\n",
       "      <td>1500.0</td>\n",
       "      <td>1212.700</td>\n",
       "      <td>1</td>\n",
       "      <td>0</td>\n",
       "    </tr>\n",
       "    <tr>\n",
       "      <th>879355</th>\n",
       "      <td>26.0</td>\n",
       "      <td>1</td>\n",
       "      <td>0</td>\n",
       "      <td>51.340000</td>\n",
       "      <td>799.0</td>\n",
       "      <td>7635.190</td>\n",
       "      <td>1</td>\n",
       "      <td>1</td>\n",
       "    </tr>\n",
       "    <tr>\n",
       "      <th>879356</th>\n",
       "      <td>24.0</td>\n",
       "      <td>1</td>\n",
       "      <td>0</td>\n",
       "      <td>51.037222</td>\n",
       "      <td>460.0</td>\n",
       "      <td>27311.420</td>\n",
       "      <td>1</td>\n",
       "      <td>1</td>\n",
       "    </tr>\n",
       "    <tr>\n",
       "      <th>879357</th>\n",
       "      <td>38.0</td>\n",
       "      <td>1</td>\n",
       "      <td>0</td>\n",
       "      <td>51.307222</td>\n",
       "      <td>1000.0</td>\n",
       "      <td>10117.870</td>\n",
       "      <td>1</td>\n",
       "      <td>1</td>\n",
       "    </tr>\n",
       "  </tbody>\n",
       "</table>\n",
       "<p>879358 rows × 8 columns</p>\n",
       "</div>"
      ],
      "text/plain": [
       "         Age  Sex  BigCity  TransactionTimeMinute  TicketSize  BalanceSize  \\\n",
       "0       22.0    0        0              39.779722        25.0    17819.050   \n",
       "1       59.0    1        0              39.405000     27999.0     2270.690   \n",
       "2       20.0    0        1              39.642222       459.0    17874.440   \n",
       "3       43.0    1        1              46.786389      1469.2   434849.495   \n",
       "4       28.0    0        0              50.321111      1762.5     6714.430   \n",
       "...      ...  ...      ...                    ...         ...          ...   \n",
       "879353  36.0    1        1              51.286667      3000.0      464.870   \n",
       "879354  24.0    1        1              51.315000      1500.0     1212.700   \n",
       "879355  26.0    1        0              51.340000       799.0     7635.190   \n",
       "879356  24.0    1        0              51.037222       460.0    27311.420   \n",
       "879357  38.0    1        0              51.307222      1000.0    10117.870   \n",
       "\n",
       "        NoTransaction  km_4  \n",
       "0                   1     2  \n",
       "1                   1     1  \n",
       "2                   1     3  \n",
       "3                   2     0  \n",
       "4                   1     2  \n",
       "...               ...   ...  \n",
       "879353              1     0  \n",
       "879354              1     0  \n",
       "879355              1     1  \n",
       "879356              1     1  \n",
       "879357              1     1  \n",
       "\n",
       "[879358 rows x 8 columns]"
      ]
     },
     "execution_count": 125,
     "metadata": {},
     "output_type": "execute_result"
    }
   ],
   "source": [
    "df"
   ]
  },
  {
   "cell_type": "code",
   "execution_count": 140,
   "metadata": {},
   "outputs": [],
   "source": [
    "# Group by 'km_4' and calculate the average for each group\n",
    "grouped = df.groupby('km_4').mean()\n",
    "\n",
    "# Pivot the result to have 'km_4' values as columns\n",
    "pivot_result = grouped.pivot_table(index=None, columns='km_4')"
   ]
  },
  {
   "cell_type": "code",
   "execution_count": 141,
   "metadata": {},
   "outputs": [],
   "source": [
    "grouped = df.groupby('km_4').count()\n",
    "pivot_result2 = grouped.pivot_table(index=None, columns='km_4')"
   ]
  },
  {
   "cell_type": "code",
   "execution_count": 142,
   "metadata": {},
   "outputs": [
    {
     "data": {
      "text/html": [
       "<div>\n",
       "<style scoped>\n",
       "    .dataframe tbody tr th:only-of-type {\n",
       "        vertical-align: middle;\n",
       "    }\n",
       "\n",
       "    .dataframe tbody tr th {\n",
       "        vertical-align: top;\n",
       "    }\n",
       "\n",
       "    .dataframe thead th {\n",
       "        text-align: right;\n",
       "    }\n",
       "</style>\n",
       "<table border=\"1\" class=\"dataframe\">\n",
       "  <thead>\n",
       "    <tr style=\"text-align: right;\">\n",
       "      <th>km_4</th>\n",
       "      <th>0</th>\n",
       "      <th>1</th>\n",
       "      <th>2</th>\n",
       "      <th>3</th>\n",
       "    </tr>\n",
       "  </thead>\n",
       "  <tbody>\n",
       "    <tr>\n",
       "      <th>Age</th>\n",
       "      <td>32.932420</td>\n",
       "      <td>31.672511</td>\n",
       "      <td>30.653708</td>\n",
       "      <td>31.127935</td>\n",
       "    </tr>\n",
       "    <tr>\n",
       "      <th>BalanceSize</th>\n",
       "      <td>121512.315040</td>\n",
       "      <td>112508.162380</td>\n",
       "      <td>109794.062256</td>\n",
       "      <td>110448.322763</td>\n",
       "    </tr>\n",
       "    <tr>\n",
       "      <th>BigCity</th>\n",
       "      <td>1.000000</td>\n",
       "      <td>0.000000</td>\n",
       "      <td>0.000000</td>\n",
       "      <td>1.000000</td>\n",
       "    </tr>\n",
       "    <tr>\n",
       "      <th>NoTransaction</th>\n",
       "      <td>1.354916</td>\n",
       "      <td>1.139888</td>\n",
       "      <td>1.027040</td>\n",
       "      <td>1.077138</td>\n",
       "    </tr>\n",
       "    <tr>\n",
       "      <th>Sex</th>\n",
       "      <td>1.000000</td>\n",
       "      <td>1.000000</td>\n",
       "      <td>0.000000</td>\n",
       "      <td>0.000000</td>\n",
       "    </tr>\n",
       "    <tr>\n",
       "      <th>TicketSize</th>\n",
       "      <td>1597.267205</td>\n",
       "      <td>1505.809306</td>\n",
       "      <td>1611.175622</td>\n",
       "      <td>1692.120499</td>\n",
       "    </tr>\n",
       "    <tr>\n",
       "      <th>TransactionTimeMinute</th>\n",
       "      <td>43.694775</td>\n",
       "      <td>43.235677</td>\n",
       "      <td>44.307983</td>\n",
       "      <td>44.496732</td>\n",
       "    </tr>\n",
       "  </tbody>\n",
       "</table>\n",
       "</div>"
      ],
      "text/plain": [
       "km_4                               0              1              2  \\\n",
       "Age                        32.932420      31.672511      30.653708   \n",
       "BalanceSize            121512.315040  112508.162380  109794.062256   \n",
       "BigCity                     1.000000       0.000000       0.000000   \n",
       "NoTransaction               1.354916       1.139888       1.027040   \n",
       "Sex                         1.000000       1.000000       0.000000   \n",
       "TicketSize               1597.267205    1505.809306    1611.175622   \n",
       "TransactionTimeMinute      43.694775      43.235677      44.307983   \n",
       "\n",
       "km_4                               3  \n",
       "Age                        31.127935  \n",
       "BalanceSize            110448.322763  \n",
       "BigCity                     1.000000  \n",
       "NoTransaction               1.077138  \n",
       "Sex                         0.000000  \n",
       "TicketSize               1692.120499  \n",
       "TransactionTimeMinute      44.496732  "
      ]
     },
     "execution_count": 142,
     "metadata": {},
     "output_type": "execute_result"
    }
   ],
   "source": [
    "pivot_result"
   ]
  },
  {
   "cell_type": "code",
   "execution_count": 143,
   "metadata": {},
   "outputs": [
    {
     "data": {
      "text/html": [
       "<div>\n",
       "<style scoped>\n",
       "    .dataframe tbody tr th:only-of-type {\n",
       "        vertical-align: middle;\n",
       "    }\n",
       "\n",
       "    .dataframe tbody tr th {\n",
       "        vertical-align: top;\n",
       "    }\n",
       "\n",
       "    .dataframe thead th {\n",
       "        text-align: right;\n",
       "    }\n",
       "</style>\n",
       "<table border=\"1\" class=\"dataframe\">\n",
       "  <thead>\n",
       "    <tr style=\"text-align: right;\">\n",
       "      <th>km_4</th>\n",
       "      <th>0</th>\n",
       "      <th>1</th>\n",
       "      <th>2</th>\n",
       "      <th>3</th>\n",
       "    </tr>\n",
       "  </thead>\n",
       "  <tbody>\n",
       "    <tr>\n",
       "      <th>Age</th>\n",
       "      <td>272157</td>\n",
       "      <td>399055</td>\n",
       "      <td>124076</td>\n",
       "      <td>84070</td>\n",
       "    </tr>\n",
       "    <tr>\n",
       "      <th>BalanceSize</th>\n",
       "      <td>272157</td>\n",
       "      <td>399055</td>\n",
       "      <td>124076</td>\n",
       "      <td>84070</td>\n",
       "    </tr>\n",
       "    <tr>\n",
       "      <th>BigCity</th>\n",
       "      <td>272157</td>\n",
       "      <td>399055</td>\n",
       "      <td>124076</td>\n",
       "      <td>84070</td>\n",
       "    </tr>\n",
       "    <tr>\n",
       "      <th>NoTransaction</th>\n",
       "      <td>272157</td>\n",
       "      <td>399055</td>\n",
       "      <td>124076</td>\n",
       "      <td>84070</td>\n",
       "    </tr>\n",
       "    <tr>\n",
       "      <th>Sex</th>\n",
       "      <td>272157</td>\n",
       "      <td>399055</td>\n",
       "      <td>124076</td>\n",
       "      <td>84070</td>\n",
       "    </tr>\n",
       "    <tr>\n",
       "      <th>TicketSize</th>\n",
       "      <td>272157</td>\n",
       "      <td>399055</td>\n",
       "      <td>124076</td>\n",
       "      <td>84070</td>\n",
       "    </tr>\n",
       "    <tr>\n",
       "      <th>TransactionTimeMinute</th>\n",
       "      <td>272157</td>\n",
       "      <td>399055</td>\n",
       "      <td>124076</td>\n",
       "      <td>84070</td>\n",
       "    </tr>\n",
       "  </tbody>\n",
       "</table>\n",
       "</div>"
      ],
      "text/plain": [
       "km_4                        0       1       2      3\n",
       "Age                    272157  399055  124076  84070\n",
       "BalanceSize            272157  399055  124076  84070\n",
       "BigCity                272157  399055  124076  84070\n",
       "NoTransaction          272157  399055  124076  84070\n",
       "Sex                    272157  399055  124076  84070\n",
       "TicketSize             272157  399055  124076  84070\n",
       "TransactionTimeMinute  272157  399055  124076  84070"
      ]
     },
     "execution_count": 143,
     "metadata": {},
     "output_type": "execute_result"
    }
   ],
   "source": [
    "pivot_result2"
   ]
  },
  {
   "cell_type": "code",
   "execution_count": 115,
   "metadata": {},
   "outputs": [
    {
     "ename": "SyntaxError",
     "evalue": "invalid syntax (Temp/ipykernel_18688/2938429678.py, line 1)",
     "output_type": "error",
     "traceback": [
      "\u001b[1;36m  File \u001b[1;32m\"C:\\Users\\peerapat\\AppData\\Local\\Temp/ipykernel_18688/2938429678.py\"\u001b[1;36m, line \u001b[1;32m1\u001b[0m\n\u001b[1;33m    ***\u001b[0m\n\u001b[1;37m    ^\u001b[0m\n\u001b[1;31mSyntaxError\u001b[0m\u001b[1;31m:\u001b[0m invalid syntax\n"
     ]
    }
   ],
   "source": [
    "***"
   ]
  },
  {
   "cell_type": "code",
   "execution_count": null,
   "metadata": {},
   "outputs": [],
   "source": [
    "df"
   ]
  },
  {
   "cell_type": "code",
   "execution_count": null,
   "metadata": {},
   "outputs": [],
   "source": [
    "**"
   ]
  }
 ],
 "metadata": {
  "kernelspec": {
   "display_name": "base",
   "language": "python",
   "name": "python3"
  },
  "language_info": {
   "codemirror_mode": {
    "name": "ipython",
    "version": 3
   },
   "file_extension": ".py",
   "mimetype": "text/x-python",
   "name": "python",
   "nbconvert_exporter": "python",
   "pygments_lexer": "ipython3",
   "version": "3.9.7"
  },
  "orig_nbformat": 4
 },
 "nbformat": 4,
 "nbformat_minor": 2
}
