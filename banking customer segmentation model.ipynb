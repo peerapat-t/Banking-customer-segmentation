{
 "cells": [
  {
   "cell_type": "code",
   "execution_count": 175,
   "metadata": {},
   "outputs": [],
   "source": [
    "import pandas as pd\n",
    "import numpy as np\n",
    "import matplotlib.pyplot as plt\n",
    "from datetime import datetime, date\n",
    "import seaborn as sns"
   ]
  },
  {
   "cell_type": "code",
   "execution_count": 176,
   "metadata": {},
   "outputs": [],
   "source": [
    "from sklearn.preprocessing import MinMaxScaler\n",
    "from sklearn.preprocessing import StandardScaler"
   ]
  },
  {
   "cell_type": "code",
   "execution_count": 177,
   "metadata": {},
   "outputs": [],
   "source": [
    "from sklearn.cluster import KMeans\n",
    "from sklearn.decomposition import PCA"
   ]
  },
  {
   "cell_type": "markdown",
   "metadata": {},
   "source": [
    "# 1. Load data"
   ]
  },
  {
   "cell_type": "code",
   "execution_count": 178,
   "metadata": {},
   "outputs": [],
   "source": [
    "# data set from https://www.kaggle.com/datasets/shivamb/bank-customer-segmentation"
   ]
  },
  {
   "cell_type": "code",
   "execution_count": 179,
   "metadata": {},
   "outputs": [],
   "source": [
    "df = pd.read_csv(\"bank_transactions.csv\")"
   ]
  },
  {
   "cell_type": "code",
   "execution_count": 180,
   "metadata": {},
   "outputs": [
    {
     "data": {
      "text/html": [
       "<div>\n",
       "<style scoped>\n",
       "    .dataframe tbody tr th:only-of-type {\n",
       "        vertical-align: middle;\n",
       "    }\n",
       "\n",
       "    .dataframe tbody tr th {\n",
       "        vertical-align: top;\n",
       "    }\n",
       "\n",
       "    .dataframe thead th {\n",
       "        text-align: right;\n",
       "    }\n",
       "</style>\n",
       "<table border=\"1\" class=\"dataframe\">\n",
       "  <thead>\n",
       "    <tr style=\"text-align: right;\">\n",
       "      <th></th>\n",
       "      <th>TransactionID</th>\n",
       "      <th>CustomerID</th>\n",
       "      <th>CustomerDOB</th>\n",
       "      <th>CustGender</th>\n",
       "      <th>CustLocation</th>\n",
       "      <th>CustAccountBalance</th>\n",
       "      <th>TransactionDate</th>\n",
       "      <th>TransactionTime</th>\n",
       "      <th>TransactionAmount (INR)</th>\n",
       "    </tr>\n",
       "  </thead>\n",
       "  <tbody>\n",
       "    <tr>\n",
       "      <th>0</th>\n",
       "      <td>T1</td>\n",
       "      <td>C5841053</td>\n",
       "      <td>10/1/94</td>\n",
       "      <td>F</td>\n",
       "      <td>JAMSHEDPUR</td>\n",
       "      <td>17819.05</td>\n",
       "      <td>2/8/16</td>\n",
       "      <td>143207</td>\n",
       "      <td>25.00</td>\n",
       "    </tr>\n",
       "    <tr>\n",
       "      <th>1</th>\n",
       "      <td>T2</td>\n",
       "      <td>C2142763</td>\n",
       "      <td>4/4/57</td>\n",
       "      <td>M</td>\n",
       "      <td>JHAJJAR</td>\n",
       "      <td>2270.69</td>\n",
       "      <td>2/8/16</td>\n",
       "      <td>141858</td>\n",
       "      <td>27999.00</td>\n",
       "    </tr>\n",
       "    <tr>\n",
       "      <th>2</th>\n",
       "      <td>T3</td>\n",
       "      <td>C4417068</td>\n",
       "      <td>26/11/96</td>\n",
       "      <td>F</td>\n",
       "      <td>MUMBAI</td>\n",
       "      <td>17874.44</td>\n",
       "      <td>2/8/16</td>\n",
       "      <td>142712</td>\n",
       "      <td>459.00</td>\n",
       "    </tr>\n",
       "    <tr>\n",
       "      <th>3</th>\n",
       "      <td>T4</td>\n",
       "      <td>C5342380</td>\n",
       "      <td>14/9/73</td>\n",
       "      <td>F</td>\n",
       "      <td>MUMBAI</td>\n",
       "      <td>866503.21</td>\n",
       "      <td>2/8/16</td>\n",
       "      <td>142714</td>\n",
       "      <td>2060.00</td>\n",
       "    </tr>\n",
       "    <tr>\n",
       "      <th>4</th>\n",
       "      <td>T5</td>\n",
       "      <td>C9031234</td>\n",
       "      <td>24/3/88</td>\n",
       "      <td>F</td>\n",
       "      <td>NAVI MUMBAI</td>\n",
       "      <td>6714.43</td>\n",
       "      <td>2/8/16</td>\n",
       "      <td>181156</td>\n",
       "      <td>1762.50</td>\n",
       "    </tr>\n",
       "    <tr>\n",
       "      <th>5</th>\n",
       "      <td>T6</td>\n",
       "      <td>C1536588</td>\n",
       "      <td>8/10/72</td>\n",
       "      <td>F</td>\n",
       "      <td>ITANAGAR</td>\n",
       "      <td>53609.20</td>\n",
       "      <td>2/8/16</td>\n",
       "      <td>173940</td>\n",
       "      <td>676.00</td>\n",
       "    </tr>\n",
       "    <tr>\n",
       "      <th>6</th>\n",
       "      <td>T7</td>\n",
       "      <td>C7126560</td>\n",
       "      <td>26/1/92</td>\n",
       "      <td>F</td>\n",
       "      <td>MUMBAI</td>\n",
       "      <td>973.46</td>\n",
       "      <td>2/8/16</td>\n",
       "      <td>173806</td>\n",
       "      <td>566.00</td>\n",
       "    </tr>\n",
       "    <tr>\n",
       "      <th>7</th>\n",
       "      <td>T8</td>\n",
       "      <td>C1220223</td>\n",
       "      <td>27/1/82</td>\n",
       "      <td>M</td>\n",
       "      <td>MUMBAI</td>\n",
       "      <td>95075.54</td>\n",
       "      <td>2/8/16</td>\n",
       "      <td>170537</td>\n",
       "      <td>148.00</td>\n",
       "    </tr>\n",
       "    <tr>\n",
       "      <th>8</th>\n",
       "      <td>T9</td>\n",
       "      <td>C8536061</td>\n",
       "      <td>19/4/88</td>\n",
       "      <td>F</td>\n",
       "      <td>GURGAON</td>\n",
       "      <td>14906.96</td>\n",
       "      <td>2/8/16</td>\n",
       "      <td>192825</td>\n",
       "      <td>833.00</td>\n",
       "    </tr>\n",
       "    <tr>\n",
       "      <th>9</th>\n",
       "      <td>T10</td>\n",
       "      <td>C6638934</td>\n",
       "      <td>22/6/84</td>\n",
       "      <td>M</td>\n",
       "      <td>MUMBAI</td>\n",
       "      <td>4279.22</td>\n",
       "      <td>2/8/16</td>\n",
       "      <td>192446</td>\n",
       "      <td>289.11</td>\n",
       "    </tr>\n",
       "  </tbody>\n",
       "</table>\n",
       "</div>"
      ],
      "text/plain": [
       "  TransactionID CustomerID CustomerDOB CustGender CustLocation  \\\n",
       "0            T1   C5841053     10/1/94          F   JAMSHEDPUR   \n",
       "1            T2   C2142763      4/4/57          M      JHAJJAR   \n",
       "2            T3   C4417068    26/11/96          F       MUMBAI   \n",
       "3            T4   C5342380     14/9/73          F       MUMBAI   \n",
       "4            T5   C9031234     24/3/88          F  NAVI MUMBAI   \n",
       "5            T6   C1536588     8/10/72          F     ITANAGAR   \n",
       "6            T7   C7126560     26/1/92          F       MUMBAI   \n",
       "7            T8   C1220223     27/1/82          M       MUMBAI   \n",
       "8            T9   C8536061     19/4/88          F      GURGAON   \n",
       "9           T10   C6638934     22/6/84          M       MUMBAI   \n",
       "\n",
       "   CustAccountBalance TransactionDate  TransactionTime  \\\n",
       "0            17819.05          2/8/16           143207   \n",
       "1             2270.69          2/8/16           141858   \n",
       "2            17874.44          2/8/16           142712   \n",
       "3           866503.21          2/8/16           142714   \n",
       "4             6714.43          2/8/16           181156   \n",
       "5            53609.20          2/8/16           173940   \n",
       "6              973.46          2/8/16           173806   \n",
       "7            95075.54          2/8/16           170537   \n",
       "8            14906.96          2/8/16           192825   \n",
       "9             4279.22          2/8/16           192446   \n",
       "\n",
       "   TransactionAmount (INR)  \n",
       "0                    25.00  \n",
       "1                 27999.00  \n",
       "2                   459.00  \n",
       "3                  2060.00  \n",
       "4                  1762.50  \n",
       "5                   676.00  \n",
       "6                   566.00  \n",
       "7                   148.00  \n",
       "8                   833.00  \n",
       "9                   289.11  "
      ]
     },
     "execution_count": 180,
     "metadata": {},
     "output_type": "execute_result"
    }
   ],
   "source": [
    "df.head(10)"
   ]
  },
  {
   "cell_type": "markdown",
   "metadata": {},
   "source": [
    "# 2. Check data quarity"
   ]
  },
  {
   "cell_type": "code",
   "execution_count": 181,
   "metadata": {},
   "outputs": [],
   "source": [
    "# check data type"
   ]
  },
  {
   "cell_type": "code",
   "execution_count": 182,
   "metadata": {},
   "outputs": [
    {
     "name": "stdout",
     "output_type": "stream",
     "text": [
      "<class 'pandas.core.frame.DataFrame'>\n",
      "RangeIndex: 1048567 entries, 0 to 1048566\n",
      "Data columns (total 9 columns):\n",
      " #   Column                   Non-Null Count    Dtype  \n",
      "---  ------                   --------------    -----  \n",
      " 0   TransactionID            1048567 non-null  object \n",
      " 1   CustomerID               1048567 non-null  object \n",
      " 2   CustomerDOB              1045170 non-null  object \n",
      " 3   CustGender               1047467 non-null  object \n",
      " 4   CustLocation             1048416 non-null  object \n",
      " 5   CustAccountBalance       1046198 non-null  float64\n",
      " 6   TransactionDate          1048567 non-null  object \n",
      " 7   TransactionTime          1048567 non-null  int64  \n",
      " 8   TransactionAmount (INR)  1048567 non-null  float64\n",
      "dtypes: float64(2), int64(1), object(6)\n",
      "memory usage: 72.0+ MB\n"
     ]
    }
   ],
   "source": [
    "df.info()"
   ]
  },
  {
   "cell_type": "code",
   "execution_count": 183,
   "metadata": {},
   "outputs": [],
   "source": [
    "# check na"
   ]
  },
  {
   "cell_type": "code",
   "execution_count": 184,
   "metadata": {},
   "outputs": [
    {
     "data": {
      "text/plain": [
       "(1048567, 9)"
      ]
     },
     "execution_count": 184,
     "metadata": {},
     "output_type": "execute_result"
    }
   ],
   "source": [
    "df.shape"
   ]
  },
  {
   "cell_type": "code",
   "execution_count": 185,
   "metadata": {},
   "outputs": [
    {
     "data": {
      "text/plain": [
       "TransactionID                 0\n",
       "CustomerID                    0\n",
       "CustomerDOB                3397\n",
       "CustGender                 1100\n",
       "CustLocation                151\n",
       "CustAccountBalance         2369\n",
       "TransactionDate               0\n",
       "TransactionTime               0\n",
       "TransactionAmount (INR)       0\n",
       "dtype: int64"
      ]
     },
     "execution_count": 185,
     "metadata": {},
     "output_type": "execute_result"
    }
   ],
   "source": [
    "df.isnull().sum()"
   ]
  },
  {
   "cell_type": "code",
   "execution_count": 186,
   "metadata": {},
   "outputs": [],
   "source": [
    "# check unique value"
   ]
  },
  {
   "cell_type": "code",
   "execution_count": 187,
   "metadata": {},
   "outputs": [
    {
     "name": "stdout",
     "output_type": "stream",
     "text": [
      "Columns name:  TransactionID\n",
      "Unique value:  ['T1' 'T2' 'T3' ... 'T1048565' 'T1048566' 'T1048567']\n",
      "Count unique value:  1048567\n",
      "----------\n",
      "Columns name:  CustomerID\n",
      "Unique value:  ['C5841053' 'C2142763' 'C4417068' ... 'C8020229' 'C6459278' 'C6420483']\n",
      "Count unique value:  884265\n",
      "----------\n",
      "Columns name:  CustomerDOB\n",
      "Unique value:  ['10/1/94' '4/4/57' '26/11/96' ... '18/7/65' '15/5/42' '24/10/44']\n",
      "Count unique value:  17254\n",
      "----------\n",
      "Columns name:  CustGender\n",
      "Unique value:  ['F' 'M' nan 'T']\n",
      "Count unique value:  3\n",
      "----------\n",
      "Columns name:  CustLocation\n",
      "Unique value:  ['JAMSHEDPUR' 'JHAJJAR' 'MUMBAI' ... 'KARANJIA'\n",
      " 'NR HERITAGE FRESH HYDERABAD' 'IMPERIA THANE WEST']\n",
      "Count unique value:  9355\n",
      "----------\n",
      "Columns name:  CustAccountBalance\n",
      "Unique value:  [ 17819.05   2270.69  17874.44 ... 182889.37  15037.89   1002.96]\n",
      "Count unique value:  161328\n",
      "----------\n",
      "Columns name:  TransactionDate\n",
      "Unique value:  ['2/8/16' '1/8/16' '3/8/16' '5/8/16' '4/8/16' '6/8/16' '9/8/16' '8/8/16'\n",
      " '12/8/16' '7/8/16' '21/10/16' '16/10/16' '10/8/16' '14/8/16' '17/8/16'\n",
      " '21/8/16' '19/8/16' '24/8/16' '22/8/16' '29/8/16' '31/8/16' '22/9/16'\n",
      " '23/9/16' '13/8/16' '25/8/16' '28/8/16' '15/8/16' '27/8/16' '20/8/16'\n",
      " '23/8/16' '30/8/16' '11/8/16' '16/8/16' '26/8/16' '27/9/16' '18/8/16'\n",
      " '25/9/16' '26/9/16' '30/9/16' '3/9/16' '2/9/16' '1/9/16' '6/9/16'\n",
      " '5/9/16' '4/9/16' '9/9/16' '8/9/16' '7/9/16' '12/9/16' '11/9/16'\n",
      " '10/9/16' '15/9/16' '14/9/16' '13/9/16' '18/9/16']\n",
      "Count unique value:  55\n",
      "----------\n",
      "Columns name:  TransactionTime\n",
      "Unique value:  [143207 141858 142712 ...  65244  81817  71955]\n",
      "Count unique value:  81918\n",
      "----------\n",
      "Columns name:  TransactionAmount (INR)\n",
      "Unique value:  [2.5000e+01 2.7999e+04 4.5900e+02 ... 5.9886e+02 6.0907e+02 5.2590e+03]\n",
      "Count unique value:  93024\n",
      "----------\n"
     ]
    }
   ],
   "source": [
    "for i in df.columns:\n",
    "    print('Columns name: ', i)\n",
    "    print('Unique value: ', df[i].unique())\n",
    "    print('Count unique value: ', df[i].nunique())\n",
    "    print('-'*10)"
   ]
  },
  {
   "cell_type": "code",
   "execution_count": 188,
   "metadata": {},
   "outputs": [],
   "source": [
    "# date format will be a problem in our analysis"
   ]
  },
  {
   "cell_type": "markdown",
   "metadata": {},
   "source": [
    "# 3. Data transformation"
   ]
  },
  {
   "cell_type": "code",
   "execution_count": 189,
   "metadata": {},
   "outputs": [],
   "source": [
    "# Age\n",
    "# Sex\n",
    "# Urban/Suburban\n",
    "# Average Transaction Time\n",
    "# Average Ticket Size\n",
    "# Average Balance\n",
    "# Number of Transactions"
   ]
  },
  {
   "cell_type": "code",
   "execution_count": 190,
   "metadata": {},
   "outputs": [],
   "source": [
    "# missing value"
   ]
  },
  {
   "cell_type": "code",
   "execution_count": 191,
   "metadata": {},
   "outputs": [],
   "source": [
    "df.dropna(inplace=True)"
   ]
  },
  {
   "cell_type": "code",
   "execution_count": 192,
   "metadata": {},
   "outputs": [],
   "source": [
    "# customer ID"
   ]
  },
  {
   "cell_type": "code",
   "execution_count": 193,
   "metadata": {},
   "outputs": [],
   "source": [
    "distinct_customers = df['CustomerID'].unique()\n",
    "distinct_customers_df = pd.DataFrame({'CustomerID': distinct_customers})"
   ]
  },
  {
   "cell_type": "code",
   "execution_count": 194,
   "metadata": {},
   "outputs": [
    {
     "data": {
      "text/html": [
       "<div>\n",
       "<style scoped>\n",
       "    .dataframe tbody tr th:only-of-type {\n",
       "        vertical-align: middle;\n",
       "    }\n",
       "\n",
       "    .dataframe tbody tr th {\n",
       "        vertical-align: top;\n",
       "    }\n",
       "\n",
       "    .dataframe thead th {\n",
       "        text-align: right;\n",
       "    }\n",
       "</style>\n",
       "<table border=\"1\" class=\"dataframe\">\n",
       "  <thead>\n",
       "    <tr style=\"text-align: right;\">\n",
       "      <th></th>\n",
       "      <th>CustomerID</th>\n",
       "    </tr>\n",
       "  </thead>\n",
       "  <tbody>\n",
       "    <tr>\n",
       "      <th>0</th>\n",
       "      <td>C5841053</td>\n",
       "    </tr>\n",
       "    <tr>\n",
       "      <th>1</th>\n",
       "      <td>C2142763</td>\n",
       "    </tr>\n",
       "    <tr>\n",
       "      <th>2</th>\n",
       "      <td>C4417068</td>\n",
       "    </tr>\n",
       "    <tr>\n",
       "      <th>3</th>\n",
       "      <td>C5342380</td>\n",
       "    </tr>\n",
       "    <tr>\n",
       "      <th>4</th>\n",
       "      <td>C9031234</td>\n",
       "    </tr>\n",
       "    <tr>\n",
       "      <th>...</th>\n",
       "      <td>...</td>\n",
       "    </tr>\n",
       "    <tr>\n",
       "      <th>879353</th>\n",
       "      <td>C5028150</td>\n",
       "    </tr>\n",
       "    <tr>\n",
       "      <th>879354</th>\n",
       "      <td>C1034220</td>\n",
       "    </tr>\n",
       "    <tr>\n",
       "      <th>879355</th>\n",
       "      <td>C8020229</td>\n",
       "    </tr>\n",
       "    <tr>\n",
       "      <th>879356</th>\n",
       "      <td>C6459278</td>\n",
       "    </tr>\n",
       "    <tr>\n",
       "      <th>879357</th>\n",
       "      <td>C6420483</td>\n",
       "    </tr>\n",
       "  </tbody>\n",
       "</table>\n",
       "<p>879358 rows × 1 columns</p>\n",
       "</div>"
      ],
      "text/plain": [
       "       CustomerID\n",
       "0        C5841053\n",
       "1        C2142763\n",
       "2        C4417068\n",
       "3        C5342380\n",
       "4        C9031234\n",
       "...           ...\n",
       "879353   C5028150\n",
       "879354   C1034220\n",
       "879355   C8020229\n",
       "879356   C6459278\n",
       "879357   C6420483\n",
       "\n",
       "[879358 rows x 1 columns]"
      ]
     },
     "execution_count": 194,
     "metadata": {},
     "output_type": "execute_result"
    }
   ],
   "source": [
    "distinct_customers_df"
   ]
  },
  {
   "cell_type": "code",
   "execution_count": 195,
   "metadata": {},
   "outputs": [],
   "source": [
    "# age"
   ]
  },
  {
   "cell_type": "code",
   "execution_count": 196,
   "metadata": {},
   "outputs": [],
   "source": [
    "df[['day', 'month', 'year']] = df['CustomerDOB'].str.split('/', expand=True)"
   ]
  },
  {
   "cell_type": "code",
   "execution_count": 197,
   "metadata": {},
   "outputs": [],
   "source": [
    "df['year'] = df['year'].astype(int)"
   ]
  },
  {
   "cell_type": "code",
   "execution_count": 198,
   "metadata": {},
   "outputs": [
    {
     "name": "stdout",
     "output_type": "stream",
     "text": [
      "0 1800\n"
     ]
    }
   ],
   "source": [
    "print(df['year'].min(), df['year'].max())"
   ]
  },
  {
   "cell_type": "code",
   "execution_count": 199,
   "metadata": {},
   "outputs": [],
   "source": [
    "df_for_age = df[df['year'] <= 99]"
   ]
  },
  {
   "cell_type": "code",
   "execution_count": 200,
   "metadata": {},
   "outputs": [
    {
     "name": "stderr",
     "output_type": "stream",
     "text": [
      "C:\\Users\\peerapat\\AppData\\Local\\Temp/ipykernel_12464/3355448113.py:1: SettingWithCopyWarning: \n",
      "A value is trying to be set on a copy of a slice from a DataFrame.\n",
      "Try using .loc[row_indexer,col_indexer] = value instead\n",
      "\n",
      "See the caveats in the documentation: https://pandas.pydata.org/pandas-docs/stable/user_guide/indexing.html#returning-a-view-versus-a-copy\n",
      "  df_for_age['age'] = 2016 - (1900+df_for_age['year'])\n"
     ]
    }
   ],
   "source": [
    "df_for_age['age'] = 2016 - (1900+df_for_age['year'])"
   ]
  },
  {
   "cell_type": "code",
   "execution_count": 201,
   "metadata": {},
   "outputs": [],
   "source": [
    "customers_age_df = df_for_age.groupby('CustomerID')['age'].max().reset_index()\n",
    "customers_age_df.columns = ['CustomerID', 'age']"
   ]
  },
  {
   "cell_type": "code",
   "execution_count": 202,
   "metadata": {},
   "outputs": [
    {
     "data": {
      "text/html": [
       "<div>\n",
       "<style scoped>\n",
       "    .dataframe tbody tr th:only-of-type {\n",
       "        vertical-align: middle;\n",
       "    }\n",
       "\n",
       "    .dataframe tbody tr th {\n",
       "        vertical-align: top;\n",
       "    }\n",
       "\n",
       "    .dataframe thead th {\n",
       "        text-align: right;\n",
       "    }\n",
       "</style>\n",
       "<table border=\"1\" class=\"dataframe\">\n",
       "  <thead>\n",
       "    <tr style=\"text-align: right;\">\n",
       "      <th></th>\n",
       "      <th>CustomerID</th>\n",
       "      <th>age</th>\n",
       "    </tr>\n",
       "  </thead>\n",
       "  <tbody>\n",
       "    <tr>\n",
       "      <th>0</th>\n",
       "      <td>C1010011</td>\n",
       "      <td>33</td>\n",
       "    </tr>\n",
       "    <tr>\n",
       "      <th>1</th>\n",
       "      <td>C1010012</td>\n",
       "      <td>22</td>\n",
       "    </tr>\n",
       "    <tr>\n",
       "      <th>2</th>\n",
       "      <td>C1010014</td>\n",
       "      <td>32</td>\n",
       "    </tr>\n",
       "    <tr>\n",
       "      <th>3</th>\n",
       "      <td>C1010018</td>\n",
       "      <td>26</td>\n",
       "    </tr>\n",
       "    <tr>\n",
       "      <th>4</th>\n",
       "      <td>C1010024</td>\n",
       "      <td>51</td>\n",
       "    </tr>\n",
       "    <tr>\n",
       "      <th>...</th>\n",
       "      <td>...</td>\n",
       "      <td>...</td>\n",
       "    </tr>\n",
       "    <tr>\n",
       "      <th>839076</th>\n",
       "      <td>C9099836</td>\n",
       "      <td>26</td>\n",
       "    </tr>\n",
       "    <tr>\n",
       "      <th>839077</th>\n",
       "      <td>C9099877</td>\n",
       "      <td>20</td>\n",
       "    </tr>\n",
       "    <tr>\n",
       "      <th>839078</th>\n",
       "      <td>C9099919</td>\n",
       "      <td>23</td>\n",
       "    </tr>\n",
       "    <tr>\n",
       "      <th>839079</th>\n",
       "      <td>C9099941</td>\n",
       "      <td>21</td>\n",
       "    </tr>\n",
       "    <tr>\n",
       "      <th>839080</th>\n",
       "      <td>C9099956</td>\n",
       "      <td>34</td>\n",
       "    </tr>\n",
       "  </tbody>\n",
       "</table>\n",
       "<p>839081 rows × 2 columns</p>\n",
       "</div>"
      ],
      "text/plain": [
       "       CustomerID  age\n",
       "0        C1010011   33\n",
       "1        C1010012   22\n",
       "2        C1010014   32\n",
       "3        C1010018   26\n",
       "4        C1010024   51\n",
       "...           ...  ...\n",
       "839076   C9099836   26\n",
       "839077   C9099877   20\n",
       "839078   C9099919   23\n",
       "839079   C9099941   21\n",
       "839080   C9099956   34\n",
       "\n",
       "[839081 rows x 2 columns]"
      ]
     },
     "execution_count": 202,
     "metadata": {},
     "output_type": "execute_result"
    }
   ],
   "source": [
    "customers_age_df"
   ]
  },
  {
   "cell_type": "code",
   "execution_count": 203,
   "metadata": {},
   "outputs": [],
   "source": [
    "# sex"
   ]
  },
  {
   "cell_type": "code",
   "execution_count": 204,
   "metadata": {},
   "outputs": [],
   "source": [
    "df['CustGender'] = df['CustGender'].apply(lambda x: 1 if x == 'M' else 0)"
   ]
  },
  {
   "cell_type": "code",
   "execution_count": 205,
   "metadata": {},
   "outputs": [],
   "source": [
    "customers_sex_df = df.groupby('CustomerID')['CustGender'].max().reset_index()\n",
    "customers_sex_df.columns = ['CustomerID', 'sex']"
   ]
  },
  {
   "cell_type": "code",
   "execution_count": 206,
   "metadata": {},
   "outputs": [
    {
     "data": {
      "text/html": [
       "<div>\n",
       "<style scoped>\n",
       "    .dataframe tbody tr th:only-of-type {\n",
       "        vertical-align: middle;\n",
       "    }\n",
       "\n",
       "    .dataframe tbody tr th {\n",
       "        vertical-align: top;\n",
       "    }\n",
       "\n",
       "    .dataframe thead th {\n",
       "        text-align: right;\n",
       "    }\n",
       "</style>\n",
       "<table border=\"1\" class=\"dataframe\">\n",
       "  <thead>\n",
       "    <tr style=\"text-align: right;\">\n",
       "      <th></th>\n",
       "      <th>CustomerID</th>\n",
       "      <th>sex</th>\n",
       "    </tr>\n",
       "  </thead>\n",
       "  <tbody>\n",
       "    <tr>\n",
       "      <th>0</th>\n",
       "      <td>C1010011</td>\n",
       "      <td>1</td>\n",
       "    </tr>\n",
       "    <tr>\n",
       "      <th>1</th>\n",
       "      <td>C1010012</td>\n",
       "      <td>1</td>\n",
       "    </tr>\n",
       "    <tr>\n",
       "      <th>2</th>\n",
       "      <td>C1010014</td>\n",
       "      <td>1</td>\n",
       "    </tr>\n",
       "    <tr>\n",
       "      <th>3</th>\n",
       "      <td>C1010018</td>\n",
       "      <td>0</td>\n",
       "    </tr>\n",
       "    <tr>\n",
       "      <th>4</th>\n",
       "      <td>C1010024</td>\n",
       "      <td>1</td>\n",
       "    </tr>\n",
       "    <tr>\n",
       "      <th>...</th>\n",
       "      <td>...</td>\n",
       "      <td>...</td>\n",
       "    </tr>\n",
       "    <tr>\n",
       "      <th>879353</th>\n",
       "      <td>C9099836</td>\n",
       "      <td>1</td>\n",
       "    </tr>\n",
       "    <tr>\n",
       "      <th>879354</th>\n",
       "      <td>C9099877</td>\n",
       "      <td>1</td>\n",
       "    </tr>\n",
       "    <tr>\n",
       "      <th>879355</th>\n",
       "      <td>C9099919</td>\n",
       "      <td>1</td>\n",
       "    </tr>\n",
       "    <tr>\n",
       "      <th>879356</th>\n",
       "      <td>C9099941</td>\n",
       "      <td>1</td>\n",
       "    </tr>\n",
       "    <tr>\n",
       "      <th>879357</th>\n",
       "      <td>C9099956</td>\n",
       "      <td>1</td>\n",
       "    </tr>\n",
       "  </tbody>\n",
       "</table>\n",
       "<p>879358 rows × 2 columns</p>\n",
       "</div>"
      ],
      "text/plain": [
       "       CustomerID  sex\n",
       "0        C1010011    1\n",
       "1        C1010012    1\n",
       "2        C1010014    1\n",
       "3        C1010018    0\n",
       "4        C1010024    1\n",
       "...           ...  ...\n",
       "879353   C9099836    1\n",
       "879354   C9099877    1\n",
       "879355   C9099919    1\n",
       "879356   C9099941    1\n",
       "879357   C9099956    1\n",
       "\n",
       "[879358 rows x 2 columns]"
      ]
     },
     "execution_count": 206,
     "metadata": {},
     "output_type": "execute_result"
    }
   ],
   "source": [
    "customers_sex_df"
   ]
  },
  {
   "cell_type": "code",
   "execution_count": 207,
   "metadata": {},
   "outputs": [],
   "source": [
    "# city name"
   ]
  },
  {
   "cell_type": "code",
   "execution_count": 208,
   "metadata": {},
   "outputs": [],
   "source": [
    "# top 10 most populous cities in India:\n",
    "\n",
    "# Mumbai, Maharashtra\n",
    "# Delhi, Delhi (NCT)\n",
    "# Bangalore, Karnataka\n",
    "# Hyderabad, Telangana\n",
    "# Ahmedabad, Gujarat\n",
    "# Chennai, Tamil Nadu\n",
    "# Kolkata, West Bengal\n",
    "# Surat, Gujarat\n",
    "# Pune, Maharashtra\n",
    "# Jaipur, Rajasthan"
   ]
  },
  {
   "cell_type": "code",
   "execution_count": 209,
   "metadata": {},
   "outputs": [],
   "source": [
    "big_cities_india = ['MUMBAI', 'DELHI', 'BANGALORE', 'HYDERABAD', 'AHMEDABAD', 'CHENNAI', 'KOLKATA', 'SURAT', 'PUNE', 'JAIPUR']"
   ]
  },
  {
   "cell_type": "code",
   "execution_count": 210,
   "metadata": {},
   "outputs": [],
   "source": [
    "def flag_big_city(city):\n",
    "    if city.upper() in big_cities_india:\n",
    "        return 1\n",
    "    else:\n",
    "        return 0"
   ]
  },
  {
   "cell_type": "code",
   "execution_count": 211,
   "metadata": {},
   "outputs": [],
   "source": [
    "df['flag_big_city'] = df['CustLocation'].apply(flag_big_city)"
   ]
  },
  {
   "cell_type": "code",
   "execution_count": 212,
   "metadata": {},
   "outputs": [],
   "source": [
    "customers_big_city_df = df.groupby('CustomerID')['flag_big_city'].max().reset_index()\n",
    "customers_big_city_df.columns = ['CustomerID', 'big_city']"
   ]
  },
  {
   "cell_type": "code",
   "execution_count": 213,
   "metadata": {},
   "outputs": [
    {
     "data": {
      "text/html": [
       "<div>\n",
       "<style scoped>\n",
       "    .dataframe tbody tr th:only-of-type {\n",
       "        vertical-align: middle;\n",
       "    }\n",
       "\n",
       "    .dataframe tbody tr th {\n",
       "        vertical-align: top;\n",
       "    }\n",
       "\n",
       "    .dataframe thead th {\n",
       "        text-align: right;\n",
       "    }\n",
       "</style>\n",
       "<table border=\"1\" class=\"dataframe\">\n",
       "  <thead>\n",
       "    <tr style=\"text-align: right;\">\n",
       "      <th></th>\n",
       "      <th>CustomerID</th>\n",
       "      <th>big_city</th>\n",
       "    </tr>\n",
       "  </thead>\n",
       "  <tbody>\n",
       "    <tr>\n",
       "      <th>0</th>\n",
       "      <td>C1010011</td>\n",
       "      <td>0</td>\n",
       "    </tr>\n",
       "    <tr>\n",
       "      <th>1</th>\n",
       "      <td>C1010012</td>\n",
       "      <td>1</td>\n",
       "    </tr>\n",
       "    <tr>\n",
       "      <th>2</th>\n",
       "      <td>C1010014</td>\n",
       "      <td>1</td>\n",
       "    </tr>\n",
       "    <tr>\n",
       "      <th>3</th>\n",
       "      <td>C1010018</td>\n",
       "      <td>0</td>\n",
       "    </tr>\n",
       "    <tr>\n",
       "      <th>4</th>\n",
       "      <td>C1010024</td>\n",
       "      <td>1</td>\n",
       "    </tr>\n",
       "    <tr>\n",
       "      <th>...</th>\n",
       "      <td>...</td>\n",
       "      <td>...</td>\n",
       "    </tr>\n",
       "    <tr>\n",
       "      <th>879353</th>\n",
       "      <td>C9099836</td>\n",
       "      <td>0</td>\n",
       "    </tr>\n",
       "    <tr>\n",
       "      <th>879354</th>\n",
       "      <td>C9099877</td>\n",
       "      <td>1</td>\n",
       "    </tr>\n",
       "    <tr>\n",
       "      <th>879355</th>\n",
       "      <td>C9099919</td>\n",
       "      <td>0</td>\n",
       "    </tr>\n",
       "    <tr>\n",
       "      <th>879356</th>\n",
       "      <td>C9099941</td>\n",
       "      <td>1</td>\n",
       "    </tr>\n",
       "    <tr>\n",
       "      <th>879357</th>\n",
       "      <td>C9099956</td>\n",
       "      <td>0</td>\n",
       "    </tr>\n",
       "  </tbody>\n",
       "</table>\n",
       "<p>879358 rows × 2 columns</p>\n",
       "</div>"
      ],
      "text/plain": [
       "       CustomerID  big_city\n",
       "0        C1010011         0\n",
       "1        C1010012         1\n",
       "2        C1010014         1\n",
       "3        C1010018         0\n",
       "4        C1010024         1\n",
       "...           ...       ...\n",
       "879353   C9099836         0\n",
       "879354   C9099877         1\n",
       "879355   C9099919         0\n",
       "879356   C9099941         1\n",
       "879357   C9099956         0\n",
       "\n",
       "[879358 rows x 2 columns]"
      ]
     },
     "execution_count": 213,
     "metadata": {},
     "output_type": "execute_result"
    }
   ],
   "source": [
    "customers_big_city_df"
   ]
  },
  {
   "cell_type": "code",
   "execution_count": 214,
   "metadata": {},
   "outputs": [],
   "source": [
    "# txn time"
   ]
  },
  {
   "cell_type": "code",
   "execution_count": 215,
   "metadata": {},
   "outputs": [],
   "source": [
    "customers_txn_time_df = df.groupby('CustomerID')['TransactionTime'].agg([\n",
    "    ('min_transaction_time_minute', 'min'),\n",
    "    ('max_transaction_time_minute', 'max'),\n",
    "    ('med_transaction_time_minute', np.median),\n",
    "    ('avg_transaction_time_minute', 'mean')\n",
    "]).reset_index()"
   ]
  },
  {
   "cell_type": "code",
   "execution_count": 216,
   "metadata": {},
   "outputs": [
    {
     "data": {
      "text/html": [
       "<div>\n",
       "<style scoped>\n",
       "    .dataframe tbody tr th:only-of-type {\n",
       "        vertical-align: middle;\n",
       "    }\n",
       "\n",
       "    .dataframe tbody tr th {\n",
       "        vertical-align: top;\n",
       "    }\n",
       "\n",
       "    .dataframe thead th {\n",
       "        text-align: right;\n",
       "    }\n",
       "</style>\n",
       "<table border=\"1\" class=\"dataframe\">\n",
       "  <thead>\n",
       "    <tr style=\"text-align: right;\">\n",
       "      <th></th>\n",
       "      <th>CustomerID</th>\n",
       "      <th>min_transaction_time_minute</th>\n",
       "      <th>max_transaction_time_minute</th>\n",
       "      <th>med_transaction_time_minute</th>\n",
       "      <th>avg_transaction_time_minute</th>\n",
       "    </tr>\n",
       "  </thead>\n",
       "  <tbody>\n",
       "    <tr>\n",
       "      <th>0</th>\n",
       "      <td>C1010011</td>\n",
       "      <td>11229</td>\n",
       "      <td>123813</td>\n",
       "      <td>67521.0</td>\n",
       "      <td>67521.0</td>\n",
       "    </tr>\n",
       "    <tr>\n",
       "      <th>1</th>\n",
       "      <td>C1010012</td>\n",
       "      <td>204409</td>\n",
       "      <td>204409</td>\n",
       "      <td>204409.0</td>\n",
       "      <td>204409.0</td>\n",
       "    </tr>\n",
       "    <tr>\n",
       "      <th>2</th>\n",
       "      <td>C1010014</td>\n",
       "      <td>154451</td>\n",
       "      <td>220305</td>\n",
       "      <td>187378.0</td>\n",
       "      <td>187378.0</td>\n",
       "    </tr>\n",
       "    <tr>\n",
       "      <th>3</th>\n",
       "      <td>C1010018</td>\n",
       "      <td>170254</td>\n",
       "      <td>170254</td>\n",
       "      <td>170254.0</td>\n",
       "      <td>170254.0</td>\n",
       "    </tr>\n",
       "    <tr>\n",
       "      <th>4</th>\n",
       "      <td>C1010024</td>\n",
       "      <td>141103</td>\n",
       "      <td>141103</td>\n",
       "      <td>141103.0</td>\n",
       "      <td>141103.0</td>\n",
       "    </tr>\n",
       "    <tr>\n",
       "      <th>...</th>\n",
       "      <td>...</td>\n",
       "      <td>...</td>\n",
       "      <td>...</td>\n",
       "      <td>...</td>\n",
       "      <td>...</td>\n",
       "    </tr>\n",
       "    <tr>\n",
       "      <th>879353</th>\n",
       "      <td>C9099836</td>\n",
       "      <td>5122</td>\n",
       "      <td>5122</td>\n",
       "      <td>5122.0</td>\n",
       "      <td>5122.0</td>\n",
       "    </tr>\n",
       "    <tr>\n",
       "      <th>879354</th>\n",
       "      <td>C9099877</td>\n",
       "      <td>120255</td>\n",
       "      <td>120255</td>\n",
       "      <td>120255.0</td>\n",
       "      <td>120255.0</td>\n",
       "    </tr>\n",
       "    <tr>\n",
       "      <th>879355</th>\n",
       "      <td>C9099919</td>\n",
       "      <td>122533</td>\n",
       "      <td>122533</td>\n",
       "      <td>122533.0</td>\n",
       "      <td>122533.0</td>\n",
       "    </tr>\n",
       "    <tr>\n",
       "      <th>879356</th>\n",
       "      <td>C9099941</td>\n",
       "      <td>213722</td>\n",
       "      <td>213722</td>\n",
       "      <td>213722.0</td>\n",
       "      <td>213722.0</td>\n",
       "    </tr>\n",
       "    <tr>\n",
       "      <th>879357</th>\n",
       "      <td>C9099956</td>\n",
       "      <td>225732</td>\n",
       "      <td>225732</td>\n",
       "      <td>225732.0</td>\n",
       "      <td>225732.0</td>\n",
       "    </tr>\n",
       "  </tbody>\n",
       "</table>\n",
       "<p>879358 rows × 5 columns</p>\n",
       "</div>"
      ],
      "text/plain": [
       "       CustomerID  min_transaction_time_minute  max_transaction_time_minute  \\\n",
       "0        C1010011                        11229                       123813   \n",
       "1        C1010012                       204409                       204409   \n",
       "2        C1010014                       154451                       220305   \n",
       "3        C1010018                       170254                       170254   \n",
       "4        C1010024                       141103                       141103   \n",
       "...           ...                          ...                          ...   \n",
       "879353   C9099836                         5122                         5122   \n",
       "879354   C9099877                       120255                       120255   \n",
       "879355   C9099919                       122533                       122533   \n",
       "879356   C9099941                       213722                       213722   \n",
       "879357   C9099956                       225732                       225732   \n",
       "\n",
       "        med_transaction_time_minute  avg_transaction_time_minute  \n",
       "0                           67521.0                      67521.0  \n",
       "1                          204409.0                     204409.0  \n",
       "2                          187378.0                     187378.0  \n",
       "3                          170254.0                     170254.0  \n",
       "4                          141103.0                     141103.0  \n",
       "...                             ...                          ...  \n",
       "879353                       5122.0                       5122.0  \n",
       "879354                     120255.0                     120255.0  \n",
       "879355                     122533.0                     122533.0  \n",
       "879356                     213722.0                     213722.0  \n",
       "879357                     225732.0                     225732.0  \n",
       "\n",
       "[879358 rows x 5 columns]"
      ]
     },
     "execution_count": 216,
     "metadata": {},
     "output_type": "execute_result"
    }
   ],
   "source": [
    "customers_txn_time_df"
   ]
  },
  {
   "cell_type": "code",
   "execution_count": 217,
   "metadata": {},
   "outputs": [],
   "source": [
    "# ticket size"
   ]
  },
  {
   "cell_type": "code",
   "execution_count": 218,
   "metadata": {},
   "outputs": [],
   "source": [
    "customers_ticket_size_df = df.groupby('CustomerID')['TransactionAmount (INR)'].agg([\n",
    "    ('min_transaction_amount', 'min'),\n",
    "    ('max_transaction_amount', 'max'),\n",
    "    ('med_transaction_amount', np.median),\n",
    "    ('avg_transaction_amount', 'mean')\n",
    "]).reset_index()"
   ]
  },
  {
   "cell_type": "code",
   "execution_count": 219,
   "metadata": {},
   "outputs": [
    {
     "data": {
      "text/html": [
       "<div>\n",
       "<style scoped>\n",
       "    .dataframe tbody tr th:only-of-type {\n",
       "        vertical-align: middle;\n",
       "    }\n",
       "\n",
       "    .dataframe tbody tr th {\n",
       "        vertical-align: top;\n",
       "    }\n",
       "\n",
       "    .dataframe thead th {\n",
       "        text-align: right;\n",
       "    }\n",
       "</style>\n",
       "<table border=\"1\" class=\"dataframe\">\n",
       "  <thead>\n",
       "    <tr style=\"text-align: right;\">\n",
       "      <th></th>\n",
       "      <th>CustomerID</th>\n",
       "      <th>min_transaction_amount</th>\n",
       "      <th>max_transaction_amount</th>\n",
       "      <th>med_transaction_amount</th>\n",
       "      <th>avg_transaction_amount</th>\n",
       "    </tr>\n",
       "  </thead>\n",
       "  <tbody>\n",
       "    <tr>\n",
       "      <th>0</th>\n",
       "      <td>C1010011</td>\n",
       "      <td>356.0</td>\n",
       "      <td>4750.0</td>\n",
       "      <td>2553.0</td>\n",
       "      <td>2553.0</td>\n",
       "    </tr>\n",
       "    <tr>\n",
       "      <th>1</th>\n",
       "      <td>C1010012</td>\n",
       "      <td>1499.0</td>\n",
       "      <td>1499.0</td>\n",
       "      <td>1499.0</td>\n",
       "      <td>1499.0</td>\n",
       "    </tr>\n",
       "    <tr>\n",
       "      <th>2</th>\n",
       "      <td>C1010014</td>\n",
       "      <td>250.0</td>\n",
       "      <td>1205.0</td>\n",
       "      <td>727.5</td>\n",
       "      <td>727.5</td>\n",
       "    </tr>\n",
       "    <tr>\n",
       "      <th>3</th>\n",
       "      <td>C1010018</td>\n",
       "      <td>30.0</td>\n",
       "      <td>30.0</td>\n",
       "      <td>30.0</td>\n",
       "      <td>30.0</td>\n",
       "    </tr>\n",
       "    <tr>\n",
       "      <th>4</th>\n",
       "      <td>C1010024</td>\n",
       "      <td>5000.0</td>\n",
       "      <td>5000.0</td>\n",
       "      <td>5000.0</td>\n",
       "      <td>5000.0</td>\n",
       "    </tr>\n",
       "    <tr>\n",
       "      <th>...</th>\n",
       "      <td>...</td>\n",
       "      <td>...</td>\n",
       "      <td>...</td>\n",
       "      <td>...</td>\n",
       "      <td>...</td>\n",
       "    </tr>\n",
       "    <tr>\n",
       "      <th>879353</th>\n",
       "      <td>C9099836</td>\n",
       "      <td>691.0</td>\n",
       "      <td>691.0</td>\n",
       "      <td>691.0</td>\n",
       "      <td>691.0</td>\n",
       "    </tr>\n",
       "    <tr>\n",
       "      <th>879354</th>\n",
       "      <td>C9099877</td>\n",
       "      <td>222.0</td>\n",
       "      <td>222.0</td>\n",
       "      <td>222.0</td>\n",
       "      <td>222.0</td>\n",
       "    </tr>\n",
       "    <tr>\n",
       "      <th>879355</th>\n",
       "      <td>C9099919</td>\n",
       "      <td>126.0</td>\n",
       "      <td>126.0</td>\n",
       "      <td>126.0</td>\n",
       "      <td>126.0</td>\n",
       "    </tr>\n",
       "    <tr>\n",
       "      <th>879356</th>\n",
       "      <td>C9099941</td>\n",
       "      <td>50.0</td>\n",
       "      <td>50.0</td>\n",
       "      <td>50.0</td>\n",
       "      <td>50.0</td>\n",
       "    </tr>\n",
       "    <tr>\n",
       "      <th>879357</th>\n",
       "      <td>C9099956</td>\n",
       "      <td>855.0</td>\n",
       "      <td>855.0</td>\n",
       "      <td>855.0</td>\n",
       "      <td>855.0</td>\n",
       "    </tr>\n",
       "  </tbody>\n",
       "</table>\n",
       "<p>879358 rows × 5 columns</p>\n",
       "</div>"
      ],
      "text/plain": [
       "       CustomerID  min_transaction_amount  max_transaction_amount  \\\n",
       "0        C1010011                   356.0                  4750.0   \n",
       "1        C1010012                  1499.0                  1499.0   \n",
       "2        C1010014                   250.0                  1205.0   \n",
       "3        C1010018                    30.0                    30.0   \n",
       "4        C1010024                  5000.0                  5000.0   \n",
       "...           ...                     ...                     ...   \n",
       "879353   C9099836                   691.0                   691.0   \n",
       "879354   C9099877                   222.0                   222.0   \n",
       "879355   C9099919                   126.0                   126.0   \n",
       "879356   C9099941                    50.0                    50.0   \n",
       "879357   C9099956                   855.0                   855.0   \n",
       "\n",
       "        med_transaction_amount  avg_transaction_amount  \n",
       "0                       2553.0                  2553.0  \n",
       "1                       1499.0                  1499.0  \n",
       "2                        727.5                   727.5  \n",
       "3                         30.0                    30.0  \n",
       "4                       5000.0                  5000.0  \n",
       "...                        ...                     ...  \n",
       "879353                   691.0                   691.0  \n",
       "879354                   222.0                   222.0  \n",
       "879355                   126.0                   126.0  \n",
       "879356                    50.0                    50.0  \n",
       "879357                   855.0                   855.0  \n",
       "\n",
       "[879358 rows x 5 columns]"
      ]
     },
     "execution_count": 219,
     "metadata": {},
     "output_type": "execute_result"
    }
   ],
   "source": [
    "customers_ticket_size_df"
   ]
  },
  {
   "cell_type": "code",
   "execution_count": 220,
   "metadata": {},
   "outputs": [],
   "source": [
    "# balance"
   ]
  },
  {
   "cell_type": "code",
   "execution_count": 221,
   "metadata": {},
   "outputs": [],
   "source": [
    "customers_balance_df = df.groupby('CustomerID')['CustAccountBalance'].agg([\n",
    "    ('min_balance_amount', 'min'),\n",
    "    ('max_balance_amount', 'max'),\n",
    "    ('med_balance_amount', np.median),\n",
    "    ('avg_balance_amount', 'mean')\n",
    "]).reset_index()"
   ]
  },
  {
   "cell_type": "code",
   "execution_count": 222,
   "metadata": {},
   "outputs": [
    {
     "data": {
      "text/html": [
       "<div>\n",
       "<style scoped>\n",
       "    .dataframe tbody tr th:only-of-type {\n",
       "        vertical-align: middle;\n",
       "    }\n",
       "\n",
       "    .dataframe tbody tr th {\n",
       "        vertical-align: top;\n",
       "    }\n",
       "\n",
       "    .dataframe thead th {\n",
       "        text-align: right;\n",
       "    }\n",
       "</style>\n",
       "<table border=\"1\" class=\"dataframe\">\n",
       "  <thead>\n",
       "    <tr style=\"text-align: right;\">\n",
       "      <th></th>\n",
       "      <th>CustomerID</th>\n",
       "      <th>min_balance_amount</th>\n",
       "      <th>max_balance_amount</th>\n",
       "      <th>med_balance_amount</th>\n",
       "      <th>avg_balance_amount</th>\n",
       "    </tr>\n",
       "  </thead>\n",
       "  <tbody>\n",
       "    <tr>\n",
       "      <th>0</th>\n",
       "      <td>C1010011</td>\n",
       "      <td>32500.73</td>\n",
       "      <td>120180.54</td>\n",
       "      <td>76340.635</td>\n",
       "      <td>76340.635</td>\n",
       "    </tr>\n",
       "    <tr>\n",
       "      <th>1</th>\n",
       "      <td>C1010012</td>\n",
       "      <td>24204.49</td>\n",
       "      <td>24204.49</td>\n",
       "      <td>24204.490</td>\n",
       "      <td>24204.490</td>\n",
       "    </tr>\n",
       "    <tr>\n",
       "      <th>2</th>\n",
       "      <td>C1010014</td>\n",
       "      <td>38377.14</td>\n",
       "      <td>161848.76</td>\n",
       "      <td>100112.950</td>\n",
       "      <td>100112.950</td>\n",
       "    </tr>\n",
       "    <tr>\n",
       "      <th>3</th>\n",
       "      <td>C1010018</td>\n",
       "      <td>496.18</td>\n",
       "      <td>496.18</td>\n",
       "      <td>496.180</td>\n",
       "      <td>496.180</td>\n",
       "    </tr>\n",
       "    <tr>\n",
       "      <th>4</th>\n",
       "      <td>C1010024</td>\n",
       "      <td>87058.65</td>\n",
       "      <td>87058.65</td>\n",
       "      <td>87058.650</td>\n",
       "      <td>87058.650</td>\n",
       "    </tr>\n",
       "    <tr>\n",
       "      <th>...</th>\n",
       "      <td>...</td>\n",
       "      <td>...</td>\n",
       "      <td>...</td>\n",
       "      <td>...</td>\n",
       "      <td>...</td>\n",
       "    </tr>\n",
       "    <tr>\n",
       "      <th>879353</th>\n",
       "      <td>C9099836</td>\n",
       "      <td>133067.23</td>\n",
       "      <td>133067.23</td>\n",
       "      <td>133067.230</td>\n",
       "      <td>133067.230</td>\n",
       "    </tr>\n",
       "    <tr>\n",
       "      <th>879354</th>\n",
       "      <td>C9099877</td>\n",
       "      <td>96063.46</td>\n",
       "      <td>96063.46</td>\n",
       "      <td>96063.460</td>\n",
       "      <td>96063.460</td>\n",
       "    </tr>\n",
       "    <tr>\n",
       "      <th>879355</th>\n",
       "      <td>C9099919</td>\n",
       "      <td>5559.75</td>\n",
       "      <td>5559.75</td>\n",
       "      <td>5559.750</td>\n",
       "      <td>5559.750</td>\n",
       "    </tr>\n",
       "    <tr>\n",
       "      <th>879356</th>\n",
       "      <td>C9099941</td>\n",
       "      <td>35295.92</td>\n",
       "      <td>35295.92</td>\n",
       "      <td>35295.920</td>\n",
       "      <td>35295.920</td>\n",
       "    </tr>\n",
       "    <tr>\n",
       "      <th>879357</th>\n",
       "      <td>C9099956</td>\n",
       "      <td>6968.93</td>\n",
       "      <td>6968.93</td>\n",
       "      <td>6968.930</td>\n",
       "      <td>6968.930</td>\n",
       "    </tr>\n",
       "  </tbody>\n",
       "</table>\n",
       "<p>879358 rows × 5 columns</p>\n",
       "</div>"
      ],
      "text/plain": [
       "       CustomerID  min_balance_amount  max_balance_amount  med_balance_amount  \\\n",
       "0        C1010011            32500.73           120180.54           76340.635   \n",
       "1        C1010012            24204.49            24204.49           24204.490   \n",
       "2        C1010014            38377.14           161848.76          100112.950   \n",
       "3        C1010018              496.18              496.18             496.180   \n",
       "4        C1010024            87058.65            87058.65           87058.650   \n",
       "...           ...                 ...                 ...                 ...   \n",
       "879353   C9099836           133067.23           133067.23          133067.230   \n",
       "879354   C9099877            96063.46            96063.46           96063.460   \n",
       "879355   C9099919             5559.75             5559.75            5559.750   \n",
       "879356   C9099941            35295.92            35295.92           35295.920   \n",
       "879357   C9099956             6968.93             6968.93            6968.930   \n",
       "\n",
       "        avg_balance_amount  \n",
       "0                76340.635  \n",
       "1                24204.490  \n",
       "2               100112.950  \n",
       "3                  496.180  \n",
       "4                87058.650  \n",
       "...                    ...  \n",
       "879353          133067.230  \n",
       "879354           96063.460  \n",
       "879355            5559.750  \n",
       "879356           35295.920  \n",
       "879357            6968.930  \n",
       "\n",
       "[879358 rows x 5 columns]"
      ]
     },
     "execution_count": 222,
     "metadata": {},
     "output_type": "execute_result"
    }
   ],
   "source": [
    "customers_balance_df"
   ]
  },
  {
   "cell_type": "code",
   "execution_count": 223,
   "metadata": {},
   "outputs": [],
   "source": [
    "# no txn"
   ]
  },
  {
   "cell_type": "code",
   "execution_count": 224,
   "metadata": {},
   "outputs": [],
   "source": [
    "customers_no_txn_df = df.groupby('CustomerID')['TransactionID'].count().reset_index()\n",
    "customers_no_txn_df.columns = ['CustomerID', 'no_transaction']"
   ]
  },
  {
   "cell_type": "code",
   "execution_count": 225,
   "metadata": {},
   "outputs": [
    {
     "data": {
      "text/html": [
       "<div>\n",
       "<style scoped>\n",
       "    .dataframe tbody tr th:only-of-type {\n",
       "        vertical-align: middle;\n",
       "    }\n",
       "\n",
       "    .dataframe tbody tr th {\n",
       "        vertical-align: top;\n",
       "    }\n",
       "\n",
       "    .dataframe thead th {\n",
       "        text-align: right;\n",
       "    }\n",
       "</style>\n",
       "<table border=\"1\" class=\"dataframe\">\n",
       "  <thead>\n",
       "    <tr style=\"text-align: right;\">\n",
       "      <th></th>\n",
       "      <th>CustomerID</th>\n",
       "      <th>no_transaction</th>\n",
       "    </tr>\n",
       "  </thead>\n",
       "  <tbody>\n",
       "    <tr>\n",
       "      <th>0</th>\n",
       "      <td>C1010011</td>\n",
       "      <td>2</td>\n",
       "    </tr>\n",
       "    <tr>\n",
       "      <th>1</th>\n",
       "      <td>C1010012</td>\n",
       "      <td>1</td>\n",
       "    </tr>\n",
       "    <tr>\n",
       "      <th>2</th>\n",
       "      <td>C1010014</td>\n",
       "      <td>2</td>\n",
       "    </tr>\n",
       "    <tr>\n",
       "      <th>3</th>\n",
       "      <td>C1010018</td>\n",
       "      <td>1</td>\n",
       "    </tr>\n",
       "    <tr>\n",
       "      <th>4</th>\n",
       "      <td>C1010024</td>\n",
       "      <td>1</td>\n",
       "    </tr>\n",
       "    <tr>\n",
       "      <th>...</th>\n",
       "      <td>...</td>\n",
       "      <td>...</td>\n",
       "    </tr>\n",
       "    <tr>\n",
       "      <th>879353</th>\n",
       "      <td>C9099836</td>\n",
       "      <td>1</td>\n",
       "    </tr>\n",
       "    <tr>\n",
       "      <th>879354</th>\n",
       "      <td>C9099877</td>\n",
       "      <td>1</td>\n",
       "    </tr>\n",
       "    <tr>\n",
       "      <th>879355</th>\n",
       "      <td>C9099919</td>\n",
       "      <td>1</td>\n",
       "    </tr>\n",
       "    <tr>\n",
       "      <th>879356</th>\n",
       "      <td>C9099941</td>\n",
       "      <td>1</td>\n",
       "    </tr>\n",
       "    <tr>\n",
       "      <th>879357</th>\n",
       "      <td>C9099956</td>\n",
       "      <td>1</td>\n",
       "    </tr>\n",
       "  </tbody>\n",
       "</table>\n",
       "<p>879358 rows × 2 columns</p>\n",
       "</div>"
      ],
      "text/plain": [
       "       CustomerID  no_transaction\n",
       "0        C1010011               2\n",
       "1        C1010012               1\n",
       "2        C1010014               2\n",
       "3        C1010018               1\n",
       "4        C1010024               1\n",
       "...           ...             ...\n",
       "879353   C9099836               1\n",
       "879354   C9099877               1\n",
       "879355   C9099919               1\n",
       "879356   C9099941               1\n",
       "879357   C9099956               1\n",
       "\n",
       "[879358 rows x 2 columns]"
      ]
     },
     "execution_count": 225,
     "metadata": {},
     "output_type": "execute_result"
    }
   ],
   "source": [
    "customers_no_txn_df"
   ]
  },
  {
   "cell_type": "code",
   "execution_count": 226,
   "metadata": {},
   "outputs": [],
   "source": [
    "# merge all df"
   ]
  },
  {
   "cell_type": "code",
   "execution_count": 227,
   "metadata": {},
   "outputs": [],
   "source": [
    "df_transformed = distinct_customers_df\n",
    "df_transformed = pd.merge(df_transformed, customers_age_df, on='CustomerID', how='left')\n",
    "df_transformed = pd.merge(df_transformed, customers_sex_df, on='CustomerID', how='left')\n",
    "df_transformed = pd.merge(df_transformed, customers_big_city_df, on='CustomerID', how='left')\n",
    "df_transformed = pd.merge(df_transformed, customers_txn_time_df, on='CustomerID', how='left')\n",
    "df_transformed = pd.merge(df_transformed, customers_ticket_size_df, on='CustomerID', how='left')\n",
    "df_transformed = pd.merge(df_transformed, customers_balance_df, on='CustomerID', how='left')\n",
    "df_transformed = pd.merge(df_transformed, customers_no_txn_df, on='CustomerID', how='left')"
   ]
  },
  {
   "cell_type": "code",
   "execution_count": 228,
   "metadata": {},
   "outputs": [
    {
     "data": {
      "text/html": [
       "<div>\n",
       "<style scoped>\n",
       "    .dataframe tbody tr th:only-of-type {\n",
       "        vertical-align: middle;\n",
       "    }\n",
       "\n",
       "    .dataframe tbody tr th {\n",
       "        vertical-align: top;\n",
       "    }\n",
       "\n",
       "    .dataframe thead th {\n",
       "        text-align: right;\n",
       "    }\n",
       "</style>\n",
       "<table border=\"1\" class=\"dataframe\">\n",
       "  <thead>\n",
       "    <tr style=\"text-align: right;\">\n",
       "      <th></th>\n",
       "      <th>CustomerID</th>\n",
       "      <th>age</th>\n",
       "      <th>sex</th>\n",
       "      <th>big_city</th>\n",
       "      <th>min_transaction_time_minute</th>\n",
       "      <th>max_transaction_time_minute</th>\n",
       "      <th>med_transaction_time_minute</th>\n",
       "      <th>avg_transaction_time_minute</th>\n",
       "      <th>min_transaction_amount</th>\n",
       "      <th>max_transaction_amount</th>\n",
       "      <th>med_transaction_amount</th>\n",
       "      <th>avg_transaction_amount</th>\n",
       "      <th>min_balance_amount</th>\n",
       "      <th>max_balance_amount</th>\n",
       "      <th>med_balance_amount</th>\n",
       "      <th>avg_balance_amount</th>\n",
       "      <th>no_transaction</th>\n",
       "    </tr>\n",
       "  </thead>\n",
       "  <tbody>\n",
       "    <tr>\n",
       "      <th>0</th>\n",
       "      <td>C5841053</td>\n",
       "      <td>22.0</td>\n",
       "      <td>0</td>\n",
       "      <td>0</td>\n",
       "      <td>143207</td>\n",
       "      <td>143207</td>\n",
       "      <td>143207.0</td>\n",
       "      <td>143207.0</td>\n",
       "      <td>25.0</td>\n",
       "      <td>25.0</td>\n",
       "      <td>25.0</td>\n",
       "      <td>25.0</td>\n",
       "      <td>17819.05</td>\n",
       "      <td>17819.05</td>\n",
       "      <td>17819.050</td>\n",
       "      <td>17819.050</td>\n",
       "      <td>1</td>\n",
       "    </tr>\n",
       "    <tr>\n",
       "      <th>1</th>\n",
       "      <td>C2142763</td>\n",
       "      <td>59.0</td>\n",
       "      <td>1</td>\n",
       "      <td>0</td>\n",
       "      <td>141858</td>\n",
       "      <td>141858</td>\n",
       "      <td>141858.0</td>\n",
       "      <td>141858.0</td>\n",
       "      <td>27999.0</td>\n",
       "      <td>27999.0</td>\n",
       "      <td>27999.0</td>\n",
       "      <td>27999.0</td>\n",
       "      <td>2270.69</td>\n",
       "      <td>2270.69</td>\n",
       "      <td>2270.690</td>\n",
       "      <td>2270.690</td>\n",
       "      <td>1</td>\n",
       "    </tr>\n",
       "    <tr>\n",
       "      <th>2</th>\n",
       "      <td>C4417068</td>\n",
       "      <td>20.0</td>\n",
       "      <td>0</td>\n",
       "      <td>1</td>\n",
       "      <td>142712</td>\n",
       "      <td>142712</td>\n",
       "      <td>142712.0</td>\n",
       "      <td>142712.0</td>\n",
       "      <td>459.0</td>\n",
       "      <td>459.0</td>\n",
       "      <td>459.0</td>\n",
       "      <td>459.0</td>\n",
       "      <td>17874.44</td>\n",
       "      <td>17874.44</td>\n",
       "      <td>17874.440</td>\n",
       "      <td>17874.440</td>\n",
       "      <td>1</td>\n",
       "    </tr>\n",
       "    <tr>\n",
       "      <th>3</th>\n",
       "      <td>C5342380</td>\n",
       "      <td>43.0</td>\n",
       "      <td>1</td>\n",
       "      <td>1</td>\n",
       "      <td>142714</td>\n",
       "      <td>194148</td>\n",
       "      <td>168431.0</td>\n",
       "      <td>168431.0</td>\n",
       "      <td>878.4</td>\n",
       "      <td>2060.0</td>\n",
       "      <td>1469.2</td>\n",
       "      <td>1469.2</td>\n",
       "      <td>3195.78</td>\n",
       "      <td>866503.21</td>\n",
       "      <td>434849.495</td>\n",
       "      <td>434849.495</td>\n",
       "      <td>2</td>\n",
       "    </tr>\n",
       "    <tr>\n",
       "      <th>4</th>\n",
       "      <td>C9031234</td>\n",
       "      <td>28.0</td>\n",
       "      <td>0</td>\n",
       "      <td>0</td>\n",
       "      <td>181156</td>\n",
       "      <td>181156</td>\n",
       "      <td>181156.0</td>\n",
       "      <td>181156.0</td>\n",
       "      <td>1762.5</td>\n",
       "      <td>1762.5</td>\n",
       "      <td>1762.5</td>\n",
       "      <td>1762.5</td>\n",
       "      <td>6714.43</td>\n",
       "      <td>6714.43</td>\n",
       "      <td>6714.430</td>\n",
       "      <td>6714.430</td>\n",
       "      <td>1</td>\n",
       "    </tr>\n",
       "    <tr>\n",
       "      <th>...</th>\n",
       "      <td>...</td>\n",
       "      <td>...</td>\n",
       "      <td>...</td>\n",
       "      <td>...</td>\n",
       "      <td>...</td>\n",
       "      <td>...</td>\n",
       "      <td>...</td>\n",
       "      <td>...</td>\n",
       "      <td>...</td>\n",
       "      <td>...</td>\n",
       "      <td>...</td>\n",
       "      <td>...</td>\n",
       "      <td>...</td>\n",
       "      <td>...</td>\n",
       "      <td>...</td>\n",
       "      <td>...</td>\n",
       "      <td>...</td>\n",
       "    </tr>\n",
       "    <tr>\n",
       "      <th>879353</th>\n",
       "      <td>C5028150</td>\n",
       "      <td>36.0</td>\n",
       "      <td>1</td>\n",
       "      <td>1</td>\n",
       "      <td>184632</td>\n",
       "      <td>184632</td>\n",
       "      <td>184632.0</td>\n",
       "      <td>184632.0</td>\n",
       "      <td>3000.0</td>\n",
       "      <td>3000.0</td>\n",
       "      <td>3000.0</td>\n",
       "      <td>3000.0</td>\n",
       "      <td>464.87</td>\n",
       "      <td>464.87</td>\n",
       "      <td>464.870</td>\n",
       "      <td>464.870</td>\n",
       "      <td>1</td>\n",
       "    </tr>\n",
       "    <tr>\n",
       "      <th>879354</th>\n",
       "      <td>C1034220</td>\n",
       "      <td>24.0</td>\n",
       "      <td>1</td>\n",
       "      <td>1</td>\n",
       "      <td>184734</td>\n",
       "      <td>184734</td>\n",
       "      <td>184734.0</td>\n",
       "      <td>184734.0</td>\n",
       "      <td>1500.0</td>\n",
       "      <td>1500.0</td>\n",
       "      <td>1500.0</td>\n",
       "      <td>1500.0</td>\n",
       "      <td>1212.70</td>\n",
       "      <td>1212.70</td>\n",
       "      <td>1212.700</td>\n",
       "      <td>1212.700</td>\n",
       "      <td>1</td>\n",
       "    </tr>\n",
       "    <tr>\n",
       "      <th>879355</th>\n",
       "      <td>C8020229</td>\n",
       "      <td>26.0</td>\n",
       "      <td>1</td>\n",
       "      <td>0</td>\n",
       "      <td>184824</td>\n",
       "      <td>184824</td>\n",
       "      <td>184824.0</td>\n",
       "      <td>184824.0</td>\n",
       "      <td>799.0</td>\n",
       "      <td>799.0</td>\n",
       "      <td>799.0</td>\n",
       "      <td>799.0</td>\n",
       "      <td>7635.19</td>\n",
       "      <td>7635.19</td>\n",
       "      <td>7635.190</td>\n",
       "      <td>7635.190</td>\n",
       "      <td>1</td>\n",
       "    </tr>\n",
       "    <tr>\n",
       "      <th>879356</th>\n",
       "      <td>C6459278</td>\n",
       "      <td>24.0</td>\n",
       "      <td>1</td>\n",
       "      <td>0</td>\n",
       "      <td>183734</td>\n",
       "      <td>183734</td>\n",
       "      <td>183734.0</td>\n",
       "      <td>183734.0</td>\n",
       "      <td>460.0</td>\n",
       "      <td>460.0</td>\n",
       "      <td>460.0</td>\n",
       "      <td>460.0</td>\n",
       "      <td>27311.42</td>\n",
       "      <td>27311.42</td>\n",
       "      <td>27311.420</td>\n",
       "      <td>27311.420</td>\n",
       "      <td>1</td>\n",
       "    </tr>\n",
       "    <tr>\n",
       "      <th>879357</th>\n",
       "      <td>C6420483</td>\n",
       "      <td>38.0</td>\n",
       "      <td>1</td>\n",
       "      <td>0</td>\n",
       "      <td>184706</td>\n",
       "      <td>184706</td>\n",
       "      <td>184706.0</td>\n",
       "      <td>184706.0</td>\n",
       "      <td>1000.0</td>\n",
       "      <td>1000.0</td>\n",
       "      <td>1000.0</td>\n",
       "      <td>1000.0</td>\n",
       "      <td>10117.87</td>\n",
       "      <td>10117.87</td>\n",
       "      <td>10117.870</td>\n",
       "      <td>10117.870</td>\n",
       "      <td>1</td>\n",
       "    </tr>\n",
       "  </tbody>\n",
       "</table>\n",
       "<p>879358 rows × 17 columns</p>\n",
       "</div>"
      ],
      "text/plain": [
       "       CustomerID   age  sex  big_city  min_transaction_time_minute  \\\n",
       "0        C5841053  22.0    0         0                       143207   \n",
       "1        C2142763  59.0    1         0                       141858   \n",
       "2        C4417068  20.0    0         1                       142712   \n",
       "3        C5342380  43.0    1         1                       142714   \n",
       "4        C9031234  28.0    0         0                       181156   \n",
       "...           ...   ...  ...       ...                          ...   \n",
       "879353   C5028150  36.0    1         1                       184632   \n",
       "879354   C1034220  24.0    1         1                       184734   \n",
       "879355   C8020229  26.0    1         0                       184824   \n",
       "879356   C6459278  24.0    1         0                       183734   \n",
       "879357   C6420483  38.0    1         0                       184706   \n",
       "\n",
       "        max_transaction_time_minute  med_transaction_time_minute  \\\n",
       "0                            143207                     143207.0   \n",
       "1                            141858                     141858.0   \n",
       "2                            142712                     142712.0   \n",
       "3                            194148                     168431.0   \n",
       "4                            181156                     181156.0   \n",
       "...                             ...                          ...   \n",
       "879353                       184632                     184632.0   \n",
       "879354                       184734                     184734.0   \n",
       "879355                       184824                     184824.0   \n",
       "879356                       183734                     183734.0   \n",
       "879357                       184706                     184706.0   \n",
       "\n",
       "        avg_transaction_time_minute  min_transaction_amount  \\\n",
       "0                          143207.0                    25.0   \n",
       "1                          141858.0                 27999.0   \n",
       "2                          142712.0                   459.0   \n",
       "3                          168431.0                   878.4   \n",
       "4                          181156.0                  1762.5   \n",
       "...                             ...                     ...   \n",
       "879353                     184632.0                  3000.0   \n",
       "879354                     184734.0                  1500.0   \n",
       "879355                     184824.0                   799.0   \n",
       "879356                     183734.0                   460.0   \n",
       "879357                     184706.0                  1000.0   \n",
       "\n",
       "        max_transaction_amount  med_transaction_amount  \\\n",
       "0                         25.0                    25.0   \n",
       "1                      27999.0                 27999.0   \n",
       "2                        459.0                   459.0   \n",
       "3                       2060.0                  1469.2   \n",
       "4                       1762.5                  1762.5   \n",
       "...                        ...                     ...   \n",
       "879353                  3000.0                  3000.0   \n",
       "879354                  1500.0                  1500.0   \n",
       "879355                   799.0                   799.0   \n",
       "879356                   460.0                   460.0   \n",
       "879357                  1000.0                  1000.0   \n",
       "\n",
       "        avg_transaction_amount  min_balance_amount  max_balance_amount  \\\n",
       "0                         25.0            17819.05            17819.05   \n",
       "1                      27999.0             2270.69             2270.69   \n",
       "2                        459.0            17874.44            17874.44   \n",
       "3                       1469.2             3195.78           866503.21   \n",
       "4                       1762.5             6714.43             6714.43   \n",
       "...                        ...                 ...                 ...   \n",
       "879353                  3000.0              464.87              464.87   \n",
       "879354                  1500.0             1212.70             1212.70   \n",
       "879355                   799.0             7635.19             7635.19   \n",
       "879356                   460.0            27311.42            27311.42   \n",
       "879357                  1000.0            10117.87            10117.87   \n",
       "\n",
       "        med_balance_amount  avg_balance_amount  no_transaction  \n",
       "0                17819.050           17819.050               1  \n",
       "1                 2270.690            2270.690               1  \n",
       "2                17874.440           17874.440               1  \n",
       "3               434849.495          434849.495               2  \n",
       "4                 6714.430            6714.430               1  \n",
       "...                    ...                 ...             ...  \n",
       "879353             464.870             464.870               1  \n",
       "879354            1212.700            1212.700               1  \n",
       "879355            7635.190            7635.190               1  \n",
       "879356           27311.420           27311.420               1  \n",
       "879357           10117.870           10117.870               1  \n",
       "\n",
       "[879358 rows x 17 columns]"
      ]
     },
     "execution_count": 228,
     "metadata": {},
     "output_type": "execute_result"
    }
   ],
   "source": [
    "df_transformed"
   ]
  },
  {
   "cell_type": "code",
   "execution_count": 229,
   "metadata": {},
   "outputs": [
    {
     "name": "stdout",
     "output_type": "stream",
     "text": [
      "<class 'pandas.core.frame.DataFrame'>\n",
      "Int64Index: 879358 entries, 0 to 879357\n",
      "Data columns (total 17 columns):\n",
      " #   Column                       Non-Null Count   Dtype  \n",
      "---  ------                       --------------   -----  \n",
      " 0   CustomerID                   879358 non-null  object \n",
      " 1   age                          839081 non-null  float64\n",
      " 2   sex                          879358 non-null  int64  \n",
      " 3   big_city                     879358 non-null  int64  \n",
      " 4   min_transaction_time_minute  879358 non-null  int64  \n",
      " 5   max_transaction_time_minute  879358 non-null  int64  \n",
      " 6   med_transaction_time_minute  879358 non-null  float64\n",
      " 7   avg_transaction_time_minute  879358 non-null  float64\n",
      " 8   min_transaction_amount       879358 non-null  float64\n",
      " 9   max_transaction_amount       879358 non-null  float64\n",
      " 10  med_transaction_amount       879358 non-null  float64\n",
      " 11  avg_transaction_amount       879358 non-null  float64\n",
      " 12  min_balance_amount           879358 non-null  float64\n",
      " 13  max_balance_amount           879358 non-null  float64\n",
      " 14  med_balance_amount           879358 non-null  float64\n",
      " 15  avg_balance_amount           879358 non-null  float64\n",
      " 16  no_transaction               879358 non-null  int64  \n",
      "dtypes: float64(11), int64(5), object(1)\n",
      "memory usage: 120.8+ MB\n"
     ]
    }
   ],
   "source": [
    "df_transformed.info()"
   ]
  },
  {
   "cell_type": "code",
   "execution_count": 230,
   "metadata": {},
   "outputs": [],
   "source": [
    "# fill age na"
   ]
  },
  {
   "cell_type": "code",
   "execution_count": 231,
   "metadata": {},
   "outputs": [],
   "source": [
    "mean_age = df_transformed['age'].mean()"
   ]
  },
  {
   "cell_type": "code",
   "execution_count": 232,
   "metadata": {},
   "outputs": [],
   "source": [
    "df_transformed['age'].fillna(mean_age, inplace=True)"
   ]
  },
  {
   "cell_type": "code",
   "execution_count": 233,
   "metadata": {},
   "outputs": [],
   "source": [
    "# check data again"
   ]
  },
  {
   "cell_type": "code",
   "execution_count": 234,
   "metadata": {},
   "outputs": [],
   "source": [
    "df = df_transformed"
   ]
  },
  {
   "cell_type": "code",
   "execution_count": 235,
   "metadata": {},
   "outputs": [
    {
     "data": {
      "text/html": [
       "<div>\n",
       "<style scoped>\n",
       "    .dataframe tbody tr th:only-of-type {\n",
       "        vertical-align: middle;\n",
       "    }\n",
       "\n",
       "    .dataframe tbody tr th {\n",
       "        vertical-align: top;\n",
       "    }\n",
       "\n",
       "    .dataframe thead th {\n",
       "        text-align: right;\n",
       "    }\n",
       "</style>\n",
       "<table border=\"1\" class=\"dataframe\">\n",
       "  <thead>\n",
       "    <tr style=\"text-align: right;\">\n",
       "      <th></th>\n",
       "      <th>CustomerID</th>\n",
       "      <th>age</th>\n",
       "      <th>sex</th>\n",
       "      <th>big_city</th>\n",
       "      <th>min_transaction_time_minute</th>\n",
       "      <th>max_transaction_time_minute</th>\n",
       "      <th>med_transaction_time_minute</th>\n",
       "      <th>avg_transaction_time_minute</th>\n",
       "      <th>min_transaction_amount</th>\n",
       "      <th>max_transaction_amount</th>\n",
       "      <th>med_transaction_amount</th>\n",
       "      <th>avg_transaction_amount</th>\n",
       "      <th>min_balance_amount</th>\n",
       "      <th>max_balance_amount</th>\n",
       "      <th>med_balance_amount</th>\n",
       "      <th>avg_balance_amount</th>\n",
       "      <th>no_transaction</th>\n",
       "    </tr>\n",
       "  </thead>\n",
       "  <tbody>\n",
       "    <tr>\n",
       "      <th>0</th>\n",
       "      <td>C5841053</td>\n",
       "      <td>22.0</td>\n",
       "      <td>0</td>\n",
       "      <td>0</td>\n",
       "      <td>143207</td>\n",
       "      <td>143207</td>\n",
       "      <td>143207.0</td>\n",
       "      <td>143207.0</td>\n",
       "      <td>25.0</td>\n",
       "      <td>25.0</td>\n",
       "      <td>25.0</td>\n",
       "      <td>25.0</td>\n",
       "      <td>17819.05</td>\n",
       "      <td>17819.05</td>\n",
       "      <td>17819.050</td>\n",
       "      <td>17819.050</td>\n",
       "      <td>1</td>\n",
       "    </tr>\n",
       "    <tr>\n",
       "      <th>1</th>\n",
       "      <td>C2142763</td>\n",
       "      <td>59.0</td>\n",
       "      <td>1</td>\n",
       "      <td>0</td>\n",
       "      <td>141858</td>\n",
       "      <td>141858</td>\n",
       "      <td>141858.0</td>\n",
       "      <td>141858.0</td>\n",
       "      <td>27999.0</td>\n",
       "      <td>27999.0</td>\n",
       "      <td>27999.0</td>\n",
       "      <td>27999.0</td>\n",
       "      <td>2270.69</td>\n",
       "      <td>2270.69</td>\n",
       "      <td>2270.690</td>\n",
       "      <td>2270.690</td>\n",
       "      <td>1</td>\n",
       "    </tr>\n",
       "    <tr>\n",
       "      <th>2</th>\n",
       "      <td>C4417068</td>\n",
       "      <td>20.0</td>\n",
       "      <td>0</td>\n",
       "      <td>1</td>\n",
       "      <td>142712</td>\n",
       "      <td>142712</td>\n",
       "      <td>142712.0</td>\n",
       "      <td>142712.0</td>\n",
       "      <td>459.0</td>\n",
       "      <td>459.0</td>\n",
       "      <td>459.0</td>\n",
       "      <td>459.0</td>\n",
       "      <td>17874.44</td>\n",
       "      <td>17874.44</td>\n",
       "      <td>17874.440</td>\n",
       "      <td>17874.440</td>\n",
       "      <td>1</td>\n",
       "    </tr>\n",
       "    <tr>\n",
       "      <th>3</th>\n",
       "      <td>C5342380</td>\n",
       "      <td>43.0</td>\n",
       "      <td>1</td>\n",
       "      <td>1</td>\n",
       "      <td>142714</td>\n",
       "      <td>194148</td>\n",
       "      <td>168431.0</td>\n",
       "      <td>168431.0</td>\n",
       "      <td>878.4</td>\n",
       "      <td>2060.0</td>\n",
       "      <td>1469.2</td>\n",
       "      <td>1469.2</td>\n",
       "      <td>3195.78</td>\n",
       "      <td>866503.21</td>\n",
       "      <td>434849.495</td>\n",
       "      <td>434849.495</td>\n",
       "      <td>2</td>\n",
       "    </tr>\n",
       "    <tr>\n",
       "      <th>4</th>\n",
       "      <td>C9031234</td>\n",
       "      <td>28.0</td>\n",
       "      <td>0</td>\n",
       "      <td>0</td>\n",
       "      <td>181156</td>\n",
       "      <td>181156</td>\n",
       "      <td>181156.0</td>\n",
       "      <td>181156.0</td>\n",
       "      <td>1762.5</td>\n",
       "      <td>1762.5</td>\n",
       "      <td>1762.5</td>\n",
       "      <td>1762.5</td>\n",
       "      <td>6714.43</td>\n",
       "      <td>6714.43</td>\n",
       "      <td>6714.430</td>\n",
       "      <td>6714.430</td>\n",
       "      <td>1</td>\n",
       "    </tr>\n",
       "  </tbody>\n",
       "</table>\n",
       "</div>"
      ],
      "text/plain": [
       "  CustomerID   age  sex  big_city  min_transaction_time_minute  \\\n",
       "0   C5841053  22.0    0         0                       143207   \n",
       "1   C2142763  59.0    1         0                       141858   \n",
       "2   C4417068  20.0    0         1                       142712   \n",
       "3   C5342380  43.0    1         1                       142714   \n",
       "4   C9031234  28.0    0         0                       181156   \n",
       "\n",
       "   max_transaction_time_minute  med_transaction_time_minute  \\\n",
       "0                       143207                     143207.0   \n",
       "1                       141858                     141858.0   \n",
       "2                       142712                     142712.0   \n",
       "3                       194148                     168431.0   \n",
       "4                       181156                     181156.0   \n",
       "\n",
       "   avg_transaction_time_minute  min_transaction_amount  \\\n",
       "0                     143207.0                    25.0   \n",
       "1                     141858.0                 27999.0   \n",
       "2                     142712.0                   459.0   \n",
       "3                     168431.0                   878.4   \n",
       "4                     181156.0                  1762.5   \n",
       "\n",
       "   max_transaction_amount  med_transaction_amount  avg_transaction_amount  \\\n",
       "0                    25.0                    25.0                    25.0   \n",
       "1                 27999.0                 27999.0                 27999.0   \n",
       "2                   459.0                   459.0                   459.0   \n",
       "3                  2060.0                  1469.2                  1469.2   \n",
       "4                  1762.5                  1762.5                  1762.5   \n",
       "\n",
       "   min_balance_amount  max_balance_amount  med_balance_amount  \\\n",
       "0            17819.05            17819.05           17819.050   \n",
       "1             2270.69             2270.69            2270.690   \n",
       "2            17874.44            17874.44           17874.440   \n",
       "3             3195.78           866503.21          434849.495   \n",
       "4             6714.43             6714.43            6714.430   \n",
       "\n",
       "   avg_balance_amount  no_transaction  \n",
       "0           17819.050               1  \n",
       "1            2270.690               1  \n",
       "2           17874.440               1  \n",
       "3          434849.495               2  \n",
       "4            6714.430               1  "
      ]
     },
     "execution_count": 235,
     "metadata": {},
     "output_type": "execute_result"
    }
   ],
   "source": [
    "df.head()"
   ]
  },
  {
   "cell_type": "code",
   "execution_count": 236,
   "metadata": {},
   "outputs": [
    {
     "name": "stdout",
     "output_type": "stream",
     "text": [
      "<class 'pandas.core.frame.DataFrame'>\n",
      "Int64Index: 879358 entries, 0 to 879357\n",
      "Data columns (total 17 columns):\n",
      " #   Column                       Non-Null Count   Dtype  \n",
      "---  ------                       --------------   -----  \n",
      " 0   CustomerID                   879358 non-null  object \n",
      " 1   age                          879358 non-null  float64\n",
      " 2   sex                          879358 non-null  int64  \n",
      " 3   big_city                     879358 non-null  int64  \n",
      " 4   min_transaction_time_minute  879358 non-null  int64  \n",
      " 5   max_transaction_time_minute  879358 non-null  int64  \n",
      " 6   med_transaction_time_minute  879358 non-null  float64\n",
      " 7   avg_transaction_time_minute  879358 non-null  float64\n",
      " 8   min_transaction_amount       879358 non-null  float64\n",
      " 9   max_transaction_amount       879358 non-null  float64\n",
      " 10  med_transaction_amount       879358 non-null  float64\n",
      " 11  avg_transaction_amount       879358 non-null  float64\n",
      " 12  min_balance_amount           879358 non-null  float64\n",
      " 13  max_balance_amount           879358 non-null  float64\n",
      " 14  med_balance_amount           879358 non-null  float64\n",
      " 15  avg_balance_amount           879358 non-null  float64\n",
      " 16  no_transaction               879358 non-null  int64  \n",
      "dtypes: float64(11), int64(5), object(1)\n",
      "memory usage: 120.8+ MB\n"
     ]
    }
   ],
   "source": [
    "df.info()"
   ]
  },
  {
   "cell_type": "code",
   "execution_count": 237,
   "metadata": {},
   "outputs": [
    {
     "data": {
      "text/plain": [
       "Index(['CustomerID', 'age', 'sex', 'big_city', 'min_transaction_time_minute',\n",
       "       'max_transaction_time_minute', 'med_transaction_time_minute',\n",
       "       'avg_transaction_time_minute', 'min_transaction_amount',\n",
       "       'max_transaction_amount', 'med_transaction_amount',\n",
       "       'avg_transaction_amount', 'min_balance_amount', 'max_balance_amount',\n",
       "       'med_balance_amount', 'avg_balance_amount', 'no_transaction'],\n",
       "      dtype='object')"
      ]
     },
     "execution_count": 237,
     "metadata": {},
     "output_type": "execute_result"
    }
   ],
   "source": [
    "df.columns"
   ]
  },
  {
   "cell_type": "code",
   "execution_count": 238,
   "metadata": {},
   "outputs": [],
   "source": [
    "# drop customerID"
   ]
  },
  {
   "cell_type": "code",
   "execution_count": 239,
   "metadata": {},
   "outputs": [],
   "source": [
    "df.drop('CustomerID', axis=1, inplace=True)"
   ]
  },
  {
   "cell_type": "markdown",
   "metadata": {},
   "source": [
    "# 4. EDA"
   ]
  },
  {
   "cell_type": "code",
   "execution_count": 240,
   "metadata": {},
   "outputs": [],
   "source": [
    "# describe"
   ]
  },
  {
   "cell_type": "code",
   "execution_count": 241,
   "metadata": {},
   "outputs": [
    {
     "data": {
      "text/html": [
       "<div>\n",
       "<style scoped>\n",
       "    .dataframe tbody tr th:only-of-type {\n",
       "        vertical-align: middle;\n",
       "    }\n",
       "\n",
       "    .dataframe tbody tr th {\n",
       "        vertical-align: top;\n",
       "    }\n",
       "\n",
       "    .dataframe thead th {\n",
       "        text-align: right;\n",
       "    }\n",
       "</style>\n",
       "<table border=\"1\" class=\"dataframe\">\n",
       "  <thead>\n",
       "    <tr style=\"text-align: right;\">\n",
       "      <th></th>\n",
       "      <th>age</th>\n",
       "      <th>sex</th>\n",
       "      <th>big_city</th>\n",
       "      <th>min_transaction_time_minute</th>\n",
       "      <th>max_transaction_time_minute</th>\n",
       "      <th>med_transaction_time_minute</th>\n",
       "      <th>avg_transaction_time_minute</th>\n",
       "      <th>min_transaction_amount</th>\n",
       "      <th>max_transaction_amount</th>\n",
       "      <th>med_transaction_amount</th>\n",
       "      <th>avg_transaction_amount</th>\n",
       "      <th>min_balance_amount</th>\n",
       "      <th>max_balance_amount</th>\n",
       "      <th>med_balance_amount</th>\n",
       "      <th>avg_balance_amount</th>\n",
       "      <th>no_transaction</th>\n",
       "    </tr>\n",
       "  </thead>\n",
       "  <tbody>\n",
       "    <tr>\n",
       "      <th>count</th>\n",
       "      <td>879358.000000</td>\n",
       "      <td>879358.000000</td>\n",
       "      <td>879358.000000</td>\n",
       "      <td>879358.000000</td>\n",
       "      <td>879358.000000</td>\n",
       "      <td>879358.000000</td>\n",
       "      <td>879358.000000</td>\n",
       "      <td>8.793580e+05</td>\n",
       "      <td>8.793580e+05</td>\n",
       "      <td>8.793580e+05</td>\n",
       "      <td>8.793580e+05</td>\n",
       "      <td>8.793580e+05</td>\n",
       "      <td>8.793580e+05</td>\n",
       "      <td>8.793580e+05</td>\n",
       "      <td>8.793580e+05</td>\n",
       "      <td>879358.000000</td>\n",
       "    </tr>\n",
       "    <tr>\n",
       "      <th>mean</th>\n",
       "      <td>31.866631</td>\n",
       "      <td>0.763298</td>\n",
       "      <td>0.405099</td>\n",
       "      <td>152201.781607</td>\n",
       "      <td>161972.733817</td>\n",
       "      <td>157231.843634</td>\n",
       "      <td>157138.661271</td>\n",
       "      <td>1.374494e+03</td>\n",
       "      <td>1.777779e+03</td>\n",
       "      <td>1.549902e+03</td>\n",
       "      <td>1.566794e+03</td>\n",
       "      <td>9.872483e+04</td>\n",
       "      <td>1.324121e+05</td>\n",
       "      <td>1.131702e+05</td>\n",
       "      <td>1.147150e+05</td>\n",
       "      <td>1.184516</td>\n",
       "    </tr>\n",
       "    <tr>\n",
       "      <th>std</th>\n",
       "      <td>9.207944</td>\n",
       "      <td>0.425058</td>\n",
       "      <td>0.490911</td>\n",
       "      <td>52290.421915</td>\n",
       "      <td>50071.249065</td>\n",
       "      <td>49147.663839</td>\n",
       "      <td>49070.583002</td>\n",
       "      <td>6.243188e+03</td>\n",
       "      <td>7.107524e+03</td>\n",
       "      <td>6.417066e+03</td>\n",
       "      <td>6.433248e+03</td>\n",
       "      <td>7.638731e+05</td>\n",
       "      <td>9.158626e+05</td>\n",
       "      <td>7.989380e+05</td>\n",
       "      <td>8.010838e+05</td>\n",
       "      <td>0.448954</td>\n",
       "    </tr>\n",
       "    <tr>\n",
       "      <th>min</th>\n",
       "      <td>17.000000</td>\n",
       "      <td>0.000000</td>\n",
       "      <td>0.000000</td>\n",
       "      <td>0.000000</td>\n",
       "      <td>0.000000</td>\n",
       "      <td>0.000000</td>\n",
       "      <td>0.000000</td>\n",
       "      <td>0.000000e+00</td>\n",
       "      <td>0.000000e+00</td>\n",
       "      <td>0.000000e+00</td>\n",
       "      <td>0.000000e+00</td>\n",
       "      <td>0.000000e+00</td>\n",
       "      <td>0.000000e+00</td>\n",
       "      <td>0.000000e+00</td>\n",
       "      <td>0.000000e+00</td>\n",
       "      <td>1.000000</td>\n",
       "    </tr>\n",
       "    <tr>\n",
       "      <th>25%</th>\n",
       "      <td>26.000000</td>\n",
       "      <td>1.000000</td>\n",
       "      <td>0.000000</td>\n",
       "      <td>120906.000000</td>\n",
       "      <td>131500.000000</td>\n",
       "      <td>125358.000000</td>\n",
       "      <td>125434.000000</td>\n",
       "      <td>1.301650e+02</td>\n",
       "      <td>2.000000e+02</td>\n",
       "      <td>1.891900e+02</td>\n",
       "      <td>1.908725e+02</td>\n",
       "      <td>3.736700e+03</td>\n",
       "      <td>5.899200e+03</td>\n",
       "      <td>5.507210e+03</td>\n",
       "      <td>5.591270e+03</td>\n",
       "      <td>1.000000</td>\n",
       "    </tr>\n",
       "    <tr>\n",
       "      <th>50%</th>\n",
       "      <td>30.000000</td>\n",
       "      <td>1.000000</td>\n",
       "      <td>0.000000</td>\n",
       "      <td>160051.000000</td>\n",
       "      <td>172339.000000</td>\n",
       "      <td>163686.750000</td>\n",
       "      <td>163548.000000</td>\n",
       "      <td>3.750000e+02</td>\n",
       "      <td>5.000000e+02</td>\n",
       "      <td>4.980000e+02</td>\n",
       "      <td>5.000000e+02</td>\n",
       "      <td>1.379172e+04</td>\n",
       "      <td>2.030827e+04</td>\n",
       "      <td>1.828308e+04</td>\n",
       "      <td>1.866578e+04</td>\n",
       "      <td>1.000000</td>\n",
       "    </tr>\n",
       "    <tr>\n",
       "      <th>75%</th>\n",
       "      <td>35.000000</td>\n",
       "      <td>1.000000</td>\n",
       "      <td>1.000000</td>\n",
       "      <td>193852.000000</td>\n",
       "      <td>201957.000000</td>\n",
       "      <td>194833.000000</td>\n",
       "      <td>194719.000000</td>\n",
       "      <td>1.000000e+03</td>\n",
       "      <td>1.408408e+03</td>\n",
       "      <td>1.215000e+03</td>\n",
       "      <td>1.241000e+03</td>\n",
       "      <td>4.703967e+04</td>\n",
       "      <td>6.939596e+04</td>\n",
       "      <td>6.006058e+04</td>\n",
       "      <td>6.154196e+04</td>\n",
       "      <td>1.000000</td>\n",
       "    </tr>\n",
       "    <tr>\n",
       "      <th>max</th>\n",
       "      <td>116.000000</td>\n",
       "      <td>1.000000</td>\n",
       "      <td>1.000000</td>\n",
       "      <td>235959.000000</td>\n",
       "      <td>235959.000000</td>\n",
       "      <td>235959.000000</td>\n",
       "      <td>235959.000000</td>\n",
       "      <td>1.560035e+06</td>\n",
       "      <td>1.560035e+06</td>\n",
       "      <td>1.560035e+06</td>\n",
       "      <td>1.560035e+06</td>\n",
       "      <td>1.150355e+08</td>\n",
       "      <td>1.150355e+08</td>\n",
       "      <td>1.150355e+08</td>\n",
       "      <td>1.150355e+08</td>\n",
       "      <td>6.000000</td>\n",
       "    </tr>\n",
       "  </tbody>\n",
       "</table>\n",
       "</div>"
      ],
      "text/plain": [
       "                 age            sex       big_city  \\\n",
       "count  879358.000000  879358.000000  879358.000000   \n",
       "mean       31.866631       0.763298       0.405099   \n",
       "std         9.207944       0.425058       0.490911   \n",
       "min        17.000000       0.000000       0.000000   \n",
       "25%        26.000000       1.000000       0.000000   \n",
       "50%        30.000000       1.000000       0.000000   \n",
       "75%        35.000000       1.000000       1.000000   \n",
       "max       116.000000       1.000000       1.000000   \n",
       "\n",
       "       min_transaction_time_minute  max_transaction_time_minute  \\\n",
       "count                879358.000000                879358.000000   \n",
       "mean                 152201.781607                161972.733817   \n",
       "std                   52290.421915                 50071.249065   \n",
       "min                       0.000000                     0.000000   \n",
       "25%                  120906.000000                131500.000000   \n",
       "50%                  160051.000000                172339.000000   \n",
       "75%                  193852.000000                201957.000000   \n",
       "max                  235959.000000                235959.000000   \n",
       "\n",
       "       med_transaction_time_minute  avg_transaction_time_minute  \\\n",
       "count                879358.000000                879358.000000   \n",
       "mean                 157231.843634                157138.661271   \n",
       "std                   49147.663839                 49070.583002   \n",
       "min                       0.000000                     0.000000   \n",
       "25%                  125358.000000                125434.000000   \n",
       "50%                  163686.750000                163548.000000   \n",
       "75%                  194833.000000                194719.000000   \n",
       "max                  235959.000000                235959.000000   \n",
       "\n",
       "       min_transaction_amount  max_transaction_amount  med_transaction_amount  \\\n",
       "count            8.793580e+05            8.793580e+05            8.793580e+05   \n",
       "mean             1.374494e+03            1.777779e+03            1.549902e+03   \n",
       "std              6.243188e+03            7.107524e+03            6.417066e+03   \n",
       "min              0.000000e+00            0.000000e+00            0.000000e+00   \n",
       "25%              1.301650e+02            2.000000e+02            1.891900e+02   \n",
       "50%              3.750000e+02            5.000000e+02            4.980000e+02   \n",
       "75%              1.000000e+03            1.408408e+03            1.215000e+03   \n",
       "max              1.560035e+06            1.560035e+06            1.560035e+06   \n",
       "\n",
       "       avg_transaction_amount  min_balance_amount  max_balance_amount  \\\n",
       "count            8.793580e+05        8.793580e+05        8.793580e+05   \n",
       "mean             1.566794e+03        9.872483e+04        1.324121e+05   \n",
       "std              6.433248e+03        7.638731e+05        9.158626e+05   \n",
       "min              0.000000e+00        0.000000e+00        0.000000e+00   \n",
       "25%              1.908725e+02        3.736700e+03        5.899200e+03   \n",
       "50%              5.000000e+02        1.379172e+04        2.030827e+04   \n",
       "75%              1.241000e+03        4.703967e+04        6.939596e+04   \n",
       "max              1.560035e+06        1.150355e+08        1.150355e+08   \n",
       "\n",
       "       med_balance_amount  avg_balance_amount  no_transaction  \n",
       "count        8.793580e+05        8.793580e+05   879358.000000  \n",
       "mean         1.131702e+05        1.147150e+05        1.184516  \n",
       "std          7.989380e+05        8.010838e+05        0.448954  \n",
       "min          0.000000e+00        0.000000e+00        1.000000  \n",
       "25%          5.507210e+03        5.591270e+03        1.000000  \n",
       "50%          1.828308e+04        1.866578e+04        1.000000  \n",
       "75%          6.006058e+04        6.154196e+04        1.000000  \n",
       "max          1.150355e+08        1.150355e+08        6.000000  "
      ]
     },
     "execution_count": 241,
     "metadata": {},
     "output_type": "execute_result"
    }
   ],
   "source": [
    "df.describe()"
   ]
  },
  {
   "cell_type": "code",
   "execution_count": 242,
   "metadata": {},
   "outputs": [],
   "source": [
    "# correlation matrix"
   ]
  },
  {
   "cell_type": "code",
   "execution_count": 243,
   "metadata": {},
   "outputs": [],
   "source": [
    "corr = df.corr()"
   ]
  },
  {
   "cell_type": "code",
   "execution_count": 244,
   "metadata": {},
   "outputs": [
    {
     "data": {
      "text/plain": [
       "<AxesSubplot:>"
      ]
     },
     "execution_count": 244,
     "metadata": {},
     "output_type": "execute_result"
    },
    {
     "data": {
      "image/png": "[encoded data removed]",
      "text/plain": [
       "<Figure size 1440x360 with 2 Axes>"
      ]
     },
     "metadata": {
      "needs_background": "light"
     },
     "output_type": "display_data"
    }
   ],
   "source": [
    "fig, ax = plt.subplots(figsize=(20, 5))\n",
    "sns.heatmap(corr, annot=True, ax=ax)"
   ]
  },
  {
   "cell_type": "code",
   "execution_count": 245,
   "metadata": {},
   "outputs": [],
   "source": [
    "# distribution"
   ]
  },
  {
   "cell_type": "code",
   "execution_count": 246,
   "metadata": {},
   "outputs": [],
   "source": [
    "feature_cat = ['sex','big_city']\n",
    "feature_num = ['age','min_transaction_time_minute','max_transaction_time_minute' ,'med_transaction_time_minute','avg_transaction_time_minute',\n",
    "               'min_transaction_amount','max_transaction_amount','med_transaction_amount','avg_transaction_amount',\n",
    "               'min_balance_amount','max_balance_amount','med_balance_amount','avg_balance_amount',\n",
    "               'no_transaction']"
   ]
  },
  {
   "cell_type": "code",
   "execution_count": 247,
   "metadata": {},
   "outputs": [
    {
     "data": {
      "image/png": "[encoded data removed]",
      "text/plain": [
       "<Figure size 576x288 with 1 Axes>"
      ]
     },
     "metadata": {
      "needs_background": "light"
     },
     "output_type": "display_data"
    },
    {
     "data": {
      "image/png": "[encoded data removed]",
      "text/plain": [
       "<Figure size 576x288 with 1 Axes>"
      ]
     },
     "metadata": {
      "needs_background": "light"
     },
     "output_type": "display_data"
    }
   ],
   "source": [
    "for col in feature_cat:\n",
    "    df[col].value_counts().plot(kind='bar', figsize=(8, 4))\n",
    "    plt.title(col + ' Distribution')\n",
    "    plt.xlabel(col)\n",
    "    plt.ylabel('Number of Customers')\n",
    "    plt.show()"
   ]
  },
  {
   "cell_type": "code",
   "execution_count": 248,
   "metadata": {},
   "outputs": [
    {
     "data": {
      "image/png": "[encoded data removed]",
      "text/plain": [
       "<Figure size 576x288 with 1 Axes>"
      ]
     },
     "metadata": {
      "needs_background": "light"
     },
     "output_type": "display_data"
    },
    {
     "data": {
      "image/png": "[encoded data removed]",
      "text/plain": [
       "<Figure size 576x288 with 1 Axes>"
      ]
     },
     "metadata": {
      "needs_background": "light"
     },
     "output_type": "display_data"
    },
    {
     "data": {
      "image/png": "[encoded data removed]",
      "text/plain": [
       "<Figure size 576x288 with 1 Axes>"
      ]
     },
     "metadata": {
      "needs_background": "light"
     },
     "output_type": "display_data"
    },
    {
     "data": {
      "image/png": "[encoded data removed]",
      "text/plain": [
       "<Figure size 576x288 with 1 Axes>"
      ]
     },
     "metadata": {
      "needs_background": "light"
     },
     "output_type": "display_data"
    },
    {
     "data": {
      "image/png": "[encoded data removed]",
      "text/plain": [
       "<Figure size 576x288 with 1 Axes>"
      ]
     },
     "metadata": {
      "needs_background": "light"
     },
     "output_type": "display_data"
    },
    {
     "data": {
      "image/png": "[encoded data removed]",
      "text/plain": [
       "<Figure size 576x288 with 1 Axes>"
      ]
     },
     "metadata": {
      "needs_background": "light"
     },
     "output_type": "display_data"
    },
    {
     "data": {
      "image/png": "[encoded data removed]",
      "text/plain": [
       "<Figure size 576x288 with 1 Axes>"
      ]
     },
     "metadata": {
      "needs_background": "light"
     },
     "output_type": "display_data"
    },
    {
     "data": {
      "image/png": "[encoded data removed]",
      "text/plain": [
       "<Figure size 576x288 with 1 Axes>"
      ]
     },
     "metadata": {
      "needs_background": "light"
     },
     "output_type": "display_data"
    },
    {
     "data": {
      "image/png": "[encoded data removed]",
      "text/plain": [
       "<Figure size 576x288 with 1 Axes>"
      ]
     },
     "metadata": {
      "needs_background": "light"
     },
     "output_type": "display_data"
    },
    {
     "data": {
      "image/png": "[encoded data removed]",
      "text/plain": [
       "<Figure size 576x288 with 1 Axes>"
      ]
     },
     "metadata": {
      "needs_background": "light"
     },
     "output_type": "display_data"
    },
    {
     "data": {
      "image/png": "[encoded data removed]",
      "text/plain": [
       "<Figure size 576x288 with 1 Axes>"
      ]
     },
     "metadata": {
      "needs_background": "light"
     },
     "output_type": "display_data"
    },
    {
     "data": {
      "image/png": "[encoded data removed]",
      "text/plain": [
       "<Figure size 576x288 with 1 Axes>"
      ]
     },
     "metadata": {
      "needs_background": "light"
     },
     "output_type": "display_data"
    },
    {
     "data": {
      "image/png": "[encoded data removed]",
      "text/plain": [
       "<Figure size 576x288 with 1 Axes>"
      ]
     },
     "metadata": {
      "needs_background": "light"
     },
     "output_type": "display_data"
    },
    {
     "data": {
      "image/png": "[encoded data removed]",
      "text/plain": [
       "<Figure size 576x288 with 1 Axes>"
      ]
     },
     "metadata": {
      "needs_background": "light"
     },
     "output_type": "display_data"
    }
   ],
   "source": [
    "for col in feature_num:\n",
    "    df[col].hist(figsize=(8, 4))\n",
    "    plt.title(col + ' Distribution')\n",
    "    plt.xlabel(col)\n",
    "    plt.ylabel('Number of Customers')\n",
    "    plt.show()"
   ]
  },
  {
   "cell_type": "code",
   "execution_count": 249,
   "metadata": {},
   "outputs": [],
   "source": [
    "# Distrubution of mean, max, med, and avg are the same; that means we can use only one of them in the model.\n",
    "# https://stats.stackexchange.com/questions/68291/is-it-ok-to-use-correlated-variables-for-cluster-analysis"
   ]
  },
  {
   "cell_type": "code",
   "execution_count": 250,
   "metadata": {},
   "outputs": [],
   "source": [
    "col = ['age', 'sex', 'big_city', 'med_transaction_time_minute',\n",
    "       'med_transaction_amount', 'med_balance_amount', 'no_transaction']"
   ]
  },
  {
   "cell_type": "code",
   "execution_count": 251,
   "metadata": {},
   "outputs": [],
   "source": [
    "df = df[col]"
   ]
  },
  {
   "cell_type": "code",
   "execution_count": 252,
   "metadata": {},
   "outputs": [
    {
     "data": {
      "text/plain": [
       "Index(['age', 'sex', 'big_city', 'med_transaction_time_minute',\n",
       "       'med_transaction_amount', 'med_balance_amount', 'no_transaction'],\n",
       "      dtype='object')"
      ]
     },
     "execution_count": 252,
     "metadata": {},
     "output_type": "execute_result"
    }
   ],
   "source": [
    "df.columns"
   ]
  },
  {
   "cell_type": "markdown",
   "metadata": {},
   "source": [
    "# 5. Model"
   ]
  },
  {
   "cell_type": "code",
   "execution_count": 253,
   "metadata": {},
   "outputs": [],
   "source": [
    "# normalized"
   ]
  },
  {
   "cell_type": "code",
   "execution_count": 254,
   "metadata": {},
   "outputs": [],
   "source": [
    "scaler = MinMaxScaler()"
   ]
  },
  {
   "cell_type": "code",
   "execution_count": 255,
   "metadata": {},
   "outputs": [],
   "source": [
    "df_scaled = scaler.fit_transform(df)"
   ]
  },
  {
   "cell_type": "code",
   "execution_count": 256,
   "metadata": {},
   "outputs": [],
   "source": [
    "# kmean"
   ]
  },
  {
   "cell_type": "code",
   "execution_count": 257,
   "metadata": {},
   "outputs": [],
   "source": [
    "sse = []"
   ]
  },
  {
   "cell_type": "code",
   "execution_count": 258,
   "metadata": {},
   "outputs": [],
   "source": [
    "list_k = list(range(1, 11))"
   ]
  },
  {
   "cell_type": "code",
   "execution_count": 259,
   "metadata": {},
   "outputs": [],
   "source": [
    "for k in list_k:\n",
    "    km = KMeans(n_clusters=k)\n",
    "    km.fit(df_scaled)\n",
    "    sse.append(km.inertia_)"
   ]
  },
  {
   "cell_type": "code",
   "execution_count": 260,
   "metadata": {},
   "outputs": [
    {
     "data": {
      "image/png": "[encoded data removed]",
      "text/plain": [
       "<Figure size 576x288 with 1 Axes>"
      ]
     },
     "metadata": {
      "needs_background": "light"
     },
     "output_type": "display_data"
    }
   ],
   "source": [
    "plt.figure(figsize=(8, 4))\n",
    "plt.plot(list_k, sse, '-o')\n",
    "plt.xlabel('Number of clusters k')\n",
    "plt.ylabel('Sum of squared distance')\n",
    "plt.show()"
   ]
  },
  {
   "cell_type": "code",
   "execution_count": 261,
   "metadata": {},
   "outputs": [],
   "source": [
    "# choose K = 4"
   ]
  },
  {
   "cell_type": "code",
   "execution_count": 262,
   "metadata": {},
   "outputs": [],
   "source": [
    "km_4 = KMeans(n_clusters=4)"
   ]
  },
  {
   "cell_type": "code",
   "execution_count": 263,
   "metadata": {},
   "outputs": [
    {
     "data": {
      "text/plain": [
       "KMeans(n_clusters=4)"
      ]
     },
     "execution_count": 263,
     "metadata": {},
     "output_type": "execute_result"
    }
   ],
   "source": [
    "km_4.fit(df_scaled)"
   ]
  },
  {
   "cell_type": "code",
   "execution_count": 264,
   "metadata": {},
   "outputs": [],
   "source": [
    "# predict"
   ]
  },
  {
   "cell_type": "code",
   "execution_count": 265,
   "metadata": {},
   "outputs": [
    {
     "name": "stderr",
     "output_type": "stream",
     "text": [
      "C:\\Users\\peerapat\\AppData\\Local\\Temp/ipykernel_12464/39678138.py:1: SettingWithCopyWarning: \n",
      "A value is trying to be set on a copy of a slice from a DataFrame.\n",
      "Try using .loc[row_indexer,col_indexer] = value instead\n",
      "\n",
      "See the caveats in the documentation: https://pandas.pydata.org/pandas-docs/stable/user_guide/indexing.html#returning-a-view-versus-a-copy\n",
      "  df['segment'] = km_4.predict(df_scaled)\n"
     ]
    }
   ],
   "source": [
    "df['segment'] = km_4.predict(df_scaled)"
   ]
  },
  {
   "cell_type": "code",
   "execution_count": 266,
   "metadata": {},
   "outputs": [
    {
     "data": {
      "text/html": [
       "<div>\n",
       "<style scoped>\n",
       "    .dataframe tbody tr th:only-of-type {\n",
       "        vertical-align: middle;\n",
       "    }\n",
       "\n",
       "    .dataframe tbody tr th {\n",
       "        vertical-align: top;\n",
       "    }\n",
       "\n",
       "    .dataframe thead th {\n",
       "        text-align: right;\n",
       "    }\n",
       "</style>\n",
       "<table border=\"1\" class=\"dataframe\">\n",
       "  <thead>\n",
       "    <tr style=\"text-align: right;\">\n",
       "      <th></th>\n",
       "      <th>age</th>\n",
       "      <th>sex</th>\n",
       "      <th>big_city</th>\n",
       "      <th>med_transaction_time_minute</th>\n",
       "      <th>med_transaction_amount</th>\n",
       "      <th>med_balance_amount</th>\n",
       "      <th>no_transaction</th>\n",
       "      <th>segment</th>\n",
       "    </tr>\n",
       "  </thead>\n",
       "  <tbody>\n",
       "    <tr>\n",
       "      <th>0</th>\n",
       "      <td>22.0</td>\n",
       "      <td>0</td>\n",
       "      <td>0</td>\n",
       "      <td>143207.0</td>\n",
       "      <td>25.0</td>\n",
       "      <td>17819.050</td>\n",
       "      <td>1</td>\n",
       "      <td>1</td>\n",
       "    </tr>\n",
       "    <tr>\n",
       "      <th>1</th>\n",
       "      <td>59.0</td>\n",
       "      <td>1</td>\n",
       "      <td>0</td>\n",
       "      <td>141858.0</td>\n",
       "      <td>27999.0</td>\n",
       "      <td>2270.690</td>\n",
       "      <td>1</td>\n",
       "      <td>2</td>\n",
       "    </tr>\n",
       "    <tr>\n",
       "      <th>2</th>\n",
       "      <td>20.0</td>\n",
       "      <td>0</td>\n",
       "      <td>1</td>\n",
       "      <td>142712.0</td>\n",
       "      <td>459.0</td>\n",
       "      <td>17874.440</td>\n",
       "      <td>1</td>\n",
       "      <td>3</td>\n",
       "    </tr>\n",
       "    <tr>\n",
       "      <th>3</th>\n",
       "      <td>43.0</td>\n",
       "      <td>1</td>\n",
       "      <td>1</td>\n",
       "      <td>168431.0</td>\n",
       "      <td>1469.2</td>\n",
       "      <td>434849.495</td>\n",
       "      <td>2</td>\n",
       "      <td>0</td>\n",
       "    </tr>\n",
       "    <tr>\n",
       "      <th>4</th>\n",
       "      <td>28.0</td>\n",
       "      <td>0</td>\n",
       "      <td>0</td>\n",
       "      <td>181156.0</td>\n",
       "      <td>1762.5</td>\n",
       "      <td>6714.430</td>\n",
       "      <td>1</td>\n",
       "      <td>1</td>\n",
       "    </tr>\n",
       "  </tbody>\n",
       "</table>\n",
       "</div>"
      ],
      "text/plain": [
       "    age  sex  big_city  med_transaction_time_minute  med_transaction_amount  \\\n",
       "0  22.0    0         0                     143207.0                    25.0   \n",
       "1  59.0    1         0                     141858.0                 27999.0   \n",
       "2  20.0    0         1                     142712.0                   459.0   \n",
       "3  43.0    1         1                     168431.0                  1469.2   \n",
       "4  28.0    0         0                     181156.0                  1762.5   \n",
       "\n",
       "   med_balance_amount  no_transaction  segment  \n",
       "0           17819.050               1        1  \n",
       "1            2270.690               1        2  \n",
       "2           17874.440               1        3  \n",
       "3          434849.495               2        0  \n",
       "4            6714.430               1        1  "
      ]
     },
     "execution_count": 266,
     "metadata": {},
     "output_type": "execute_result"
    }
   ],
   "source": [
    "df.head()"
   ]
  },
  {
   "cell_type": "markdown",
   "metadata": {},
   "source": [
    "# 6. Result"
   ]
  },
  {
   "cell_type": "code",
   "execution_count": 267,
   "metadata": {},
   "outputs": [],
   "source": [
    "# mean of attributes"
   ]
  },
  {
   "cell_type": "code",
   "execution_count": 268,
   "metadata": {},
   "outputs": [
    {
     "data": {
      "text/html": [
       "<div>\n",
       "<style scoped>\n",
       "    .dataframe tbody tr th:only-of-type {\n",
       "        vertical-align: middle;\n",
       "    }\n",
       "\n",
       "    .dataframe tbody tr th {\n",
       "        vertical-align: top;\n",
       "    }\n",
       "\n",
       "    .dataframe thead th {\n",
       "        text-align: right;\n",
       "    }\n",
       "</style>\n",
       "<table border=\"1\" class=\"dataframe\">\n",
       "  <thead>\n",
       "    <tr style=\"text-align: right;\">\n",
       "      <th></th>\n",
       "      <th>age</th>\n",
       "      <th>sex</th>\n",
       "      <th>big_city</th>\n",
       "      <th>med_transaction_time_minute</th>\n",
       "      <th>med_transaction_amount</th>\n",
       "      <th>med_balance_amount</th>\n",
       "      <th>no_transaction</th>\n",
       "    </tr>\n",
       "    <tr>\n",
       "      <th>segment</th>\n",
       "      <th></th>\n",
       "      <th></th>\n",
       "      <th></th>\n",
       "      <th></th>\n",
       "      <th></th>\n",
       "      <th></th>\n",
       "      <th></th>\n",
       "    </tr>\n",
       "  </thead>\n",
       "  <tbody>\n",
       "    <tr>\n",
       "      <th>0</th>\n",
       "      <td>32.932420</td>\n",
       "      <td>1.0</td>\n",
       "      <td>1.0</td>\n",
       "      <td>157523.826174</td>\n",
       "      <td>1555.939832</td>\n",
       "      <td>117688.408131</td>\n",
       "      <td>1.354916</td>\n",
       "    </tr>\n",
       "    <tr>\n",
       "      <th>1</th>\n",
       "      <td>30.653708</td>\n",
       "      <td>0.0</td>\n",
       "      <td>0.0</td>\n",
       "      <td>159510.867392</td>\n",
       "      <td>1611.021253</td>\n",
       "      <td>109767.188860</td>\n",
       "      <td>1.027040</td>\n",
       "    </tr>\n",
       "    <tr>\n",
       "      <th>2</th>\n",
       "      <td>31.672511</td>\n",
       "      <td>1.0</td>\n",
       "      <td>0.0</td>\n",
       "      <td>155699.101728</td>\n",
       "      <td>1497.274244</td>\n",
       "      <td>111748.370895</td>\n",
       "      <td>1.139888</td>\n",
       "    </tr>\n",
       "    <tr>\n",
       "      <th>3</th>\n",
       "      <td>31.127935</td>\n",
       "      <td>0.0</td>\n",
       "      <td>1.0</td>\n",
       "      <td>160198.550874</td>\n",
       "      <td>1689.959534</td>\n",
       "      <td>110314.760851</td>\n",
       "      <td>1.077138</td>\n",
       "    </tr>\n",
       "  </tbody>\n",
       "</table>\n",
       "</div>"
      ],
      "text/plain": [
       "               age  sex  big_city  med_transaction_time_minute  \\\n",
       "segment                                                          \n",
       "0        32.932420  1.0       1.0                157523.826174   \n",
       "1        30.653708  0.0       0.0                159510.867392   \n",
       "2        31.672511  1.0       0.0                155699.101728   \n",
       "3        31.127935  0.0       1.0                160198.550874   \n",
       "\n",
       "         med_transaction_amount  med_balance_amount  no_transaction  \n",
       "segment                                                              \n",
       "0                   1555.939832       117688.408131        1.354916  \n",
       "1                   1611.021253       109767.188860        1.027040  \n",
       "2                   1497.274244       111748.370895        1.139888  \n",
       "3                   1689.959534       110314.760851        1.077138  "
      ]
     },
     "execution_count": 268,
     "metadata": {},
     "output_type": "execute_result"
    }
   ],
   "source": [
    "df.groupby('segment').mean()"
   ]
  },
  {
   "cell_type": "code",
   "execution_count": 269,
   "metadata": {},
   "outputs": [
    {
     "data": {
      "text/html": [
       "<div>\n",
       "<style scoped>\n",
       "    .dataframe tbody tr th:only-of-type {\n",
       "        vertical-align: middle;\n",
       "    }\n",
       "\n",
       "    .dataframe tbody tr th {\n",
       "        vertical-align: top;\n",
       "    }\n",
       "\n",
       "    .dataframe thead th {\n",
       "        text-align: right;\n",
       "    }\n",
       "</style>\n",
       "<table border=\"1\" class=\"dataframe\">\n",
       "  <thead>\n",
       "    <tr style=\"text-align: right;\">\n",
       "      <th></th>\n",
       "      <th>age</th>\n",
       "      <th>sex</th>\n",
       "      <th>big_city</th>\n",
       "      <th>med_transaction_time_minute</th>\n",
       "      <th>med_transaction_amount</th>\n",
       "      <th>med_balance_amount</th>\n",
       "      <th>no_transaction</th>\n",
       "    </tr>\n",
       "    <tr>\n",
       "      <th>segment</th>\n",
       "      <th></th>\n",
       "      <th></th>\n",
       "      <th></th>\n",
       "      <th></th>\n",
       "      <th></th>\n",
       "      <th></th>\n",
       "      <th></th>\n",
       "    </tr>\n",
       "  </thead>\n",
       "  <tbody>\n",
       "    <tr>\n",
       "      <th>0</th>\n",
       "      <td>272157</td>\n",
       "      <td>272157</td>\n",
       "      <td>272157</td>\n",
       "      <td>272157</td>\n",
       "      <td>272157</td>\n",
       "      <td>272157</td>\n",
       "      <td>272157</td>\n",
       "    </tr>\n",
       "    <tr>\n",
       "      <th>1</th>\n",
       "      <td>124076</td>\n",
       "      <td>124076</td>\n",
       "      <td>124076</td>\n",
       "      <td>124076</td>\n",
       "      <td>124076</td>\n",
       "      <td>124076</td>\n",
       "      <td>124076</td>\n",
       "    </tr>\n",
       "    <tr>\n",
       "      <th>2</th>\n",
       "      <td>399055</td>\n",
       "      <td>399055</td>\n",
       "      <td>399055</td>\n",
       "      <td>399055</td>\n",
       "      <td>399055</td>\n",
       "      <td>399055</td>\n",
       "      <td>399055</td>\n",
       "    </tr>\n",
       "    <tr>\n",
       "      <th>3</th>\n",
       "      <td>84070</td>\n",
       "      <td>84070</td>\n",
       "      <td>84070</td>\n",
       "      <td>84070</td>\n",
       "      <td>84070</td>\n",
       "      <td>84070</td>\n",
       "      <td>84070</td>\n",
       "    </tr>\n",
       "  </tbody>\n",
       "</table>\n",
       "</div>"
      ],
      "text/plain": [
       "            age     sex  big_city  med_transaction_time_minute  \\\n",
       "segment                                                          \n",
       "0        272157  272157    272157                       272157   \n",
       "1        124076  124076    124076                       124076   \n",
       "2        399055  399055    399055                       399055   \n",
       "3         84070   84070     84070                        84070   \n",
       "\n",
       "         med_transaction_amount  med_balance_amount  no_transaction  \n",
       "segment                                                              \n",
       "0                        272157              272157          272157  \n",
       "1                        124076              124076          124076  \n",
       "2                        399055              399055          399055  \n",
       "3                         84070               84070           84070  "
      ]
     },
     "execution_count": 269,
     "metadata": {},
     "output_type": "execute_result"
    }
   ],
   "source": [
    "df.groupby('segment').count()"
   ]
  },
  {
   "cell_type": "code",
   "execution_count": 270,
   "metadata": {},
   "outputs": [
    {
     "data": {
      "text/html": [
       "<div>\n",
       "<style scoped>\n",
       "    .dataframe tbody tr th:only-of-type {\n",
       "        vertical-align: middle;\n",
       "    }\n",
       "\n",
       "    .dataframe tbody tr th {\n",
       "        vertical-align: top;\n",
       "    }\n",
       "\n",
       "    .dataframe thead th {\n",
       "        text-align: right;\n",
       "    }\n",
       "</style>\n",
       "<table border=\"1\" class=\"dataframe\">\n",
       "  <thead>\n",
       "    <tr style=\"text-align: right;\">\n",
       "      <th>segment</th>\n",
       "      <th>0</th>\n",
       "      <th>1</th>\n",
       "      <th>2</th>\n",
       "      <th>3</th>\n",
       "    </tr>\n",
       "  </thead>\n",
       "  <tbody>\n",
       "    <tr>\n",
       "      <th>age</th>\n",
       "      <td>32.932420</td>\n",
       "      <td>30.653708</td>\n",
       "      <td>31.672511</td>\n",
       "      <td>31.127935</td>\n",
       "    </tr>\n",
       "    <tr>\n",
       "      <th>big_city</th>\n",
       "      <td>1.000000</td>\n",
       "      <td>0.000000</td>\n",
       "      <td>0.000000</td>\n",
       "      <td>1.000000</td>\n",
       "    </tr>\n",
       "    <tr>\n",
       "      <th>med_balance_amount</th>\n",
       "      <td>117688.408131</td>\n",
       "      <td>109767.188860</td>\n",
       "      <td>111748.370895</td>\n",
       "      <td>110314.760851</td>\n",
       "    </tr>\n",
       "    <tr>\n",
       "      <th>med_transaction_amount</th>\n",
       "      <td>1555.939832</td>\n",
       "      <td>1611.021253</td>\n",
       "      <td>1497.274244</td>\n",
       "      <td>1689.959534</td>\n",
       "    </tr>\n",
       "    <tr>\n",
       "      <th>med_transaction_time_minute</th>\n",
       "      <td>157523.826174</td>\n",
       "      <td>159510.867392</td>\n",
       "      <td>155699.101728</td>\n",
       "      <td>160198.550874</td>\n",
       "    </tr>\n",
       "    <tr>\n",
       "      <th>no_transaction</th>\n",
       "      <td>1.354916</td>\n",
       "      <td>1.027040</td>\n",
       "      <td>1.139888</td>\n",
       "      <td>1.077138</td>\n",
       "    </tr>\n",
       "    <tr>\n",
       "      <th>sex</th>\n",
       "      <td>1.000000</td>\n",
       "      <td>0.000000</td>\n",
       "      <td>1.000000</td>\n",
       "      <td>0.000000</td>\n",
       "    </tr>\n",
       "  </tbody>\n",
       "</table>\n",
       "</div>"
      ],
      "text/plain": [
       "segment                                  0              1              2  \\\n",
       "age                              32.932420      30.653708      31.672511   \n",
       "big_city                          1.000000       0.000000       0.000000   \n",
       "med_balance_amount           117688.408131  109767.188860  111748.370895   \n",
       "med_transaction_amount         1555.939832    1611.021253    1497.274244   \n",
       "med_transaction_time_minute  157523.826174  159510.867392  155699.101728   \n",
       "no_transaction                    1.354916       1.027040       1.139888   \n",
       "sex                               1.000000       0.000000       1.000000   \n",
       "\n",
       "segment                                  3  \n",
       "age                              31.127935  \n",
       "big_city                          1.000000  \n",
       "med_balance_amount           110314.760851  \n",
       "med_transaction_amount         1689.959534  \n",
       "med_transaction_time_minute  160198.550874  \n",
       "no_transaction                    1.077138  \n",
       "sex                               0.000000  "
      ]
     },
     "execution_count": 270,
     "metadata": {},
     "output_type": "execute_result"
    }
   ],
   "source": [
    "df.groupby('segment').mean().pivot_table(index=None, columns='segment')"
   ]
  },
  {
   "cell_type": "markdown",
   "metadata": {},
   "source": [
    "# 7. PCA"
   ]
  },
  {
   "cell_type": "code",
   "execution_count": 271,
   "metadata": {},
   "outputs": [],
   "source": [
    "X = df.drop(columns=[\"segment\"])"
   ]
  },
  {
   "cell_type": "code",
   "execution_count": 272,
   "metadata": {},
   "outputs": [],
   "source": [
    "scaler_pca = StandardScaler()\n",
    "X_scaled = scaler_pca.fit_transform(X)"
   ]
  },
  {
   "cell_type": "code",
   "execution_count": 273,
   "metadata": {},
   "outputs": [],
   "source": [
    "pca = PCA(n_components=2)\n",
    "X_pca = pca.fit_transform(X_scaled)"
   ]
  },
  {
   "cell_type": "code",
   "execution_count": 274,
   "metadata": {},
   "outputs": [
    {
     "name": "stderr",
     "output_type": "stream",
     "text": [
      "C:\\Users\\peerapat\\AppData\\Local\\Temp/ipykernel_12464/1455386738.py:1: SettingWithCopyWarning: \n",
      "A value is trying to be set on a copy of a slice from a DataFrame.\n",
      "Try using .loc[row_indexer,col_indexer] = value instead\n",
      "\n",
      "See the caveats in the documentation: https://pandas.pydata.org/pandas-docs/stable/user_guide/indexing.html#returning-a-view-versus-a-copy\n",
      "  df[\"PCA1\"] = X_pca[:, 0]\n",
      "C:\\Users\\peerapat\\AppData\\Local\\Temp/ipykernel_12464/1455386738.py:2: SettingWithCopyWarning: \n",
      "A value is trying to be set on a copy of a slice from a DataFrame.\n",
      "Try using .loc[row_indexer,col_indexer] = value instead\n",
      "\n",
      "See the caveats in the documentation: https://pandas.pydata.org/pandas-docs/stable/user_guide/indexing.html#returning-a-view-versus-a-copy\n",
      "  df[\"PCA2\"] = X_pca[:, 1]\n"
     ]
    }
   ],
   "source": [
    "df[\"PCA1\"] = X_pca[:, 0]\n",
    "df[\"PCA2\"] = X_pca[:, 1]"
   ]
  },
  {
   "cell_type": "code",
   "execution_count": 277,
   "metadata": {},
   "outputs": [
    {
     "data": {
      "image/png": "[encoded data removed]",
      "text/plain": [
       "<Figure size 288x288 with 1 Axes>"
      ]
     },
     "metadata": {
      "needs_background": "light"
     },
     "output_type": "display_data"
    }
   ],
   "source": [
    "fig, ax = plt.subplots(figsize=(4, 4))\n",
    "\n",
    "for segment in df[\"segment\"].unique():\n",
    "    segment_data = df[df[\"segment\"] == segment]\n",
    "    ax.scatter(segment_data[\"PCA1\"], segment_data[\"PCA2\"], label=f\"Segment {segment}\")\n",
    "\n",
    "ax.set_xlabel(\"PCA 1\")\n",
    "ax.set_ylabel(\"PCA 2\")\n",
    "ax.set_title(\"PCA 2D Plot with Segment Coloring\")\n",
    "ax.legend()\n",
    "plt.show()"
   ]
  }
 ],
 "metadata": {
  "kernelspec": {
   "display_name": "base",
   "language": "python",
   "name": "python3"
  },
  "language_info": {
   "codemirror_mode": {
    "name": "ipython",
    "version": 3
   },
   "file_extension": ".py",
   "mimetype": "text/x-python",
   "name": "python",
   "nbconvert_exporter": "python",
   "pygments_lexer": "ipython3",
   "version": "3.9.7"
  },
  "orig_nbformat": 4
 },
 "nbformat": 4,
 "nbformat_minor": 2
}
